{
 "cells": [
  {
   "cell_type": "markdown",
   "id": "c1d33b23",
   "metadata": {
    "papermill": {
     "duration": 0.019917,
     "end_time": "2023-05-06T16:23:11.429732",
     "exception": false,
     "start_time": "2023-05-06T16:23:11.409815",
     "status": "completed"
    },
    "tags": []
   },
   "source": [
    "# Configuration"
   ]
  },
  {
   "cell_type": "code",
   "execution_count": 1,
   "id": "08cd774d",
   "metadata": {
    "execution": {
     "iopub.execute_input": "2023-05-06T16:23:11.470439Z",
     "iopub.status.busy": "2023-05-06T16:23:11.469968Z",
     "iopub.status.idle": "2023-05-06T16:23:11.476003Z",
     "shell.execute_reply": "2023-05-06T16:23:11.474956Z"
    },
    "papermill": {
     "duration": 0.028566,
     "end_time": "2023-05-06T16:23:11.478281",
     "exception": false,
     "start_time": "2023-05-06T16:23:11.449715",
     "status": "completed"
    },
    "tags": []
   },
   "outputs": [],
   "source": [
    "#!pip install tensorflow-addons"
   ]
  },
  {
   "cell_type": "code",
   "execution_count": 2,
   "id": "02bda3d7",
   "metadata": {
    "execution": {
     "iopub.execute_input": "2023-05-06T16:23:11.515680Z",
     "iopub.status.busy": "2023-05-06T16:23:11.515116Z",
     "iopub.status.idle": "2023-05-06T16:23:11.524103Z",
     "shell.execute_reply": "2023-05-06T16:23:11.523202Z"
    },
    "papermill": {
     "duration": 0.029922,
     "end_time": "2023-05-06T16:23:11.526255",
     "exception": false,
     "start_time": "2023-05-06T16:23:11.496333",
     "status": "completed"
    },
    "tags": []
   },
   "outputs": [],
   "source": [
    "class CFG:\n",
    "    aggregation_data_path = \"../input/isolated-sign-language-aggregation-dataset/\"\n",
    "    data_path = \"../input/asl-signs/\"\n",
    "    pred_model = '../input/sign-language-prediction-model/'\n",
    "    make_featuregen = False\n",
    "    quick_experiment = False\n",
    "    kfold_training = False\n",
    "    DROP_Z = False\n",
    "    is_training = False\n",
    "    make_aggregation_dataset = False\n",
    "    num_classes = 250\n",
    "    rows_per_frame = 543 "
   ]
  },
  {
   "cell_type": "markdown",
   "id": "4ac34f8a",
   "metadata": {
    "papermill": {
     "duration": 0.017675,
     "end_time": "2023-05-06T16:23:11.561618",
     "exception": false,
     "start_time": "2023-05-06T16:23:11.543943",
     "status": "completed"
    },
    "tags": []
   },
   "source": [
    "# Import Packages"
   ]
  },
  {
   "cell_type": "code",
   "execution_count": 3,
   "id": "f69f57c4",
   "metadata": {
    "execution": {
     "iopub.execute_input": "2023-05-06T16:23:11.599221Z",
     "iopub.status.busy": "2023-05-06T16:23:11.598958Z",
     "iopub.status.idle": "2023-05-06T16:23:19.534620Z",
     "shell.execute_reply": "2023-05-06T16:23:19.533508Z"
    },
    "papermill": {
     "duration": 7.957469,
     "end_time": "2023-05-06T16:23:19.537292",
     "exception": false,
     "start_time": "2023-05-06T16:23:11.579823",
     "status": "completed"
    },
    "tags": []
   },
   "outputs": [],
   "source": [
    "import numpy as np\n",
    "import pandas as pd\n",
    "import tensorflow as tf\n",
    "from tqdm.notebook import tqdm\n",
    "import json\n",
    "import os\n",
    "import gc\n",
    "import tensorflow_addons as tfa\n",
    "from sklearn.model_selection import train_test_split\n",
    "from sklearn.model_selection import KFold\n",
    "from sklearn.model_selection import GroupKFold\n",
    "from sklearn.model_selection import StratifiedGroupKFold\n",
    "from types import SimpleNamespace\n",
    "from types import SimpleNamespace\n",
    "from pathlib import Path\n",
    "import math\n",
    "import scipy\n",
    "import matplotlib.pyplot as plt\n",
    "\n",
    "\n",
    "#LANDMARK_IDX = [0,9,11,13,14,17,117,118,119,199,346,347,348] + list(range(468,543))"
   ]
  },
  {
   "cell_type": "markdown",
   "id": "e6461c07",
   "metadata": {
    "papermill": {
     "duration": 0.018143,
     "end_time": "2023-05-06T16:23:19.574175",
     "exception": false,
     "start_time": "2023-05-06T16:23:19.556032",
     "status": "completed"
    },
    "tags": []
   },
   "source": [
    "# Utilities"
   ]
  },
  {
   "cell_type": "code",
   "execution_count": 4,
   "id": "db07439e",
   "metadata": {
    "execution": {
     "iopub.execute_input": "2023-05-06T16:23:19.611765Z",
     "iopub.status.busy": "2023-05-06T16:23:19.611119Z",
     "iopub.status.idle": "2023-05-06T16:23:19.620476Z",
     "shell.execute_reply": "2023-05-06T16:23:19.619359Z"
    },
    "papermill": {
     "duration": 0.030646,
     "end_time": "2023-05-06T16:23:19.622707",
     "exception": false,
     "start_time": "2023-05-06T16:23:19.592061",
     "status": "completed"
    },
    "tags": []
   },
   "outputs": [],
   "source": [
    "def load_relevant_data_subset_with_imputation(pq_path):\n",
    "    data_columns = ['landmark_index','x', 'y', 'z']\n",
    "    data = pd.read_parquet(pq_path, columns=data_columns)\n",
    "    data['landmark_index'] = list(range(0,543))*int(len(data) / CFG.rows_per_frame)\n",
    "    data.replace(np.nan, 0, inplace=True)\n",
    "    data.drop(data[~data['landmark_index'].isin(LANDMARK_IDX)].index, inplace=True)\n",
    "    data = data.drop('landmark_index', axis=1)\n",
    "    n_frames = int(len(data) / len(LANDMARK_IDX))\n",
    "    data = data.values.reshape(n_frames, len(LANDMARK_IDX), 3)\n",
    "    return data.astype(np.float32)\n",
    "\n",
    "def load_relevant_data_subset(pq_path):\n",
    "    data_columns = ['x', 'y', 'z']\n",
    "    data = pd.read_parquet(pq_path, columns=data_columns)\n",
    "    n_frames = int(len(data) / CFG.rows_per_frame)\n",
    "    data = data.values.reshape(n_frames, CFG.rows_per_frame, len(data_columns))\n",
    "    return data.astype(np.float32)\n",
    "\n",
    "def read_dict(file_path):\n",
    "    path = os.path.expanduser(file_path)\n",
    "    with open(path, \"r\") as f:\n",
    "        dic = json.load(f)\n",
    "    return dic"
   ]
  },
  {
   "cell_type": "markdown",
   "id": "38487a7d",
   "metadata": {
    "papermill": {
     "duration": 0.01816,
     "end_time": "2023-05-06T16:23:19.659452",
     "exception": false,
     "start_time": "2023-05-06T16:23:19.641292",
     "status": "completed"
    },
    "tags": []
   },
   "source": [
    "# Load data"
   ]
  },
  {
   "cell_type": "code",
   "execution_count": 5,
   "id": "37ac9c34",
   "metadata": {
    "execution": {
     "iopub.execute_input": "2023-05-06T16:23:19.696966Z",
     "iopub.status.busy": "2023-05-06T16:23:19.696646Z",
     "iopub.status.idle": "2023-05-06T16:23:19.999816Z",
     "shell.execute_reply": "2023-05-06T16:23:19.998860Z"
    },
    "papermill": {
     "duration": 0.324977,
     "end_time": "2023-05-06T16:23:20.002384",
     "exception": false,
     "start_time": "2023-05-06T16:23:19.677407",
     "status": "completed"
    },
    "tags": []
   },
   "outputs": [
    {
     "data": {
      "text/html": [
       "<div>\n",
       "<style scoped>\n",
       "    .dataframe tbody tr th:only-of-type {\n",
       "        vertical-align: middle;\n",
       "    }\n",
       "\n",
       "    .dataframe tbody tr th {\n",
       "        vertical-align: top;\n",
       "    }\n",
       "\n",
       "    .dataframe thead th {\n",
       "        text-align: right;\n",
       "    }\n",
       "</style>\n",
       "<table border=\"1\" class=\"dataframe\">\n",
       "  <thead>\n",
       "    <tr style=\"text-align: right;\">\n",
       "      <th></th>\n",
       "      <th>path</th>\n",
       "      <th>participant_id</th>\n",
       "      <th>sequence_id</th>\n",
       "      <th>sign</th>\n",
       "      <th>label</th>\n",
       "      <th>num_frames</th>\n",
       "    </tr>\n",
       "  </thead>\n",
       "  <tbody>\n",
       "    <tr>\n",
       "      <th>0</th>\n",
       "      <td>train_landmark_files/26734/1000035562.parquet</td>\n",
       "      <td>26734</td>\n",
       "      <td>1000035562</td>\n",
       "      <td>blow</td>\n",
       "      <td>25</td>\n",
       "      <td>23.0</td>\n",
       "    </tr>\n",
       "    <tr>\n",
       "      <th>1</th>\n",
       "      <td>train_landmark_files/28656/1000106739.parquet</td>\n",
       "      <td>28656</td>\n",
       "      <td>1000106739</td>\n",
       "      <td>wait</td>\n",
       "      <td>232</td>\n",
       "      <td>11.0</td>\n",
       "    </tr>\n",
       "    <tr>\n",
       "      <th>2</th>\n",
       "      <td>train_landmark_files/16069/100015657.parquet</td>\n",
       "      <td>16069</td>\n",
       "      <td>100015657</td>\n",
       "      <td>cloud</td>\n",
       "      <td>48</td>\n",
       "      <td>105.0</td>\n",
       "    </tr>\n",
       "    <tr>\n",
       "      <th>3</th>\n",
       "      <td>train_landmark_files/25571/1000210073.parquet</td>\n",
       "      <td>25571</td>\n",
       "      <td>1000210073</td>\n",
       "      <td>bird</td>\n",
       "      <td>23</td>\n",
       "      <td>12.0</td>\n",
       "    </tr>\n",
       "    <tr>\n",
       "      <th>4</th>\n",
       "      <td>train_landmark_files/62590/1000240708.parquet</td>\n",
       "      <td>62590</td>\n",
       "      <td>1000240708</td>\n",
       "      <td>owie</td>\n",
       "      <td>164</td>\n",
       "      <td>18.0</td>\n",
       "    </tr>\n",
       "  </tbody>\n",
       "</table>\n",
       "</div>"
      ],
      "text/plain": [
       "                                            path  participant_id  sequence_id  \\\n",
       "0  train_landmark_files/26734/1000035562.parquet           26734   1000035562   \n",
       "1  train_landmark_files/28656/1000106739.parquet           28656   1000106739   \n",
       "2   train_landmark_files/16069/100015657.parquet           16069    100015657   \n",
       "3  train_landmark_files/25571/1000210073.parquet           25571   1000210073   \n",
       "4  train_landmark_files/62590/1000240708.parquet           62590   1000240708   \n",
       "\n",
       "    sign  label  num_frames  \n",
       "0   blow     25        23.0  \n",
       "1   wait    232        11.0  \n",
       "2  cloud     48       105.0  \n",
       "3   bird     23        12.0  \n",
       "4   owie    164        18.0  "
      ]
     },
     "execution_count": 5,
     "metadata": {},
     "output_type": "execute_result"
    }
   ],
   "source": [
    "train = pd.read_csv(f\"{CFG.aggregation_data_path}train.csv\")\n",
    "train.head()"
   ]
  },
  {
   "cell_type": "markdown",
   "id": "e63d04d6",
   "metadata": {
    "papermill": {
     "duration": 0.018065,
     "end_time": "2023-05-06T16:23:20.039932",
     "exception": false,
     "start_time": "2023-05-06T16:23:20.021867",
     "status": "completed"
    },
    "tags": []
   },
   "source": [
    "There are 21 participants. Each of them create about 3000 to 5000 training records."
   ]
  },
  {
   "cell_type": "code",
   "execution_count": 6,
   "id": "14eb42af",
   "metadata": {
    "execution": {
     "iopub.execute_input": "2023-05-06T16:23:20.079591Z",
     "iopub.status.busy": "2023-05-06T16:23:20.077719Z",
     "iopub.status.idle": "2023-05-06T16:23:20.091641Z",
     "shell.execute_reply": "2023-05-06T16:23:20.090536Z"
    },
    "papermill": {
     "duration": 0.0356,
     "end_time": "2023-05-06T16:23:20.093967",
     "exception": false,
     "start_time": "2023-05-06T16:23:20.058367",
     "status": "completed"
    },
    "tags": []
   },
   "outputs": [
    {
     "data": {
      "text/plain": [
       "21"
      ]
     },
     "execution_count": 6,
     "metadata": {},
     "output_type": "execute_result"
    }
   ],
   "source": [
    "train.participant_id.nunique()"
   ]
  },
  {
   "cell_type": "code",
   "execution_count": 7,
   "id": "85e47e06",
   "metadata": {
    "execution": {
     "iopub.execute_input": "2023-05-06T16:23:20.132039Z",
     "iopub.status.busy": "2023-05-06T16:23:20.131754Z",
     "iopub.status.idle": "2023-05-06T16:23:20.641493Z",
     "shell.execute_reply": "2023-05-06T16:23:20.640398Z"
    },
    "papermill": {
     "duration": 0.531593,
     "end_time": "2023-05-06T16:23:20.643709",
     "exception": false,
     "start_time": "2023-05-06T16:23:20.112116",
     "status": "completed"
    },
    "tags": []
   },
   "outputs": [
    {
     "data": {
      "text/plain": [
       "<AxesSubplot:>"
      ]
     },
     "execution_count": 7,
     "metadata": {},
     "output_type": "execute_result"
    },
    {
     "data": {
      "image/png": "[encoded data removed]",
      "text/plain": [
       "<Figure size 640x480 with 1 Axes>"
      ]
     },
     "metadata": {},
     "output_type": "display_data"
    }
   ],
   "source": [
    "train.participant_id.value_counts().plot(kind=\"bar\")"
   ]
  },
  {
   "cell_type": "markdown",
   "id": "2afad19e",
   "metadata": {
    "papermill": {
     "duration": 0.018755,
     "end_time": "2023-05-06T16:23:20.681836",
     "exception": false,
     "start_time": "2023-05-06T16:23:20.663081",
     "status": "completed"
    },
    "tags": []
   },
   "source": [
    "There are 94477 training samples in total."
   ]
  },
  {
   "cell_type": "markdown",
   "id": "0a5ca8e3",
   "metadata": {
    "papermill": {
     "duration": 0.018248,
     "end_time": "2023-05-06T16:23:20.718853",
     "exception": false,
     "start_time": "2023-05-06T16:23:20.700605",
     "status": "completed"
    },
    "tags": []
   },
   "source": [
    "There are 250 kinds of sign languages that we need to make prediction on. Each kind of sign languages contains about 300 to 400 samples."
   ]
  },
  {
   "cell_type": "code",
   "execution_count": 8,
   "id": "a2bf1b3a",
   "metadata": {
    "execution": {
     "iopub.execute_input": "2023-05-06T16:23:20.757916Z",
     "iopub.status.busy": "2023-05-06T16:23:20.756935Z",
     "iopub.status.idle": "2023-05-06T16:23:20.808705Z",
     "shell.execute_reply": "2023-05-06T16:23:20.807443Z"
    },
    "papermill": {
     "duration": 0.073652,
     "end_time": "2023-05-06T16:23:20.810996",
     "exception": false,
     "start_time": "2023-05-06T16:23:20.737344",
     "status": "completed"
    },
    "tags": []
   },
   "outputs": [
    {
     "name": "stdout",
     "output_type": "stream",
     "text": [
      "{'TV': 0, 'after': 1, 'airplane': 2, 'all': 3, 'alligator': 4, 'animal': 5, 'another': 6, 'any': 7, 'apple': 8, 'arm': 9, 'aunt': 10, 'awake': 11, 'backyard': 12, 'bad': 13, 'balloon': 14, 'bath': 15, 'because': 16, 'bed': 17, 'bedroom': 18, 'bee': 19, 'before': 20, 'beside': 21, 'better': 22, 'bird': 23, 'black': 24, 'blow': 25, 'blue': 26, 'boat': 27, 'book': 28, 'boy': 29, 'brother': 30, 'brown': 31, 'bug': 32, 'bye': 33, 'callonphone': 34, 'can': 35, 'car': 36, 'carrot': 37, 'cat': 38, 'cereal': 39, 'chair': 40, 'cheek': 41, 'child': 42, 'chin': 43, 'chocolate': 44, 'clean': 45, 'close': 46, 'closet': 47, 'cloud': 48, 'clown': 49, 'cow': 50, 'cowboy': 51, 'cry': 52, 'cut': 53, 'cute': 54, 'dad': 55, 'dance': 56, 'dirty': 57, 'dog': 58, 'doll': 59, 'donkey': 60, 'down': 61, 'drawer': 62, 'drink': 63, 'drop': 64, 'dry': 65, 'dryer': 66, 'duck': 67, 'ear': 68, 'elephant': 69, 'empty': 70, 'every': 71, 'eye': 72, 'face': 73, 'fall': 74, 'farm': 75, 'fast': 76, 'feet': 77, 'find': 78, 'fine': 79, 'finger': 80, 'finish': 81, 'fireman': 82, 'first': 83, 'fish': 84, 'flag': 85, 'flower': 86, 'food': 87, 'for': 88, 'frenchfries': 89, 'frog': 90, 'garbage': 91, 'gift': 92, 'giraffe': 93, 'girl': 94, 'give': 95, 'glasswindow': 96, 'go': 97, 'goose': 98, 'grandma': 99, 'grandpa': 100, 'grass': 101, 'green': 102, 'gum': 103, 'hair': 104, 'happy': 105, 'hat': 106, 'hate': 107, 'have': 108, 'haveto': 109, 'head': 110, 'hear': 111, 'helicopter': 112, 'hello': 113, 'hen': 114, 'hesheit': 115, 'hide': 116, 'high': 117, 'home': 118, 'horse': 119, 'hot': 120, 'hungry': 121, 'icecream': 122, 'if': 123, 'into': 124, 'jacket': 125, 'jeans': 126, 'jump': 127, 'kiss': 128, 'kitty': 129, 'lamp': 130, 'later': 131, 'like': 132, 'lion': 133, 'lips': 134, 'listen': 135, 'look': 136, 'loud': 137, 'mad': 138, 'make': 139, 'man': 140, 'many': 141, 'milk': 142, 'minemy': 143, 'mitten': 144, 'mom': 145, 'moon': 146, 'morning': 147, 'mouse': 148, 'mouth': 149, 'nap': 150, 'napkin': 151, 'night': 152, 'no': 153, 'noisy': 154, 'nose': 155, 'not': 156, 'now': 157, 'nuts': 158, 'old': 159, 'on': 160, 'open': 161, 'orange': 162, 'outside': 163, 'owie': 164, 'owl': 165, 'pajamas': 166, 'pen': 167, 'pencil': 168, 'penny': 169, 'person': 170, 'pig': 171, 'pizza': 172, 'please': 173, 'police': 174, 'pool': 175, 'potty': 176, 'pretend': 177, 'pretty': 178, 'puppy': 179, 'puzzle': 180, 'quiet': 181, 'radio': 182, 'rain': 183, 'read': 184, 'red': 185, 'refrigerator': 186, 'ride': 187, 'room': 188, 'sad': 189, 'same': 190, 'say': 191, 'scissors': 192, 'see': 193, 'shhh': 194, 'shirt': 195, 'shoe': 196, 'shower': 197, 'sick': 198, 'sleep': 199, 'sleepy': 200, 'smile': 201, 'snack': 202, 'snow': 203, 'stairs': 204, 'stay': 205, 'sticky': 206, 'store': 207, 'story': 208, 'stuck': 209, 'sun': 210, 'table': 211, 'talk': 212, 'taste': 213, 'thankyou': 214, 'that': 215, 'there': 216, 'think': 217, 'thirsty': 218, 'tiger': 219, 'time': 220, 'tomorrow': 221, 'tongue': 222, 'tooth': 223, 'toothbrush': 224, 'touch': 225, 'toy': 226, 'tree': 227, 'uncle': 228, 'underwear': 229, 'up': 230, 'vacuum': 231, 'wait': 232, 'wake': 233, 'water': 234, 'wet': 235, 'weus': 236, 'where': 237, 'white': 238, 'who': 239, 'why': 240, 'will': 241, 'wolf': 242, 'yellow': 243, 'yes': 244, 'yesterday': 245, 'yourself': 246, 'yucky': 247, 'zebra': 248, 'zipper': 249}\n"
     ]
    },
    {
     "data": {
      "text/html": [
       "<div>\n",
       "<style scoped>\n",
       "    .dataframe tbody tr th:only-of-type {\n",
       "        vertical-align: middle;\n",
       "    }\n",
       "\n",
       "    .dataframe tbody tr th {\n",
       "        vertical-align: top;\n",
       "    }\n",
       "\n",
       "    .dataframe thead th {\n",
       "        text-align: right;\n",
       "    }\n",
       "</style>\n",
       "<table border=\"1\" class=\"dataframe\">\n",
       "  <thead>\n",
       "    <tr style=\"text-align: right;\">\n",
       "      <th></th>\n",
       "      <th>path</th>\n",
       "      <th>participant_id</th>\n",
       "      <th>sequence_id</th>\n",
       "      <th>sign</th>\n",
       "      <th>label</th>\n",
       "      <th>num_frames</th>\n",
       "    </tr>\n",
       "  </thead>\n",
       "  <tbody>\n",
       "    <tr>\n",
       "      <th>0</th>\n",
       "      <td>train_landmark_files/26734/1000035562.parquet</td>\n",
       "      <td>26734</td>\n",
       "      <td>1000035562</td>\n",
       "      <td>blow</td>\n",
       "      <td>25</td>\n",
       "      <td>23.0</td>\n",
       "    </tr>\n",
       "    <tr>\n",
       "      <th>1</th>\n",
       "      <td>train_landmark_files/28656/1000106739.parquet</td>\n",
       "      <td>28656</td>\n",
       "      <td>1000106739</td>\n",
       "      <td>wait</td>\n",
       "      <td>232</td>\n",
       "      <td>11.0</td>\n",
       "    </tr>\n",
       "    <tr>\n",
       "      <th>2</th>\n",
       "      <td>train_landmark_files/16069/100015657.parquet</td>\n",
       "      <td>16069</td>\n",
       "      <td>100015657</td>\n",
       "      <td>cloud</td>\n",
       "      <td>48</td>\n",
       "      <td>105.0</td>\n",
       "    </tr>\n",
       "    <tr>\n",
       "      <th>3</th>\n",
       "      <td>train_landmark_files/25571/1000210073.parquet</td>\n",
       "      <td>25571</td>\n",
       "      <td>1000210073</td>\n",
       "      <td>bird</td>\n",
       "      <td>23</td>\n",
       "      <td>12.0</td>\n",
       "    </tr>\n",
       "    <tr>\n",
       "      <th>4</th>\n",
       "      <td>train_landmark_files/62590/1000240708.parquet</td>\n",
       "      <td>62590</td>\n",
       "      <td>1000240708</td>\n",
       "      <td>owie</td>\n",
       "      <td>164</td>\n",
       "      <td>18.0</td>\n",
       "    </tr>\n",
       "  </tbody>\n",
       "</table>\n",
       "</div>"
      ],
      "text/plain": [
       "                                            path  participant_id  sequence_id  \\\n",
       "0  train_landmark_files/26734/1000035562.parquet           26734   1000035562   \n",
       "1  train_landmark_files/28656/1000106739.parquet           28656   1000106739   \n",
       "2   train_landmark_files/16069/100015657.parquet           16069    100015657   \n",
       "3  train_landmark_files/25571/1000210073.parquet           25571   1000210073   \n",
       "4  train_landmark_files/62590/1000240708.parquet           62590   1000240708   \n",
       "\n",
       "    sign  label  num_frames  \n",
       "0   blow     25        23.0  \n",
       "1   wait    232        11.0  \n",
       "2  cloud     48       105.0  \n",
       "3   bird     23        12.0  \n",
       "4   owie    164        18.0  "
      ]
     },
     "execution_count": 8,
     "metadata": {},
     "output_type": "execute_result"
    }
   ],
   "source": [
    "label_index = read_dict(f\"{CFG.data_path}sign_to_prediction_index_map.json\")\n",
    "index_label = dict([(label_index[key], key) for key in label_index])\n",
    "print(label_index)\n",
    "train[\"label\"] = train[\"sign\"].map(lambda sign: label_index[sign])\n",
    "train.head()"
   ]
  },
  {
   "cell_type": "code",
   "execution_count": 9,
   "id": "86bbc88a",
   "metadata": {
    "execution": {
     "iopub.execute_input": "2023-05-06T16:23:20.852397Z",
     "iopub.status.busy": "2023-05-06T16:23:20.851503Z",
     "iopub.status.idle": "2023-05-06T16:23:20.863431Z",
     "shell.execute_reply": "2023-05-06T16:23:20.862332Z"
    },
    "papermill": {
     "duration": 0.03441,
     "end_time": "2023-05-06T16:23:20.865474",
     "exception": false,
     "start_time": "2023-05-06T16:23:20.831064",
     "status": "completed"
    },
    "tags": []
   },
   "outputs": [
    {
     "data": {
      "text/plain": [
       "listen    415\n",
       "look      414\n",
       "shhh      411\n",
       "donkey    410\n",
       "mouse     408\n",
       "         ... \n",
       "dance     312\n",
       "person    312\n",
       "beside    310\n",
       "vacuum    307\n",
       "zipper    299\n",
       "Name: sign, Length: 250, dtype: int64"
      ]
     },
     "execution_count": 9,
     "metadata": {},
     "output_type": "execute_result"
    }
   ],
   "source": [
    "train[\"sign\"].value_counts()"
   ]
  },
  {
   "cell_type": "markdown",
   "id": "90e41cb3",
   "metadata": {
    "papermill": {
     "duration": 0.018913,
     "end_time": "2023-05-06T16:23:20.903484",
     "exception": false,
     "start_time": "2023-05-06T16:23:20.884571",
     "status": "completed"
    },
    "tags": []
   },
   "source": [
    "Here are descriptive statistics for number of frames."
   ]
  },
  {
   "cell_type": "code",
   "execution_count": 10,
   "id": "ff657cca",
   "metadata": {
    "execution": {
     "iopub.execute_input": "2023-05-06T16:23:20.944088Z",
     "iopub.status.busy": "2023-05-06T16:23:20.943431Z",
     "iopub.status.idle": "2023-05-06T16:23:20.958312Z",
     "shell.execute_reply": "2023-05-06T16:23:20.957012Z"
    },
    "papermill": {
     "duration": 0.03793,
     "end_time": "2023-05-06T16:23:20.960577",
     "exception": false,
     "start_time": "2023-05-06T16:23:20.922647",
     "status": "completed"
    },
    "tags": []
   },
   "outputs": [
    {
     "data": {
      "text/plain": [
       "count    94477.000000\n",
       "mean        37.935021\n",
       "std         44.177069\n",
       "min          2.000000\n",
       "25%         12.000000\n",
       "50%         22.000000\n",
       "75%         44.000000\n",
       "max        537.000000\n",
       "Name: num_frames, dtype: float64"
      ]
     },
     "execution_count": 10,
     "metadata": {},
     "output_type": "execute_result"
    }
   ],
   "source": [
    "train.num_frames.describe()"
   ]
  },
  {
   "cell_type": "code",
   "execution_count": 11,
   "id": "bd85f77d",
   "metadata": {
    "execution": {
     "iopub.execute_input": "2023-05-06T16:23:21.001381Z",
     "iopub.status.busy": "2023-05-06T16:23:21.001074Z",
     "iopub.status.idle": "2023-05-06T16:23:21.005791Z",
     "shell.execute_reply": "2023-05-06T16:23:21.004794Z"
    },
    "papermill": {
     "duration": 0.027859,
     "end_time": "2023-05-06T16:23:21.007951",
     "exception": false,
     "start_time": "2023-05-06T16:23:20.980092",
     "status": "completed"
    },
    "tags": []
   },
   "outputs": [],
   "source": [
    "# if CFG.make_aggregation_dataset:\n",
    "#     xs = []\n",
    "#     ys = []\n",
    "#     num_frames = np.zeros(len(train))\n",
    "#     for i in tqdm(range(len(train))):\n",
    "#         path = f\"{CFG.data_path}{train.iloc[i].path}\"\n",
    "#         data = load_relevant_data_subset_with_imputation(path)\n",
    "#         ## Mean Aggregation\n",
    "#         xs.append(np.mean(data, axis=0))\n",
    "#         ys.append(train.iloc[i].label)\n",
    "#         num_frames[i] = data.shape[0]\n",
    "#         if CFG.quick_experiment and i == 4999:\n",
    "#             break\n",
    "#     ## Save number of frames of each training sample for data analysis\n",
    "#     train[\"num_frames\"] = num_frames\n",
    "#     X = np.array(xs)\n",
    "#     y = np.array(ys)\n",
    "#     print(train[\"num_frames\"].describe())\n",
    "#     train.to_csv(\"train.csv\", index=False)\n",
    "# else:\n",
    "#     X = np.load(\"X_dropped.npy\")\n",
    "#     y = np.load(\"y_dropped.npy\")\n",
    "# print(X.shape, y.shape)"
   ]
  },
  {
   "cell_type": "markdown",
   "id": "b8f3d360",
   "metadata": {
    "papermill": {
     "duration": 0.019408,
     "end_time": "2023-05-06T16:23:21.046548",
     "exception": false,
     "start_time": "2023-05-06T16:23:21.027140",
     "status": "completed"
    },
    "tags": []
   },
   "source": [
    "# Transformer"
   ]
  },
  {
   "cell_type": "markdown",
   "id": "be6abef9",
   "metadata": {
    "papermill": {
     "duration": 0.018965,
     "end_time": "2023-05-06T16:23:21.084970",
     "exception": false,
     "start_time": "2023-05-06T16:23:21.066005",
     "status": "completed"
    },
    "tags": []
   },
   "source": [
    "## Configuration"
   ]
  },
  {
   "cell_type": "code",
   "execution_count": 12,
   "id": "d1aacab2",
   "metadata": {
    "execution": {
     "iopub.execute_input": "2023-05-06T16:23:21.129353Z",
     "iopub.status.busy": "2023-05-06T16:23:21.129050Z",
     "iopub.status.idle": "2023-05-06T16:23:21.133475Z",
     "shell.execute_reply": "2023-05-06T16:23:21.132514Z"
    },
    "papermill": {
     "duration": 0.031435,
     "end_time": "2023-05-06T16:23:21.135562",
     "exception": false,
     "start_time": "2023-05-06T16:23:21.104127",
     "status": "completed"
    },
    "tags": []
   },
   "outputs": [],
   "source": [
    "cfg = SimpleNamespace()"
   ]
  },
  {
   "cell_type": "code",
   "execution_count": 13,
   "id": "c6e34959",
   "metadata": {
    "execution": {
     "iopub.execute_input": "2023-05-06T16:23:21.175582Z",
     "iopub.status.busy": "2023-05-06T16:23:21.174776Z",
     "iopub.status.idle": "2023-05-06T16:23:21.179672Z",
     "shell.execute_reply": "2023-05-06T16:23:21.178767Z"
    },
    "papermill": {
     "duration": 0.027102,
     "end_time": "2023-05-06T16:23:21.181783",
     "exception": false,
     "start_time": "2023-05-06T16:23:21.154681",
     "status": "completed"
    },
    "tags": []
   },
   "outputs": [],
   "source": [
    "iskaggle = os.environ.get('KAGGLE_KERNEL_RUN_TYPE', '')"
   ]
  },
  {
   "cell_type": "code",
   "execution_count": 14,
   "id": "b16ed963",
   "metadata": {
    "execution": {
     "iopub.execute_input": "2023-05-06T16:23:21.222607Z",
     "iopub.status.busy": "2023-05-06T16:23:21.221819Z",
     "iopub.status.idle": "2023-05-06T16:23:21.227518Z",
     "shell.execute_reply": "2023-05-06T16:23:21.226585Z"
    },
    "papermill": {
     "duration": 0.028279,
     "end_time": "2023-05-06T16:23:21.229765",
     "exception": false,
     "start_time": "2023-05-06T16:23:21.201486",
     "status": "completed"
    },
    "tags": []
   },
   "outputs": [],
   "source": [
    "DATA_DIR         = Path('../data/') if not iskaggle else Path('/kaggle/input/asl-signs/')\n",
    "TRAIN_CSV_PATH   = DATA_DIR/'train.csv'\n",
    "LANDMARK_DIR     = DATA_DIR/'train_landmark_files'\n",
    "LABEL_MAP_PATH   = DATA_DIR/'sign_to_prediction_index_map.json'"
   ]
  },
  {
   "cell_type": "code",
   "execution_count": 15,
   "id": "b0d1d657",
   "metadata": {
    "execution": {
     "iopub.execute_input": "2023-05-06T16:23:21.270573Z",
     "iopub.status.busy": "2023-05-06T16:23:21.269764Z",
     "iopub.status.idle": "2023-05-06T16:23:21.276566Z",
     "shell.execute_reply": "2023-05-06T16:23:21.275660Z"
    },
    "papermill": {
     "duration": 0.028755,
     "end_time": "2023-05-06T16:23:21.278609",
     "exception": false,
     "start_time": "2023-05-06T16:23:21.249854",
     "status": "completed"
    },
    "tags": []
   },
   "outputs": [],
   "source": [
    "cfg.PREPROCESS_DATA = False\n",
    "cfg.TRAIN_MODEL = False\n",
    "cfg.N_ROWS = 543\n",
    "cfg.N_DIMS = 3\n",
    "cfg.DIM_NAMES = ['x', 'y', 'z']\n",
    "cfg.SEED = 42\n",
    "cfg.NUM_CLASSES = 250\n",
    "cfg.IS_INTERACTIVE = True\n",
    "cfg.VERBOSE = 2\n",
    "cfg.INPUT_SIZE = 32\n",
    "cfg.BATCH_ALL_SIGNS_N = 4\n",
    "cfg.BATCH_SIZE = 256\n",
    "cfg.N_EPOCHS = 100\n",
    "cfg.LR_MAX = 1e-3\n",
    "cfg.N_WARMUP_EPOCHS = 0\n",
    "cfg.WD_RATIO = 0.05\n",
    "cfg.MASK_VAL = 4237"
   ]
  },
  {
   "cell_type": "code",
   "execution_count": 16,
   "id": "e59bd616",
   "metadata": {
    "execution": {
     "iopub.execute_input": "2023-05-06T16:23:21.318370Z",
     "iopub.status.busy": "2023-05-06T16:23:21.317568Z",
     "iopub.status.idle": "2023-05-06T16:23:21.487307Z",
     "shell.execute_reply": "2023-05-06T16:23:21.486134Z"
    },
    "papermill": {
     "duration": 0.192667,
     "end_time": "2023-05-06T16:23:21.490212",
     "exception": false,
     "start_time": "2023-05-06T16:23:21.297545",
     "status": "completed"
    },
    "tags": []
   },
   "outputs": [],
   "source": [
    "train = pd.read_csv(TRAIN_CSV_PATH)\n",
    "N_SAMPLES = len(train)"
   ]
  },
  {
   "cell_type": "code",
   "execution_count": 17,
   "id": "a9fad56f",
   "metadata": {
    "execution": {
     "iopub.execute_input": "2023-05-06T16:23:21.531166Z",
     "iopub.status.busy": "2023-05-06T16:23:21.530832Z",
     "iopub.status.idle": "2023-05-06T16:23:22.561324Z",
     "shell.execute_reply": "2023-05-06T16:23:22.559967Z"
    },
    "papermill": {
     "duration": 1.053731,
     "end_time": "2023-05-06T16:23:22.563653",
     "exception": false,
     "start_time": "2023-05-06T16:23:21.509922",
     "status": "completed"
    },
    "tags": []
   },
   "outputs": [
    {
     "data": {
      "text/html": [
       "<div>\n",
       "<style scoped>\n",
       "    .dataframe tbody tr th:only-of-type {\n",
       "        vertical-align: middle;\n",
       "    }\n",
       "\n",
       "    .dataframe tbody tr th {\n",
       "        vertical-align: top;\n",
       "    }\n",
       "\n",
       "    .dataframe thead th {\n",
       "        text-align: right;\n",
       "    }\n",
       "</style>\n",
       "<table border=\"1\" class=\"dataframe\">\n",
       "  <thead>\n",
       "    <tr style=\"text-align: right;\">\n",
       "      <th></th>\n",
       "      <th>path</th>\n",
       "      <th>participant_id</th>\n",
       "      <th>sequence_id</th>\n",
       "      <th>sign</th>\n",
       "      <th>file_path</th>\n",
       "    </tr>\n",
       "  </thead>\n",
       "  <tbody>\n",
       "    <tr>\n",
       "      <th>0</th>\n",
       "      <td>train_landmark_files/26734/1000035562.parquet</td>\n",
       "      <td>26734</td>\n",
       "      <td>1000035562</td>\n",
       "      <td>blow</td>\n",
       "      <td>train_landmark_files/26734/1000035562.parquet</td>\n",
       "    </tr>\n",
       "    <tr>\n",
       "      <th>1</th>\n",
       "      <td>train_landmark_files/28656/1000106739.parquet</td>\n",
       "      <td>28656</td>\n",
       "      <td>1000106739</td>\n",
       "      <td>wait</td>\n",
       "      <td>train_landmark_files/28656/1000106739.parquet</td>\n",
       "    </tr>\n",
       "  </tbody>\n",
       "</table>\n",
       "</div>"
      ],
      "text/plain": [
       "                                            path  participant_id  sequence_id  \\\n",
       "0  train_landmark_files/26734/1000035562.parquet           26734   1000035562   \n",
       "1  train_landmark_files/28656/1000106739.parquet           28656   1000106739   \n",
       "\n",
       "   sign                                      file_path  \n",
       "0  blow  train_landmark_files/26734/1000035562.parquet  \n",
       "1  wait  train_landmark_files/28656/1000106739.parquet  "
      ]
     },
     "execution_count": 17,
     "metadata": {},
     "output_type": "execute_result"
    }
   ],
   "source": [
    "# Get complete file path to file\n",
    "def get_file_path(path):\n",
    "    return f'/kaggle/input/asl-signs/{path}'\n",
    "\n",
    "!ln -s {LANDMARK_DIR} ./train_landmark_files\n",
    "train['file_path'] = train['path'].values\n",
    "train.head(2)"
   ]
  },
  {
   "cell_type": "code",
   "execution_count": 18,
   "id": "ffffa0bd",
   "metadata": {
    "execution": {
     "iopub.execute_input": "2023-05-06T16:23:22.606211Z",
     "iopub.status.busy": "2023-05-06T16:23:22.604608Z",
     "iopub.status.idle": "2023-05-06T16:23:22.766411Z",
     "shell.execute_reply": "2023-05-06T16:23:22.765383Z"
    },
    "papermill": {
     "duration": 0.185206,
     "end_time": "2023-05-06T16:23:22.769105",
     "exception": false,
     "start_time": "2023-05-06T16:23:22.583899",
     "status": "completed"
    },
    "tags": []
   },
   "outputs": [],
   "source": [
    "train['sign_ord'] = train['sign'].astype('category').cat.codes\n",
    "SIGN2ORD = train[['sign', 'sign_ord']].set_index('sign').squeeze().to_dict()\n",
    "ORD2SIGN = train[['sign_ord', 'sign']].set_index('sign_ord').squeeze().to_dict()"
   ]
  },
  {
   "cell_type": "code",
   "execution_count": 19,
   "id": "0db1f7ba",
   "metadata": {
    "execution": {
     "iopub.execute_input": "2023-05-06T16:23:22.809944Z",
     "iopub.status.busy": "2023-05-06T16:23:22.809630Z",
     "iopub.status.idle": "2023-05-06T16:23:23.100074Z",
     "shell.execute_reply": "2023-05-06T16:23:23.098851Z"
    },
    "papermill": {
     "duration": 0.3139,
     "end_time": "2023-05-06T16:23:23.103073",
     "exception": false,
     "start_time": "2023-05-06T16:23:22.789173",
     "status": "completed"
    },
    "tags": []
   },
   "outputs": [
    {
     "data": {
      "text/html": [
       "<div>\n",
       "<style scoped>\n",
       "    .dataframe tbody tr th:only-of-type {\n",
       "        vertical-align: middle;\n",
       "    }\n",
       "\n",
       "    .dataframe tbody tr th {\n",
       "        vertical-align: top;\n",
       "    }\n",
       "\n",
       "    .dataframe thead th {\n",
       "        text-align: right;\n",
       "    }\n",
       "</style>\n",
       "<table border=\"1\" class=\"dataframe\">\n",
       "  <thead>\n",
       "    <tr style=\"text-align: right;\">\n",
       "      <th></th>\n",
       "      <th>path</th>\n",
       "      <th>participant_id</th>\n",
       "      <th>sequence_id</th>\n",
       "      <th>sign</th>\n",
       "      <th>file_path</th>\n",
       "      <th>sign_ord</th>\n",
       "      <th>fold</th>\n",
       "    </tr>\n",
       "  </thead>\n",
       "  <tbody>\n",
       "    <tr>\n",
       "      <th>0</th>\n",
       "      <td>train_landmark_files/26734/1000035562.parquet</td>\n",
       "      <td>26734</td>\n",
       "      <td>1000035562</td>\n",
       "      <td>blow</td>\n",
       "      <td>train_landmark_files/26734/1000035562.parquet</td>\n",
       "      <td>25</td>\n",
       "      <td>0</td>\n",
       "    </tr>\n",
       "    <tr>\n",
       "      <th>1</th>\n",
       "      <td>train_landmark_files/28656/1000106739.parquet</td>\n",
       "      <td>28656</td>\n",
       "      <td>1000106739</td>\n",
       "      <td>wait</td>\n",
       "      <td>train_landmark_files/28656/1000106739.parquet</td>\n",
       "      <td>232</td>\n",
       "      <td>2</td>\n",
       "    </tr>\n",
       "  </tbody>\n",
       "</table>\n",
       "</div>"
      ],
      "text/plain": [
       "                                            path  participant_id  sequence_id  \\\n",
       "0  train_landmark_files/26734/1000035562.parquet           26734   1000035562   \n",
       "1  train_landmark_files/28656/1000106739.parquet           28656   1000106739   \n",
       "\n",
       "   sign                                      file_path  sign_ord  fold  \n",
       "0  blow  train_landmark_files/26734/1000035562.parquet        25     0  \n",
       "1  wait  train_landmark_files/28656/1000106739.parquet       232     2  "
      ]
     },
     "execution_count": 19,
     "metadata": {},
     "output_type": "execute_result"
    }
   ],
   "source": [
    "N_PARTICIPANTS = train.participant_id.nunique()\n",
    "sgkf = StratifiedGroupKFold(n_splits=7, shuffle=True, random_state=43)\n",
    "train['fold'] = -1\n",
    "for i, (train_idx, val_idx) in enumerate(sgkf.split(train.index, train.sign, train.participant_id)):\n",
    "    train.loc[val_idx, 'fold'] = i\n",
    "train.head(2)"
   ]
  },
  {
   "cell_type": "code",
   "execution_count": 20,
   "id": "7cdbc505",
   "metadata": {
    "execution": {
     "iopub.execute_input": "2023-05-06T16:23:23.145153Z",
     "iopub.status.busy": "2023-05-06T16:23:23.144573Z",
     "iopub.status.idle": "2023-05-06T16:23:23.167781Z",
     "shell.execute_reply": "2023-05-06T16:23:23.166816Z"
    },
    "papermill": {
     "duration": 0.046307,
     "end_time": "2023-05-06T16:23:23.170045",
     "exception": false,
     "start_time": "2023-05-06T16:23:23.123738",
     "status": "completed"
    },
    "tags": []
   },
   "outputs": [],
   "source": [
    "# create indexes using fold `0` for now\n",
    "train_idxs = train.query(\"fold!=0\").index.values\n",
    "val_idxs = train.query(\"fold==0\").index.values"
   ]
  },
  {
   "cell_type": "code",
   "execution_count": 21,
   "id": "c7fa5808",
   "metadata": {
    "execution": {
     "iopub.execute_input": "2023-05-06T16:23:23.212605Z",
     "iopub.status.busy": "2023-05-06T16:23:23.211880Z",
     "iopub.status.idle": "2023-05-06T16:23:23.219510Z",
     "shell.execute_reply": "2023-05-06T16:23:23.218375Z"
    },
    "papermill": {
     "duration": 0.031895,
     "end_time": "2023-05-06T16:23:23.221764",
     "exception": false,
     "start_time": "2023-05-06T16:23:23.189869",
     "status": "completed"
    },
    "tags": []
   },
   "outputs": [
    {
     "data": {
      "text/plain": [
       "(81735, 12742)"
      ]
     },
     "execution_count": 21,
     "metadata": {},
     "output_type": "execute_result"
    }
   ],
   "source": [
    "len(train_idxs), len(val_idxs)"
   ]
  },
  {
   "cell_type": "markdown",
   "id": "c9ac47de",
   "metadata": {
    "papermill": {
     "duration": 0.019406,
     "end_time": "2023-05-06T16:23:23.262258",
     "exception": false,
     "start_time": "2023-05-06T16:23:23.242852",
     "status": "completed"
    },
    "tags": []
   },
   "source": [
    "## Preprocessing"
   ]
  },
  {
   "cell_type": "code",
   "execution_count": 22,
   "id": "1f471775",
   "metadata": {
    "execution": {
     "iopub.execute_input": "2023-05-06T16:23:23.303091Z",
     "iopub.status.busy": "2023-05-06T16:23:23.302234Z",
     "iopub.status.idle": "2023-05-06T16:23:23.312922Z",
     "shell.execute_reply": "2023-05-06T16:23:23.311861Z"
    },
    "papermill": {
     "duration": 0.033242,
     "end_time": "2023-05-06T16:23:23.315020",
     "exception": false,
     "start_time": "2023-05-06T16:23:23.281778",
     "status": "completed"
    },
    "tags": []
   },
   "outputs": [
    {
     "data": {
      "text/plain": [
       "(92,\n",
       " array([ 61, 185,  40,  39,  37,   0, 267, 269, 270, 409, 291, 146,  91,\n",
       "        181,  84,  17, 314, 405, 321, 375,  78, 191,  80,  81,  82,  13,\n",
       "        312, 311, 310, 415,  95,  88, 178,  87,  14, 317, 402, 318, 324,\n",
       "        308, 468, 469, 470, 471, 472, 473, 474, 475, 476, 477, 478, 479,\n",
       "        480, 481, 482, 483, 484, 485, 486, 487, 488, 522, 523, 524, 525,\n",
       "        526, 527, 528, 529, 530, 531, 532, 533, 534, 535, 536, 537, 538,\n",
       "        539, 540, 541, 542, 502, 503, 504, 505, 506, 507, 508, 509, 510,\n",
       "        511]))"
      ]
     },
     "execution_count": 22,
     "metadata": {},
     "output_type": "execute_result"
    }
   ],
   "source": [
    "# landmark indices in original data\n",
    "LIPS_IDXS0 = np.array([\n",
    "        61, 185, 40, 39, 37, 0, 267, 269, 270, 409,\n",
    "        291, 146, 91, 181, 84, 17, 314, 405, 321, 375,\n",
    "        78, 191, 80, 81, 82, 13, 312, 311, 310, 415,\n",
    "        95, 88, 178, 87, 14, 317, 402, 318, 324, 308,\n",
    "    ])\n",
    "LEFT_HAND_IDXS0  = np.arange(468,489)\n",
    "RIGHT_HAND_IDXS0 = np.arange(522,543)\n",
    "POSE_IDXS0       = np.arange(502, 512)\n",
    "LANDMARK_IDXS0   = np.concatenate((LIPS_IDXS0, LEFT_HAND_IDXS0, RIGHT_HAND_IDXS0, POSE_IDXS0))\n",
    "HAND_IDXS0       = np.concatenate((LEFT_HAND_IDXS0, RIGHT_HAND_IDXS0), axis=0)\n",
    "N_COLS           = LANDMARK_IDXS0.size\n",
    "N_COLS, LANDMARK_IDXS0"
   ]
  },
  {
   "cell_type": "code",
   "execution_count": 23,
   "id": "ef7764b7",
   "metadata": {
    "execution": {
     "iopub.execute_input": "2023-05-06T16:23:23.361703Z",
     "iopub.status.busy": "2023-05-06T16:23:23.360700Z",
     "iopub.status.idle": "2023-05-06T16:23:23.370330Z",
     "shell.execute_reply": "2023-05-06T16:23:23.368769Z"
    },
    "papermill": {
     "duration": 0.036321,
     "end_time": "2023-05-06T16:23:23.372605",
     "exception": false,
     "start_time": "2023-05-06T16:23:23.336284",
     "status": "completed"
    },
    "tags": []
   },
   "outputs": [
    {
     "name": "stdout",
     "output_type": "stream",
     "text": [
      "(42,)\n"
     ]
    }
   ],
   "source": [
    "# Landmark indices in processed data\n",
    "LIPS_IDXS       = np.argwhere(np.isin(LANDMARK_IDXS0, LIPS_IDXS0)).squeeze()\n",
    "LEFT_HAND_IDXS  = np.argwhere(np.isin(LANDMARK_IDXS0, LEFT_HAND_IDXS0)).squeeze()\n",
    "RIGHT_HAND_IDXS = np.argwhere(np.isin(LANDMARK_IDXS0, RIGHT_HAND_IDXS0)).squeeze()\n",
    "HAND_IDXS       = np.argwhere(np.isin(LANDMARK_IDXS0, HAND_IDXS0)).squeeze()\n",
    "POSE_IDXS       = np.argwhere(np.isin(LANDMARK_IDXS0, POSE_IDXS0)).squeeze()\n",
    "print(HAND_IDXS.shape)"
   ]
  },
  {
   "cell_type": "code",
   "execution_count": 24,
   "id": "3dcc87c2",
   "metadata": {
    "execution": {
     "iopub.execute_input": "2023-05-06T16:23:23.415687Z",
     "iopub.status.busy": "2023-05-06T16:23:23.414947Z",
     "iopub.status.idle": "2023-05-06T16:23:23.444163Z",
     "shell.execute_reply": "2023-05-06T16:23:23.443254Z"
    },
    "papermill": {
     "duration": 0.052674,
     "end_time": "2023-05-06T16:23:23.446193",
     "exception": false,
     "start_time": "2023-05-06T16:23:23.393519",
     "status": "completed"
    },
    "tags": []
   },
   "outputs": [],
   "source": [
    "class PreprocessLayer(tf.keras.layers.Layer):\n",
    "    def __init__(self):\n",
    "        super(PreprocessLayer, self).__init__()\n",
    "        \n",
    "    def pad_edge(self, t, repeats, side):\n",
    "        if side == 'LEFT':\n",
    "            return tf.concat((tf.repeat(t[:1], repeats=repeats, axis=0), t), axis=0)\n",
    "        elif side == 'RIGHT':\n",
    "            return tf.concat((t, tf.repeat(t[-1:], repeats=repeats, axis=0)), axis=0)\n",
    "    \n",
    "    @tf.function(\n",
    "        input_signature=(tf.TensorSpec(shape=[None,cfg.N_ROWS,cfg.N_DIMS], dtype=tf.float32),),\n",
    "    )\n",
    "    def call(self, data0):\n",
    "        # Number of Frames in Video\n",
    "        N_FRAMES0 = tf.shape(data0)[0]\n",
    "        \n",
    "        # Keep only non-empty frames in data\n",
    "        frames_hands_nansum = tf.experimental.numpy.nanmean(tf.gather(data0, HAND_IDXS0, axis=1), axis=[1,2])\n",
    "        non_empty_frames_idxs = tf.where(frames_hands_nansum > 0)\n",
    "        non_empty_frames_idxs = tf.squeeze(non_empty_frames_idxs, axis=1)\n",
    "        data = tf.gather(data0, non_empty_frames_idxs, axis=0)\n",
    "        \n",
    "        non_empty_frames_idxs = tf.cast(non_empty_frames_idxs, tf.float32) \n",
    "        \n",
    "        # Number of non-empty frames\n",
    "        N_FRAMES = tf.shape(data)[0]\n",
    "        data = tf.gather(data, LANDMARK_IDXS0, axis=1)\n",
    "        \n",
    "        if N_FRAMES < cfg.INPUT_SIZE:\n",
    "            # Video fits in cfg.INPUT_SIZE\n",
    "            non_empty_frames_idxs = tf.pad(non_empty_frames_idxs, [[0, cfg.INPUT_SIZE-N_FRAMES]], constant_values=-1)\n",
    "            data = tf.pad(data, [[0, cfg.INPUT_SIZE-N_FRAMES], [0,0], [0,0]], constant_values=0)\n",
    "            data = tf.where(tf.math.is_nan(data), 0.0, data)\n",
    "            return data, non_empty_frames_idxs\n",
    "        else:\n",
    "            # Video needs to be downsampled to cfg.INPUT_SIZE\n",
    "            if N_FRAMES < cfg.INPUT_SIZE**2:\n",
    "                repeats = tf.math.floordiv(cfg.INPUT_SIZE * cfg.INPUT_SIZE, N_FRAMES0)\n",
    "                data = tf.repeat(data, repeats=repeats, axis=0)\n",
    "                non_empty_frames_idxs = tf.repeat(non_empty_frames_idxs, repeats=repeats, axis=0)\n",
    "            \n",
    "            # Pad To Multiple Of Input Size\n",
    "            pool_size = tf.math.floordiv(len(data), cfg.INPUT_SIZE)\n",
    "            if tf.math.mod(len(data), cfg.INPUT_SIZE) > 0:\n",
    "                pool_size += 1\n",
    "            if pool_size == 1:\n",
    "                pad_size = (pool_size * cfg.INPUT_SIZE) - len(data)\n",
    "            else:\n",
    "                pad_size = (pool_size * cfg.INPUT_SIZE) % len(data)\n",
    "\n",
    "            # Pad Start/End with Start/End value\n",
    "            pad_left = tf.math.floordiv(pad_size, 2) + tf.math.floordiv(cfg.INPUT_SIZE, 2)\n",
    "            pad_right = tf.math.floordiv(pad_size, 2) + tf.math.floordiv(cfg.INPUT_SIZE, 2)\n",
    "            if tf.math.mod(pad_size, 2) > 0:\n",
    "                pad_right += 1\n",
    "\n",
    "            # Pad By Concatenating Left/Right Edge Values\n",
    "            data = self.pad_edge(data, pad_left, 'LEFT')\n",
    "            data = self.pad_edge(data, pad_right, 'RIGHT')\n",
    "\n",
    "            # Pad Non Empty Frame Indices\n",
    "            non_empty_frames_idxs = self.pad_edge(non_empty_frames_idxs, pad_left, 'LEFT')\n",
    "            non_empty_frames_idxs = self.pad_edge(non_empty_frames_idxs, pad_right, 'RIGHT')\n",
    "\n",
    "            # Reshape to Mean Pool\n",
    "            data = tf.reshape(data, [cfg.INPUT_SIZE, -1, N_COLS, cfg.N_DIMS])\n",
    "            non_empty_frames_idxs = tf.reshape(non_empty_frames_idxs, [cfg.INPUT_SIZE, -1])\n",
    "\n",
    "            # Mean Pool\n",
    "            data = tf.experimental.numpy.nanmean(data, axis=1)\n",
    "            non_empty_frames_idxs = tf.experimental.numpy.nanmean(non_empty_frames_idxs, axis=1)\n",
    "\n",
    "            # Fill NaN Values With 0\n",
    "            data = tf.where(tf.math.is_nan(data), 0.0, data)\n",
    "            \n",
    "            return data, non_empty_frames_idxs\n",
    "    \n",
    "preprocess_layer = PreprocessLayer()"
   ]
  },
  {
   "cell_type": "code",
   "execution_count": 25,
   "id": "467bb4d7",
   "metadata": {
    "execution": {
     "iopub.execute_input": "2023-05-06T16:23:23.486929Z",
     "iopub.status.busy": "2023-05-06T16:23:23.486131Z",
     "iopub.status.idle": "2023-05-06T16:23:23.579558Z",
     "shell.execute_reply": "2023-05-06T16:23:23.578534Z"
    },
    "papermill": {
     "duration": 0.115807,
     "end_time": "2023-05-06T16:23:23.581578",
     "exception": false,
     "start_time": "2023-05-06T16:23:23.465771",
     "status": "completed"
    },
    "tags": []
   },
   "outputs": [
    {
     "data": {
      "text/plain": [
       "(23, 543, 3)"
      ]
     },
     "execution_count": 25,
     "metadata": {},
     "output_type": "execute_result"
    }
   ],
   "source": [
    "sample = load_relevant_data_subset(train.path[0])\n",
    "sample.shape"
   ]
  },
  {
   "cell_type": "code",
   "execution_count": 26,
   "id": "8c25449c",
   "metadata": {
    "execution": {
     "iopub.execute_input": "2023-05-06T16:23:23.623328Z",
     "iopub.status.busy": "2023-05-06T16:23:23.622534Z",
     "iopub.status.idle": "2023-05-06T16:23:27.219909Z",
     "shell.execute_reply": "2023-05-06T16:23:27.218511Z"
    },
    "papermill": {
     "duration": 3.621055,
     "end_time": "2023-05-06T16:23:27.222978",
     "exception": false,
     "start_time": "2023-05-06T16:23:23.601923",
     "status": "completed"
    },
    "tags": []
   },
   "outputs": [
    {
     "data": {
      "text/plain": [
       "(TensorShape([32, 92, 3]),\n",
       " <tf.Tensor: shape=(32,), dtype=float32, numpy=\n",
       " array([ 0.,  1.,  2.,  3.,  4.,  5.,  6.,  7.,  8.,  9., 22., -1., -1.,\n",
       "        -1., -1., -1., -1., -1., -1., -1., -1., -1., -1., -1., -1., -1.,\n",
       "        -1., -1., -1., -1., -1., -1.], dtype=float32)>)"
      ]
     },
     "execution_count": 26,
     "metadata": {},
     "output_type": "execute_result"
    }
   ],
   "source": [
    "data, non_empty_frames_idxs = preprocess_layer(sample)\n",
    "data.shape, non_empty_frames_idxs"
   ]
  },
  {
   "cell_type": "code",
   "execution_count": 27,
   "id": "e25ef5d2",
   "metadata": {
    "execution": {
     "iopub.execute_input": "2023-05-06T16:23:27.273562Z",
     "iopub.status.busy": "2023-05-06T16:23:27.273181Z",
     "iopub.status.idle": "2023-05-06T16:23:27.278318Z",
     "shell.execute_reply": "2023-05-06T16:23:27.277136Z"
    },
    "papermill": {
     "duration": 0.032411,
     "end_time": "2023-05-06T16:23:27.280729",
     "exception": false,
     "start_time": "2023-05-06T16:23:27.248318",
     "status": "completed"
    },
    "tags": []
   },
   "outputs": [],
   "source": [
    "# free up RAM, delete variables as we go\n",
    "del data; del non_empty_frames_idxs"
   ]
  },
  {
   "cell_type": "markdown",
   "id": "c9600502",
   "metadata": {
    "papermill": {
     "duration": 0.019831,
     "end_time": "2023-05-06T16:23:27.322586",
     "exception": false,
     "start_time": "2023-05-06T16:23:27.302755",
     "status": "completed"
    },
    "tags": []
   },
   "source": [
    "## Create Dataset"
   ]
  },
  {
   "cell_type": "code",
   "execution_count": 28,
   "id": "c007f7bd",
   "metadata": {
    "execution": {
     "iopub.execute_input": "2023-05-06T16:23:27.365749Z",
     "iopub.status.busy": "2023-05-06T16:23:27.364880Z",
     "iopub.status.idle": "2023-05-06T16:23:27.370756Z",
     "shell.execute_reply": "2023-05-06T16:23:27.369540Z"
    },
    "papermill": {
     "duration": 0.030264,
     "end_time": "2023-05-06T16:23:27.373169",
     "exception": false,
     "start_time": "2023-05-06T16:23:27.342905",
     "status": "completed"
    },
    "tags": []
   },
   "outputs": [],
   "source": [
    "LIPS_START = 0\n",
    "LEFT_HAND_START = LIPS_IDXS.size\n",
    "RIGHT_HAND_START = LEFT_HAND_START + LEFT_HAND_IDXS.size\n",
    "POSE_START = RIGHT_HAND_START + RIGHT_HAND_IDXS.size"
   ]
  },
  {
   "cell_type": "code",
   "execution_count": 29,
   "id": "ddf9ea8e",
   "metadata": {
    "execution": {
     "iopub.execute_input": "2023-05-06T16:23:27.419850Z",
     "iopub.status.busy": "2023-05-06T16:23:27.418891Z",
     "iopub.status.idle": "2023-05-06T16:23:27.424760Z",
     "shell.execute_reply": "2023-05-06T16:23:27.423718Z"
    },
    "papermill": {
     "duration": 0.033072,
     "end_time": "2023-05-06T16:23:27.427214",
     "exception": false,
     "start_time": "2023-05-06T16:23:27.394142",
     "status": "completed"
    },
    "tags": []
   },
   "outputs": [],
   "source": [
    "def get_data(file_path):\n",
    "    data = load_relevant_data_subset(file_path)\n",
    "    data = preprocess_layer(data)\n",
    "    return data"
   ]
  },
  {
   "cell_type": "code",
   "execution_count": 30,
   "id": "105d2705",
   "metadata": {
    "execution": {
     "iopub.execute_input": "2023-05-06T16:23:27.476001Z",
     "iopub.status.busy": "2023-05-06T16:23:27.475069Z",
     "iopub.status.idle": "2023-05-06T16:23:27.484624Z",
     "shell.execute_reply": "2023-05-06T16:23:27.483425Z"
    },
    "papermill": {
     "duration": 0.036662,
     "end_time": "2023-05-06T16:23:27.487065",
     "exception": false,
     "start_time": "2023-05-06T16:23:27.450403",
     "status": "completed"
    },
    "tags": []
   },
   "outputs": [],
   "source": [
    "def get_x_y():\n",
    "    # Create arrays to save data\n",
    "    X = np.zeros([N_SAMPLES, cfg.INPUT_SIZE, N_COLS, cfg.N_DIMS], dtype=np.float32)\n",
    "    y = np.zeros([N_SAMPLES], dtype=np.int32)\n",
    "    NON_EMPTY_FRAME_IDXS = np.full([N_SAMPLES, cfg.INPUT_SIZE], -1, dtype=np.float32)\n",
    "    print(NON_EMPTY_FRAME_IDXS)\n",
    "\n",
    "    for row_idx, (file_path, sign_ord) in enumerate(tqdm(train[['file_path', 'sign_ord']].values)):\n",
    "        if row_idx % 5000 == 0:\n",
    "            print(f'Generated {row_idx}/{N_SAMPLES}')\n",
    "\n",
    "        data, non_empty_frame_idxs = get_data(file_path)\n",
    "        X[row_idx] = data\n",
    "        y[row_idx] = sign_ord\n",
    "        NON_EMPTY_FRAME_IDXS[row_idx] = non_empty_frame_idxs\n",
    "        if np.isnan(data).sum() > 0: return data\n",
    "\n",
    "    # Save X/y\n",
    "    np.save('X.npy', X)\n",
    "    np.save('y.npy', y)\n",
    "    np.save('NON_EMPTY_FRAME_IDXS.npy', NON_EMPTY_FRAME_IDXS)\n",
    "    return X, y, NON_EMPTY_FRAME_IDXS"
   ]
  },
  {
   "cell_type": "code",
   "execution_count": 31,
   "id": "a8ee3cc8",
   "metadata": {
    "execution": {
     "iopub.execute_input": "2023-05-06T16:23:27.534995Z",
     "iopub.status.busy": "2023-05-06T16:23:27.534668Z",
     "iopub.status.idle": "2023-05-06T16:23:49.468222Z",
     "shell.execute_reply": "2023-05-06T16:23:49.466965Z"
    },
    "papermill": {
     "duration": 21.960672,
     "end_time": "2023-05-06T16:23:49.470932",
     "exception": false,
     "start_time": "2023-05-06T16:23:27.510260",
     "status": "completed"
    },
    "tags": []
   },
   "outputs": [],
   "source": [
    "if cfg.PREPROCESS_DATA:\n",
    "    X, y, NON_EMPTY_FRAME_IDXS = get_x_y()\n",
    "else:\n",
    "    X = np.load('/kaggle/input/islr-feature-gen-dataset/X.npy')\n",
    "    y = np.load('/kaggle/input/islr-feature-gen-dataset/y.npy')\n",
    "    NON_EMPTY_FRAME_IDXS = np.load('/kaggle/input/islr-feature-gen-dataset/NON_EMPTY_FRAME_IDXS.npy')"
   ]
  },
  {
   "cell_type": "code",
   "execution_count": 32,
   "id": "41aa3d64",
   "metadata": {
    "execution": {
     "iopub.execute_input": "2023-05-06T16:23:49.531348Z",
     "iopub.status.busy": "2023-05-06T16:23:49.530687Z",
     "iopub.status.idle": "2023-05-06T16:23:49.537930Z",
     "shell.execute_reply": "2023-05-06T16:23:49.536823Z"
    },
    "papermill": {
     "duration": 0.036569,
     "end_time": "2023-05-06T16:23:49.540536",
     "exception": false,
     "start_time": "2023-05-06T16:23:49.503967",
     "status": "completed"
    },
    "tags": []
   },
   "outputs": [
    {
     "data": {
      "text/plain": [
       "((94477, 32, 92, 3), (94477,), (94477, 32))"
      ]
     },
     "execution_count": 32,
     "metadata": {},
     "output_type": "execute_result"
    }
   ],
   "source": [
    "X.shape, y.shape, NON_EMPTY_FRAME_IDXS.shape"
   ]
  },
  {
   "cell_type": "markdown",
   "id": "108c05ec",
   "metadata": {
    "papermill": {
     "duration": 0.020736,
     "end_time": "2023-05-06T16:23:49.581058",
     "exception": false,
     "start_time": "2023-05-06T16:23:49.560322",
     "status": "completed"
    },
    "tags": []
   },
   "source": [
    "## Feature Statistics"
   ]
  },
  {
   "cell_type": "code",
   "execution_count": 33,
   "id": "1fe65e29",
   "metadata": {
    "execution": {
     "iopub.execute_input": "2023-05-06T16:23:49.630148Z",
     "iopub.status.busy": "2023-05-06T16:23:49.629822Z",
     "iopub.status.idle": "2023-05-06T16:23:57.024664Z",
     "shell.execute_reply": "2023-05-06T16:23:57.023616Z"
    },
    "papermill": {
     "duration": 7.422197,
     "end_time": "2023-05-06T16:23:57.027312",
     "exception": false,
     "start_time": "2023-05-06T16:23:49.605115",
     "status": "completed"
    },
    "tags": []
   },
   "outputs": [
    {
     "data": {
      "application/vnd.jupyter.widget-view+json": {
       "model_id": "2e36789010fd40dbbf04d3f48fc23d72",
       "version_major": 2,
       "version_minor": 0
      },
      "text/plain": [
       "  0%|          | 0/40 [00:00<?, ?it/s]"
      ]
     },
     "metadata": {},
     "output_type": "display_data"
    }
   ],
   "source": [
    "# LIPS\n",
    "LIPS_MEAN_X  = np.zeros([LIPS_IDXS.size], dtype=np.float32)\n",
    "LIPS_MEAN_Y  = np.zeros([LIPS_IDXS.size], dtype=np.float32)\n",
    "LIPS_STD_X   = np.zeros([LIPS_IDXS.size], dtype=np.float32)\n",
    "LIPS_STD_Y   = np.zeros([LIPS_IDXS.size], dtype=np.float32)\n",
    "for col, ll in enumerate(tqdm( np.transpose(X[:,:,LIPS_IDXS], [2,3,0,1]).reshape([LIPS_IDXS.size, cfg.N_DIMS, -1]) )):\n",
    "    for dim, l in enumerate(ll):\n",
    "        #print(dim, len(l))\n",
    "        v = l[np.nonzero(l)]\n",
    "        if dim == 0: # X\n",
    "            LIPS_MEAN_X[col] = v.mean()\n",
    "            LIPS_STD_X[col] = v.std()\n",
    "        if dim == 1: # Y\n",
    "            LIPS_MEAN_Y[col] = v.mean()\n",
    "            LIPS_STD_Y[col] = v.std()\n",
    "        \n",
    "LIPS_MEAN = np.array([LIPS_MEAN_X, LIPS_MEAN_Y]).T\n",
    "LIPS_STD = np.array([LIPS_STD_X, LIPS_STD_Y]).T"
   ]
  },
  {
   "cell_type": "code",
   "execution_count": 34,
   "id": "b9a269b7",
   "metadata": {
    "execution": {
     "iopub.execute_input": "2023-05-06T16:23:57.070268Z",
     "iopub.status.busy": "2023-05-06T16:23:57.069956Z",
     "iopub.status.idle": "2023-05-06T16:24:05.358075Z",
     "shell.execute_reply": "2023-05-06T16:24:05.356658Z"
    },
    "papermill": {
     "duration": 8.312006,
     "end_time": "2023-05-06T16:24:05.360602",
     "exception": false,
     "start_time": "2023-05-06T16:23:57.048596",
     "status": "completed"
    },
    "tags": []
   },
   "outputs": [
    {
     "data": {
      "application/vnd.jupyter.widget-view+json": {
       "model_id": "cf1fe4a6a66e45dc844fa95573dd764d",
       "version_major": 2,
       "version_minor": 0
      },
      "text/plain": [
       "  0%|          | 0/42 [00:00<?, ?it/s]"
      ]
     },
     "metadata": {},
     "output_type": "display_data"
    }
   ],
   "source": [
    "# LEFT HAND\n",
    "LEFT_HANDS_MEAN_X = np.zeros([LEFT_HAND_IDXS.size], dtype=np.float32)\n",
    "LEFT_HANDS_MEAN_Y = np.zeros([LEFT_HAND_IDXS.size], dtype=np.float32)\n",
    "LEFT_HANDS_STD_X = np.zeros([LEFT_HAND_IDXS.size], dtype=np.float32)\n",
    "LEFT_HANDS_STD_Y = np.zeros([LEFT_HAND_IDXS.size], dtype=np.float32)\n",
    "# RIGHT HAND\n",
    "RIGHT_HANDS_MEAN_X = np.zeros([RIGHT_HAND_IDXS.size], dtype=np.float32)\n",
    "RIGHT_HANDS_MEAN_Y = np.zeros([RIGHT_HAND_IDXS.size], dtype=np.float32)\n",
    "RIGHT_HANDS_STD_X = np.zeros([RIGHT_HAND_IDXS.size], dtype=np.float32)\n",
    "RIGHT_HANDS_STD_Y = np.zeros([RIGHT_HAND_IDXS.size], dtype=np.float32)\n",
    "\n",
    "for col, ll in enumerate(tqdm( np.transpose(X[:,:,HAND_IDXS], [2,3,0,1]).reshape([HAND_IDXS.size, cfg.N_DIMS, -1]))):\n",
    "    for dim, l in enumerate(ll):\n",
    "        v = l[np.nonzero(l)]\n",
    "        if dim == 0: # X\n",
    "            if col < RIGHT_HAND_IDXS.size: # LEFT HAND\n",
    "                LEFT_HANDS_MEAN_X[col] = v.mean()\n",
    "                LEFT_HANDS_STD_X[col] = v.std()\n",
    "            else:\n",
    "                RIGHT_HANDS_MEAN_X[col - LEFT_HAND_IDXS.size] = v.mean()\n",
    "                RIGHT_HANDS_STD_X[col - LEFT_HAND_IDXS.size] = v.std()\n",
    "        if dim == 1: # Y\n",
    "            if col < RIGHT_HAND_IDXS.size: # LEFT HAND\n",
    "                LEFT_HANDS_MEAN_Y[col] = v.mean()\n",
    "                LEFT_HANDS_STD_Y[col] = v.std()\n",
    "            else: # RIGHT HAND\n",
    "                RIGHT_HANDS_MEAN_Y[col - LEFT_HAND_IDXS.size] = v.mean()\n",
    "                RIGHT_HANDS_STD_Y[col - LEFT_HAND_IDXS.size] = v.std()\n",
    "        \n",
    "LEFT_HANDS_MEAN = np.array([LEFT_HANDS_MEAN_X, LEFT_HANDS_MEAN_Y]).T\n",
    "LEFT_HANDS_STD = np.array([LEFT_HANDS_STD_X, LEFT_HANDS_STD_Y]).T\n",
    "RIGHT_HANDS_MEAN = np.array([RIGHT_HANDS_MEAN_X, RIGHT_HANDS_MEAN_Y]).T\n",
    "RIGHT_HANDS_STD = np.array([RIGHT_HANDS_STD_X, RIGHT_HANDS_STD_Y]).T"
   ]
  },
  {
   "cell_type": "code",
   "execution_count": 35,
   "id": "b36f9fe8",
   "metadata": {
    "execution": {
     "iopub.execute_input": "2023-05-06T16:24:05.406838Z",
     "iopub.status.busy": "2023-05-06T16:24:05.406512Z",
     "iopub.status.idle": "2023-05-06T16:24:07.553607Z",
     "shell.execute_reply": "2023-05-06T16:24:07.552530Z"
    },
    "papermill": {
     "duration": 2.171058,
     "end_time": "2023-05-06T16:24:07.555824",
     "exception": false,
     "start_time": "2023-05-06T16:24:05.384766",
     "status": "completed"
    },
    "tags": []
   },
   "outputs": [
    {
     "data": {
      "application/vnd.jupyter.widget-view+json": {
       "model_id": "1b0e6965b3094c35a310cc691ca55bb0",
       "version_major": 2,
       "version_minor": 0
      },
      "text/plain": [
       "  0%|          | 0/10 [00:00<?, ?it/s]"
      ]
     },
     "metadata": {},
     "output_type": "display_data"
    }
   ],
   "source": [
    "# POSE\n",
    "POSE_MEAN_X = np.zeros([POSE_IDXS.size], dtype=np.float32)\n",
    "POSE_MEAN_Y = np.zeros([POSE_IDXS.size], dtype=np.float32)\n",
    "POSE_STD_X = np.zeros([POSE_IDXS.size], dtype=np.float32)\n",
    "POSE_STD_Y = np.zeros([POSE_IDXS.size], dtype=np.float32)\n",
    "\n",
    "for col, ll in enumerate(tqdm( np.transpose(X[:,:,POSE_IDXS], [2,3,0,1]).reshape([POSE_IDXS.size, cfg.N_DIMS, -1]) )):\n",
    "    for dim, l in enumerate(ll):\n",
    "        v = l[np.nonzero(l)]\n",
    "        if dim == 0: # X\n",
    "            POSE_MEAN_X[col] = v.mean()\n",
    "            POSE_STD_X[col] = v.std()\n",
    "        if dim == 1: # Y\n",
    "            POSE_MEAN_Y[col] = v.mean()\n",
    "            POSE_STD_Y[col] = v.std()\n",
    "        \n",
    "POSE_MEAN = np.array([POSE_MEAN_X, POSE_MEAN_Y]).T\n",
    "POSE_STD = np.array([POSE_STD_X, POSE_STD_Y]).T"
   ]
  },
  {
   "cell_type": "code",
   "execution_count": 36,
   "id": "aac90d99",
   "metadata": {
    "execution": {
     "iopub.execute_input": "2023-05-06T16:24:07.599372Z",
     "iopub.status.busy": "2023-05-06T16:24:07.599059Z",
     "iopub.status.idle": "2023-05-06T16:24:07.608428Z",
     "shell.execute_reply": "2023-05-06T16:24:07.607508Z"
    },
    "papermill": {
     "duration": 0.033229,
     "end_time": "2023-05-06T16:24:07.610849",
     "exception": false,
     "start_time": "2023-05-06T16:24:07.577620",
     "status": "completed"
    },
    "tags": []
   },
   "outputs": [],
   "source": [
    "# Custom sampler to get a batch containing N times all signs\n",
    "def get_train_batch_all_signs(X, y, NON_EMPTY_FRAME_IDXS, n=cfg.BATCH_ALL_SIGNS_N):\n",
    "    # Arrays to store batch in\n",
    "    X_batch = np.zeros([cfg.NUM_CLASSES*n, cfg.INPUT_SIZE, N_COLS, cfg.N_DIMS], dtype=np.float32)\n",
    "    y_batch = np.arange(0, cfg.NUM_CLASSES, step=1/n, dtype=np.float32).astype(np.int64)\n",
    "    non_empty_frame_idxs_batch = np.zeros([cfg.NUM_CLASSES*n, cfg.INPUT_SIZE], dtype=np.float32)\n",
    "    \n",
    "    # Dictionary mapping ordinally encoded sign to corresponding sample indices\n",
    "    CLASS2IDXS = {}\n",
    "    for i in range(cfg.NUM_CLASSES):\n",
    "        CLASS2IDXS[i] = np.argwhere(y == i).squeeze().astype(np.int32)\n",
    "            \n",
    "    while True:\n",
    "        # Fill batch arrays\n",
    "        for i in range(cfg.NUM_CLASSES):\n",
    "            idxs = np.random.choice(CLASS2IDXS[i], n)\n",
    "            X_batch[i*n:(i+1)*n] = X[idxs]\n",
    "            non_empty_frame_idxs_batch[i*n:(i+1)*n] = NON_EMPTY_FRAME_IDXS[idxs]\n",
    "        \n",
    "        yield { 'frames': X_batch, 'non_empty_frame_idxs': non_empty_frame_idxs_batch }, y_batch"
   ]
  },
  {
   "cell_type": "code",
   "execution_count": 37,
   "id": "3712c957",
   "metadata": {
    "execution": {
     "iopub.execute_input": "2023-05-06T16:24:07.652721Z",
     "iopub.status.busy": "2023-05-06T16:24:07.652407Z",
     "iopub.status.idle": "2023-05-06T16:24:07.707966Z",
     "shell.execute_reply": "2023-05-06T16:24:07.706820Z"
    },
    "papermill": {
     "duration": 0.079301,
     "end_time": "2023-05-06T16:24:07.710344",
     "exception": false,
     "start_time": "2023-05-06T16:24:07.631043",
     "status": "completed"
    },
    "tags": []
   },
   "outputs": [
    {
     "data": {
      "text/plain": [
       "(dict_keys(['frames', 'non_empty_frame_idxs']), (1000, 32, 92, 3))"
      ]
     },
     "execution_count": 37,
     "metadata": {},
     "output_type": "execute_result"
    }
   ],
   "source": [
    "dummy_dataset = get_train_batch_all_signs(X, y, NON_EMPTY_FRAME_IDXS)\n",
    "X_batch, y_batch = next(dummy_dataset)\n",
    "#print(X_batch)\n",
    "X_batch.keys(), X_batch['frames'].shape"
   ]
  },
  {
   "cell_type": "markdown",
   "id": "a0cd3a87",
   "metadata": {
    "papermill": {
     "duration": 0.02017,
     "end_time": "2023-05-06T16:24:07.751183",
     "exception": false,
     "start_time": "2023-05-06T16:24:07.731013",
     "status": "completed"
    },
    "tags": []
   },
   "source": [
    "## Model config"
   ]
  },
  {
   "cell_type": "code",
   "execution_count": 38,
   "id": "61921b3a",
   "metadata": {
    "execution": {
     "iopub.execute_input": "2023-05-06T16:24:07.795262Z",
     "iopub.status.busy": "2023-05-06T16:24:07.794188Z",
     "iopub.status.idle": "2023-05-06T16:24:07.800932Z",
     "shell.execute_reply": "2023-05-06T16:24:07.800030Z"
    },
    "papermill": {
     "duration": 0.031072,
     "end_time": "2023-05-06T16:24:07.803155",
     "exception": false,
     "start_time": "2023-05-06T16:24:07.772083",
     "status": "completed"
    },
    "tags": []
   },
   "outputs": [],
   "source": [
    "# Epsilon value for layer normalisation\n",
    "LAYER_NORM_EPS = 1e-6\n",
    "\n",
    "# Dense layer units for landmarks\n",
    "LIPS_UNITS = 384\n",
    "HANDS_UNITS = 384\n",
    "POSE_UNITS = 384\n",
    "# final embedding and transformer embedding size\n",
    "UNITS = 384\n",
    "\n",
    "# Transformer\n",
    "NUM_BLOCKS = 2\n",
    "MLP_RATIO = 2\n",
    "\n",
    "# Dropout\n",
    "EMBEDDING_DROPOUT = 0.00\n",
    "MLP_DROPOUT_RATIO = 0.30\n",
    "CLASSIFIER_DROPOUT_RATIO = 0.10\n",
    "\n",
    "# Initiailizers\n",
    "INIT_HE_UNIFORM = tf.keras.initializers.he_uniform\n",
    "INIT_GLOROT_UNIFORM = tf.keras.initializers.glorot_uniform\n",
    "INIT_ZEROS = tf.keras.initializers.constant(0.0)\n",
    "# Activations\n",
    "GELU = tf.keras.activations.gelu"
   ]
  },
  {
   "cell_type": "code",
   "execution_count": 39,
   "id": "d368e5d7",
   "metadata": {
    "execution": {
     "iopub.execute_input": "2023-05-06T16:24:07.846854Z",
     "iopub.status.busy": "2023-05-06T16:24:07.846580Z",
     "iopub.status.idle": "2023-05-06T16:24:07.858189Z",
     "shell.execute_reply": "2023-05-06T16:24:07.857311Z"
    },
    "papermill": {
     "duration": 0.035548,
     "end_time": "2023-05-06T16:24:07.860406",
     "exception": false,
     "start_time": "2023-05-06T16:24:07.824858",
     "status": "completed"
    },
    "tags": []
   },
   "outputs": [],
   "source": [
    "# based on: https://stackoverflow.com/questions/67342988/verifying-the-implementation-of-multihead-attention-in-transformer\n",
    "# replaced softmax with softmax layer to support masked softmax\n",
    "def scaled_dot_product(q,k,v, softmax, attention_mask):\n",
    "    #calculates Q . K(transpose)\n",
    "    qkt = tf.matmul(q,k,transpose_b=True)\n",
    "    #caculates scaling factor\n",
    "    dk = tf.math.sqrt(tf.cast(q.shape[-1],dtype=tf.float32))\n",
    "    scaled_qkt = qkt/dk\n",
    "    softmax = softmax(scaled_qkt, mask=attention_mask)\n",
    "    \n",
    "    z = tf.matmul(softmax,v)\n",
    "    #shape: (m,Tx,depth), same shape as q,k,v\n",
    "    return z\n",
    "\n",
    "class MultiHeadAttention(tf.keras.layers.Layer):\n",
    "    def __init__(self,d_model,num_of_heads):\n",
    "        super(MultiHeadAttention,self).__init__()\n",
    "        self.d_model = d_model\n",
    "        self.num_of_heads = num_of_heads\n",
    "        self.depth = d_model//num_of_heads\n",
    "        self.wq = [tf.keras.layers.Dense(self.depth) for i in range(num_of_heads)]\n",
    "        self.wk = [tf.keras.layers.Dense(self.depth) for i in range(num_of_heads)]\n",
    "        self.wv = [tf.keras.layers.Dense(self.depth) for i in range(num_of_heads)]\n",
    "        self.wo = tf.keras.layers.Dense(d_model)\n",
    "        self.softmax = tf.keras.layers.Softmax()\n",
    "        \n",
    "    def call(self,x, attention_mask):\n",
    "        \n",
    "        multi_attn = []\n",
    "        for i in range(self.num_of_heads):\n",
    "            Q = self.wq[i](x)\n",
    "            K = self.wk[i](x)\n",
    "            V = self.wv[i](x)\n",
    "            multi_attn.append(scaled_dot_product(Q,K,V, self.softmax, attention_mask))\n",
    "            \n",
    "        multi_head = tf.concat(multi_attn,axis=-1)\n",
    "        multi_head_attention = self.wo(multi_head)\n",
    "        return multi_head_attention"
   ]
  },
  {
   "cell_type": "code",
   "execution_count": 40,
   "id": "e9acec0e",
   "metadata": {
    "execution": {
     "iopub.execute_input": "2023-05-06T16:24:07.903228Z",
     "iopub.status.busy": "2023-05-06T16:24:07.902350Z",
     "iopub.status.idle": "2023-05-06T16:24:07.912447Z",
     "shell.execute_reply": "2023-05-06T16:24:07.911524Z"
    },
    "papermill": {
     "duration": 0.033576,
     "end_time": "2023-05-06T16:24:07.914582",
     "exception": false,
     "start_time": "2023-05-06T16:24:07.881006",
     "status": "completed"
    },
    "tags": []
   },
   "outputs": [],
   "source": [
    "class Transformer(tf.keras.Model):\n",
    "    def __init__(self, num_blocks):\n",
    "        super(Transformer, self).__init__(name='transformer')\n",
    "        self.num_blocks = num_blocks\n",
    "    \n",
    "    def build(self, input_shape):\n",
    "        self.ln_1s = []\n",
    "        self.mhas = []\n",
    "        self.ln_2s = []\n",
    "        self.mlps = []\n",
    "        # Make Transformer Blocks\n",
    "        for i in range(self.num_blocks):\n",
    "            # First Layer Normalisation\n",
    "            self.ln_1s.append(tf.keras.layers.LayerNormalization(epsilon=LAYER_NORM_EPS))\n",
    "            # Multi Head Attention\n",
    "            self.mhas.append(MultiHeadAttention(UNITS, 12))\n",
    "            # Second Layer Normalisation\n",
    "            self.ln_2s.append(tf.keras.layers.LayerNormalization(epsilon=LAYER_NORM_EPS))\n",
    "            # Multi Layer Perception\n",
    "            self.mlps.append(tf.keras.Sequential([\n",
    "                tf.keras.layers.Dense(UNITS * MLP_RATIO, activation=GELU, kernel_initializer=INIT_GLOROT_UNIFORM),\n",
    "                tf.keras.layers.Dropout(MLP_DROPOUT_RATIO),\n",
    "                tf.keras.layers.Dense(UNITS, kernel_initializer=INIT_HE_UNIFORM),\n",
    "            ]))\n",
    "        \n",
    "    def call(self, x, attention_mask):\n",
    "        # Iterate input over transformer blocks\n",
    "        for ln_1, mha, ln_2, mlp in zip(self.ln_1s, self.mhas, self.ln_2s, self.mlps):\n",
    "            x1 = ln_1(x)\n",
    "            attention_output = mha(x1, attention_mask)\n",
    "            x2 = x1 + attention_output\n",
    "            x3 = ln_2(x2)\n",
    "            x3 = mlp(x3)\n",
    "            x = x3 + x2\n",
    "    \n",
    "        return x"
   ]
  },
  {
   "cell_type": "code",
   "execution_count": 41,
   "id": "cb1f9831",
   "metadata": {
    "execution": {
     "iopub.execute_input": "2023-05-06T16:24:07.956900Z",
     "iopub.status.busy": "2023-05-06T16:24:07.956608Z",
     "iopub.status.idle": "2023-05-06T16:24:07.965788Z",
     "shell.execute_reply": "2023-05-06T16:24:07.964869Z"
    },
    "papermill": {
     "duration": 0.033156,
     "end_time": "2023-05-06T16:24:07.967985",
     "exception": false,
     "start_time": "2023-05-06T16:24:07.934829",
     "status": "completed"
    },
    "tags": []
   },
   "outputs": [],
   "source": [
    "class LandmarkEmbedding(tf.keras.Model):\n",
    "    def __init__(self, units, name):\n",
    "        super(LandmarkEmbedding, self).__init__(name=f'{name}_embedding')\n",
    "        self.units = units\n",
    "        \n",
    "    def build(self, input_shape):\n",
    "        # Embedding for missing landmark in frame, initizlied with zeros\n",
    "        self.empty_embedding = self.add_weight(\n",
    "            name=f'{self.name}_empty_embedding',\n",
    "            shape=[self.units],\n",
    "            initializer=INIT_ZEROS,\n",
    "        )\n",
    "        # Embedding\n",
    "        self.dense = tf.keras.Sequential([\n",
    "            tf.keras.layers.Dense(self.units, name=f'{self.name}_dense_1', use_bias=False, kernel_initializer=INIT_GLOROT_UNIFORM, activation=GELU),\n",
    "            tf.keras.layers.Dense(self.units, name=f'{self.name}_dense_2', use_bias=False, kernel_initializer=INIT_HE_UNIFORM),\n",
    "        ], name=f'{self.name}_dense')\n",
    "\n",
    "    def call(self, x):\n",
    "        return tf.where(\n",
    "                # Checks whether landmark is missing in frame\n",
    "                tf.reduce_sum(x, axis=2, keepdims=True) == 0,\n",
    "                # If so, the empty embedding is used\n",
    "                self.empty_embedding,\n",
    "                # Otherwise the landmark data is embedded\n",
    "                self.dense(x),\n",
    "            )"
   ]
  },
  {
   "cell_type": "markdown",
   "id": "86c9163b",
   "metadata": {
    "papermill": {
     "duration": 0.020214,
     "end_time": "2023-05-06T16:24:08.008213",
     "exception": false,
     "start_time": "2023-05-06T16:24:07.987999",
     "status": "completed"
    },
    "tags": []
   },
   "source": [
    "## Embedding"
   ]
  },
  {
   "cell_type": "code",
   "execution_count": 42,
   "id": "792df41f",
   "metadata": {
    "execution": {
     "iopub.execute_input": "2023-05-06T16:24:08.050444Z",
     "iopub.status.busy": "2023-05-06T16:24:08.050157Z",
     "iopub.status.idle": "2023-05-06T16:24:08.063681Z",
     "shell.execute_reply": "2023-05-06T16:24:08.062757Z"
    },
    "papermill": {
     "duration": 0.037232,
     "end_time": "2023-05-06T16:24:08.065855",
     "exception": false,
     "start_time": "2023-05-06T16:24:08.028623",
     "status": "completed"
    },
    "tags": []
   },
   "outputs": [],
   "source": [
    "class CustomEmbedding(tf.keras.Model):\n",
    "    def __init__(self):\n",
    "        super(CustomEmbedding, self).__init__()\n",
    "        \n",
    "    def get_diffs(self, l):\n",
    "        S = l.shape[2]\n",
    "        other = tf.expand_dims(l, 3)\n",
    "        other = tf.repeat(other, S, axis=3)\n",
    "        other = tf.transpose(other, [0,1,3,2])\n",
    "        diffs = tf.expand_dims(l, 3) - other\n",
    "        diffs = tf.reshape(diffs, [-1, cfg.INPUT_SIZE, S*S])\n",
    "        return diffs\n",
    "\n",
    "    def build(self, input_shape):\n",
    "        # Positional Embedding, initialized with zeros\n",
    "        self.positional_embedding = tf.keras.layers.Embedding(cfg.INPUT_SIZE+1, UNITS, embeddings_initializer=INIT_ZEROS)\n",
    "        # Embedding layer for Landmarks\n",
    "        self.lips_embedding = LandmarkEmbedding(LIPS_UNITS, 'lips')\n",
    "        self.left_hand_embedding = LandmarkEmbedding(HANDS_UNITS, 'left_hand')\n",
    "        self.right_hand_embedding = LandmarkEmbedding(HANDS_UNITS, 'right_hand')\n",
    "        self.pose_embedding = LandmarkEmbedding(POSE_UNITS, 'pose')\n",
    "        # Landmark Weights\n",
    "        self.landmark_weights = tf.Variable(tf.zeros([4], dtype=tf.float32), name='landmark_weights')\n",
    "        # Fully Connected Layers for combined landmarks\n",
    "        self.fc = tf.keras.Sequential([\n",
    "            tf.keras.layers.Dense(UNITS, name='fully_connected_1', use_bias=False, kernel_initializer=INIT_GLOROT_UNIFORM, activation=GELU),\n",
    "            tf.keras.layers.Dense(UNITS, name='fully_connected_2', use_bias=False, kernel_initializer=INIT_HE_UNIFORM),\n",
    "        ], name='fc')\n",
    "\n",
    "\n",
    "    def call(self, lips0, left_hand0, right_hand0, pose0, non_empty_frame_idxs, training=False):\n",
    "        # Lips\n",
    "        lips_embedding = self.lips_embedding(lips0)\n",
    "        # Left Hand\n",
    "        left_hand_embedding = self.left_hand_embedding(left_hand0)\n",
    "        # Right Hand\n",
    "        right_hand_embedding = self.right_hand_embedding(right_hand0)\n",
    "        # Pose\n",
    "        pose_embedding = self.pose_embedding(pose0)\n",
    "        # Merge Embeddings of all landmarks with mean pooling\n",
    "        x = tf.stack((lips_embedding, left_hand_embedding, right_hand_embedding, pose_embedding), axis=3)\n",
    "        # Merge Landmarks with trainable attention weights\n",
    "        x = x * tf.nn.softmax(self.landmark_weights)\n",
    "        x = tf.reduce_sum(x, axis=3)\n",
    "        # Fully Connected Layers\n",
    "        x = self.fc(x)\n",
    "        # Add Positional Embedding\n",
    "        normalised_non_empty_frame_idxs = tf.where(\n",
    "            tf.math.equal(non_empty_frame_idxs, -1.0),\n",
    "            cfg.INPUT_SIZE,\n",
    "            tf.cast(\n",
    "                non_empty_frame_idxs / tf.reduce_max(non_empty_frame_idxs, axis=1, keepdims=True) * cfg.INPUT_SIZE,\n",
    "                tf.int32,\n",
    "            ),\n",
    "        )\n",
    "        x = x + self.positional_embedding(normalised_non_empty_frame_idxs)\n",
    "        \n",
    "        return x"
   ]
  },
  {
   "cell_type": "code",
   "execution_count": 43,
   "id": "fa1616c0",
   "metadata": {
    "execution": {
     "iopub.execute_input": "2023-05-06T16:24:08.107848Z",
     "iopub.status.busy": "2023-05-06T16:24:08.107039Z",
     "iopub.status.idle": "2023-05-06T16:24:08.112490Z",
     "shell.execute_reply": "2023-05-06T16:24:08.111601Z"
    },
    "papermill": {
     "duration": 0.028388,
     "end_time": "2023-05-06T16:24:08.114471",
     "exception": false,
     "start_time": "2023-05-06T16:24:08.086083",
     "status": "completed"
    },
    "tags": []
   },
   "outputs": [],
   "source": [
    "def get_lr_metric(optimizer):\n",
    "    def lr(y_true, y_pred):\n",
    "        return optimizer.lr\n",
    "    return lr"
   ]
  },
  {
   "cell_type": "code",
   "execution_count": 44,
   "id": "5d938e70",
   "metadata": {
    "execution": {
     "iopub.execute_input": "2023-05-06T16:24:08.156687Z",
     "iopub.status.busy": "2023-05-06T16:24:08.156393Z",
     "iopub.status.idle": "2023-05-06T16:24:08.249829Z",
     "shell.execute_reply": "2023-05-06T16:24:08.248770Z"
    },
    "papermill": {
     "duration": 0.116857,
     "end_time": "2023-05-06T16:24:08.251926",
     "exception": false,
     "start_time": "2023-05-06T16:24:08.135069",
     "status": "completed"
    },
    "tags": []
   },
   "outputs": [],
   "source": [
    "def get_model():\n",
    "    # Inputs\n",
    "    frames = tf.keras.layers.Input([cfg.INPUT_SIZE, N_COLS, cfg.N_DIMS], dtype=tf.float32, name='frames')\n",
    "    non_empty_frame_idxs = tf.keras.layers.Input([cfg.INPUT_SIZE], dtype=tf.float32, name='non_empty_frame_idxs')\n",
    "    # Padding Mask\n",
    "    mask = tf.cast(tf.math.not_equal(non_empty_frame_idxs, -1), tf.float32)\n",
    "    mask = tf.expand_dims(mask, axis=2)\n",
    "    \n",
    "    x = frames\n",
    "    x = tf.slice(x, [0,0,0,0], [-1,cfg.INPUT_SIZE, N_COLS, 2])\n",
    "    # LIPS\n",
    "    lips = tf.slice(x, [0,0,LIPS_START,0], [-1,cfg.INPUT_SIZE, 40, 2])\n",
    "    lips = tf.where(\n",
    "            tf.math.equal(lips, 0.0),\n",
    "            0.0,\n",
    "            (lips - LIPS_MEAN) / LIPS_STD,\n",
    "        )\n",
    "    lips = tf.reshape(lips, [-1, cfg.INPUT_SIZE, 40*2])\n",
    "    # LEFT HAND\n",
    "    left_hand = tf.slice(x, [0,0,40,0], [-1,cfg.INPUT_SIZE, 21, 2])\n",
    "    left_hand = tf.where(\n",
    "            tf.math.equal(left_hand, 0.0),\n",
    "            0.0,\n",
    "            (left_hand - LEFT_HANDS_MEAN) / LEFT_HANDS_STD,\n",
    "        )\n",
    "    left_hand = tf.reshape(left_hand, [-1, cfg.INPUT_SIZE, 21*2])\n",
    "    # RIGHT HAND\n",
    "    right_hand = tf.slice(x, [0,0,61,0], [-1,cfg.INPUT_SIZE, 21, 2])\n",
    "    right_hand = tf.where(\n",
    "            tf.math.equal(right_hand, 0.0),\n",
    "            0.0,\n",
    "            (right_hand - RIGHT_HANDS_MEAN) / RIGHT_HANDS_STD,\n",
    "        )\n",
    "    right_hand = tf.reshape(right_hand, [-1, cfg.INPUT_SIZE, 21*2])\n",
    "    # POSE\n",
    "    pose = tf.slice(x, [0,0,82,0], [-1,cfg.INPUT_SIZE, 10, 2])\n",
    "    pose = tf.where(\n",
    "            tf.math.equal(pose, 0.0),\n",
    "            0.0,\n",
    "            (pose - POSE_MEAN) / POSE_STD,\n",
    "        )\n",
    "    pose = tf.reshape(pose, [-1, cfg.INPUT_SIZE, 10*2])\n",
    "    x = lips, left_hand, right_hand, pose\n",
    "    x = CustomEmbedding()(lips, left_hand, right_hand, pose, non_empty_frame_idxs)\n",
    "    # Encoder Transformer Blocks\n",
    "    x = Transformer(NUM_BLOCKS)(x, mask)\n",
    "    # Pooling\n",
    "    x = tf.reduce_sum(x * mask, axis=1) / tf.reduce_sum(mask, axis=1)\n",
    "    # Classification Layer\n",
    "    x = tf.keras.layers.Dense(cfg.NUM_CLASSES, activation=tf.keras.activations.softmax, kernel_initializer=INIT_GLOROT_UNIFORM)(x)\n",
    "    outputs = x\n",
    "    \n",
    "    # Create Tensorflow Model\n",
    "    model = tf.keras.models.Model(inputs=[frames, non_empty_frame_idxs], outputs=outputs)\n",
    "    \n",
    "    # Simple Categorical Crossentropy Loss\n",
    "    loss = tf.keras.losses.SparseCategoricalCrossentropy()\n",
    "    \n",
    "    # Adam Optimizer with weight decay\n",
    "    optimizer = tfa.optimizers.AdamW(learning_rate=1e-3, weight_decay=1e-5, clipnorm=1.0)\n",
    "    \n",
    "    lr_metric = get_lr_metric(optimizer)\n",
    "    metrics = [\"acc\",lr_metric]\n",
    "    model.compile(loss=loss, optimizer=optimizer, metrics=metrics)\n",
    "    return model"
   ]
  },
  {
   "cell_type": "code",
   "execution_count": 45,
   "id": "81e46c4f",
   "metadata": {
    "execution": {
     "iopub.execute_input": "2023-05-06T16:24:08.296248Z",
     "iopub.status.busy": "2023-05-06T16:24:08.294620Z",
     "iopub.status.idle": "2023-05-06T16:24:10.887220Z",
     "shell.execute_reply": "2023-05-06T16:24:10.886188Z"
    },
    "papermill": {
     "duration": 2.616829,
     "end_time": "2023-05-06T16:24:10.889742",
     "exception": false,
     "start_time": "2023-05-06T16:24:08.272913",
     "status": "completed"
    },
    "tags": []
   },
   "outputs": [],
   "source": [
    "tf.keras.backend.clear_session()\n",
    "\n",
    "model_one = get_model()"
   ]
  },
  {
   "cell_type": "code",
   "execution_count": 46,
   "id": "67128329",
   "metadata": {
    "execution": {
     "iopub.execute_input": "2023-05-06T16:24:10.935556Z",
     "iopub.status.busy": "2023-05-06T16:24:10.935195Z",
     "iopub.status.idle": "2023-05-06T16:24:11.031542Z",
     "shell.execute_reply": "2023-05-06T16:24:11.030534Z"
    },
    "papermill": {
     "duration": 0.183304,
     "end_time": "2023-05-06T16:24:11.095919",
     "exception": false,
     "start_time": "2023-05-06T16:24:10.912615",
     "status": "completed"
    },
    "tags": []
   },
   "outputs": [
    {
     "name": "stdout",
     "output_type": "stream",
     "text": [
      "Model: \"model\"\n",
      "__________________________________________________________________________________________________\n",
      " Layer (type)                   Output Shape         Param #     Connected to                     \n",
      "==================================================================================================\n",
      " frames (InputLayer)            [(None, 32, 92, 3)]  0           []                               \n",
      "                                                                                                  \n",
      " tf.slice (TFOpLambda)          (None, 32, 92, 2)    0           ['frames[0][0]']                 \n",
      "                                                                                                  \n",
      " tf.slice_1 (TFOpLambda)        (None, 32, 40, 2)    0           ['tf.slice[0][0]']               \n",
      "                                                                                                  \n",
      " tf.slice_2 (TFOpLambda)        (None, 32, 21, 2)    0           ['tf.slice[0][0]']               \n",
      "                                                                                                  \n",
      " tf.slice_3 (TFOpLambda)        (None, 32, 21, 2)    0           ['tf.slice[0][0]']               \n",
      "                                                                                                  \n",
      " tf.slice_4 (TFOpLambda)        (None, 32, 10, 2)    0           ['tf.slice[0][0]']               \n",
      "                                                                                                  \n",
      " tf.math.subtract (TFOpLambda)  (None, 32, 40, 2)    0           ['tf.slice_1[0][0]']             \n",
      "                                                                                                  \n",
      " tf.math.subtract_1 (TFOpLambda  (None, 32, 21, 2)   0           ['tf.slice_2[0][0]']             \n",
      " )                                                                                                \n",
      "                                                                                                  \n",
      " tf.math.subtract_2 (TFOpLambda  (None, 32, 21, 2)   0           ['tf.slice_3[0][0]']             \n",
      " )                                                                                                \n",
      "                                                                                                  \n",
      " tf.math.subtract_3 (TFOpLambda  (None, 32, 10, 2)   0           ['tf.slice_4[0][0]']             \n",
      " )                                                                                                \n",
      "                                                                                                  \n",
      " tf.math.equal (TFOpLambda)     (None, 32, 40, 2)    0           ['tf.slice_1[0][0]']             \n",
      "                                                                                                  \n",
      " tf.math.truediv (TFOpLambda)   (None, 32, 40, 2)    0           ['tf.math.subtract[0][0]']       \n",
      "                                                                                                  \n",
      " tf.math.equal_1 (TFOpLambda)   (None, 32, 21, 2)    0           ['tf.slice_2[0][0]']             \n",
      "                                                                                                  \n",
      " tf.math.truediv_1 (TFOpLambda)  (None, 32, 21, 2)   0           ['tf.math.subtract_1[0][0]']     \n",
      "                                                                                                  \n",
      " tf.math.equal_2 (TFOpLambda)   (None, 32, 21, 2)    0           ['tf.slice_3[0][0]']             \n",
      "                                                                                                  \n",
      " tf.math.truediv_2 (TFOpLambda)  (None, 32, 21, 2)   0           ['tf.math.subtract_2[0][0]']     \n",
      "                                                                                                  \n",
      " tf.math.equal_3 (TFOpLambda)   (None, 32, 10, 2)    0           ['tf.slice_4[0][0]']             \n",
      "                                                                                                  \n",
      " tf.math.truediv_3 (TFOpLambda)  (None, 32, 10, 2)   0           ['tf.math.subtract_3[0][0]']     \n",
      "                                                                                                  \n",
      " non_empty_frame_idxs (InputLay  [(None, 32)]        0           []                               \n",
      " er)                                                                                              \n",
      "                                                                                                  \n",
      " tf.where (TFOpLambda)          (None, 32, 40, 2)    0           ['tf.math.equal[0][0]',          \n",
      "                                                                  'tf.math.truediv[0][0]']        \n",
      "                                                                                                  \n",
      " tf.where_1 (TFOpLambda)        (None, 32, 21, 2)    0           ['tf.math.equal_1[0][0]',        \n",
      "                                                                  'tf.math.truediv_1[0][0]']      \n",
      "                                                                                                  \n",
      " tf.where_2 (TFOpLambda)        (None, 32, 21, 2)    0           ['tf.math.equal_2[0][0]',        \n",
      "                                                                  'tf.math.truediv_2[0][0]']      \n",
      "                                                                                                  \n",
      " tf.where_3 (TFOpLambda)        (None, 32, 10, 2)    0           ['tf.math.equal_3[0][0]',        \n",
      "                                                                  'tf.math.truediv_3[0][0]']      \n",
      "                                                                                                  \n",
      " tf.math.not_equal (TFOpLambda)  (None, 32)          0           ['non_empty_frame_idxs[0][0]']   \n",
      "                                                                                                  \n",
      " tf.reshape (TFOpLambda)        (None, 32, 80)       0           ['tf.where[0][0]']               \n",
      "                                                                                                  \n",
      " tf.reshape_1 (TFOpLambda)      (None, 32, 42)       0           ['tf.where_1[0][0]']             \n",
      "                                                                                                  \n",
      " tf.reshape_2 (TFOpLambda)      (None, 32, 42)       0           ['tf.where_2[0][0]']             \n",
      "                                                                                                  \n",
      " tf.reshape_3 (TFOpLambda)      (None, 32, 20)       0           ['tf.where_3[0][0]']             \n",
      "                                                                                                  \n",
      " tf.cast (TFOpLambda)           (None, 32)           0           ['tf.math.not_equal[0][0]']      \n",
      "                                                                                                  \n",
      " custom_embedding (CustomEmbedd  (None, 32, 384)     969604      ['tf.reshape[0][0]',             \n",
      " ing)                                                             'tf.reshape_1[0][0]',           \n",
      "                                                                  'tf.reshape_2[0][0]',           \n",
      "                                                                  'tf.reshape_3[0][0]',           \n",
      "                                                                  'non_empty_frame_idxs[0][0]']   \n",
      "                                                                                                  \n",
      " tf.expand_dims (TFOpLambda)    (None, 32, 1)        0           ['tf.cast[0][0]']                \n",
      "                                                                                                  \n",
      " transformer (Transformer)      (None, 32, 384)      2367744     ['custom_embedding[0][0]',       \n",
      "                                                                  'tf.expand_dims[0][0]']         \n",
      "                                                                                                  \n",
      " tf.math.multiply (TFOpLambda)  (None, 32, 384)      0           ['transformer[0][0]',            \n",
      "                                                                  'tf.expand_dims[0][0]']         \n",
      "                                                                                                  \n",
      " tf.math.reduce_sum (TFOpLambda  (None, 384)         0           ['tf.math.multiply[0][0]']       \n",
      " )                                                                                                \n",
      "                                                                                                  \n",
      " tf.math.reduce_sum_1 (TFOpLamb  (None, 1)           0           ['tf.expand_dims[0][0]']         \n",
      " da)                                                                                              \n",
      "                                                                                                  \n",
      " tf.math.truediv_4 (TFOpLambda)  (None, 384)         0           ['tf.math.reduce_sum[0][0]',     \n",
      "                                                                  'tf.math.reduce_sum_1[0][0]']   \n",
      "                                                                                                  \n",
      " dense (Dense)                  (None, 250)          96250       ['tf.math.truediv_4[0][0]']      \n",
      "                                                                                                  \n",
      "==================================================================================================\n",
      "Total params: 3,433,598\n",
      "Trainable params: 3,433,598\n",
      "Non-trainable params: 0\n",
      "__________________________________________________________________________________________________\n"
     ]
    }
   ],
   "source": [
    "model_one.summary()"
   ]
  },
  {
   "cell_type": "markdown",
   "id": "65d9affe",
   "metadata": {
    "papermill": {
     "duration": 0.026515,
     "end_time": "2023-05-06T16:24:11.148814",
     "exception": false,
     "start_time": "2023-05-06T16:24:11.122299",
     "status": "completed"
    },
    "tags": []
   },
   "source": [
    "### Learning rate scheduler"
   ]
  },
  {
   "cell_type": "code",
   "execution_count": 47,
   "id": "a7f0d196",
   "metadata": {
    "execution": {
     "iopub.execute_input": "2023-05-06T16:24:11.206021Z",
     "iopub.status.busy": "2023-05-06T16:24:11.205283Z",
     "iopub.status.idle": "2023-05-06T16:24:11.212550Z",
     "shell.execute_reply": "2023-05-06T16:24:11.211354Z"
    },
    "papermill": {
     "duration": 0.037946,
     "end_time": "2023-05-06T16:24:11.214825",
     "exception": false,
     "start_time": "2023-05-06T16:24:11.176879",
     "status": "completed"
    },
    "tags": []
   },
   "outputs": [],
   "source": [
    "def lrfn(current_step, num_warmup_steps, lr_max, num_cycles=0.50, num_training_steps=cfg.N_EPOCHS):\n",
    "    \n",
    "    if current_step < num_warmup_steps:\n",
    "        if WARMUP_METHOD == 'log':\n",
    "            return lr_max * 0.10 ** (num_warmup_steps - current_step)\n",
    "        else:\n",
    "            return lr_max * 2 ** -(num_warmup_steps - current_step)\n",
    "    else:\n",
    "        progress = float(current_step - num_warmup_steps) / float(max(1, num_training_steps - num_warmup_steps))\n",
    "\n",
    "        return max(0.0, 0.5 * (1.0 + math.cos(math.pi * float(num_cycles) * 2.0 * progress))) * lr_max"
   ]
  },
  {
   "cell_type": "code",
   "execution_count": 48,
   "id": "f6fe4633",
   "metadata": {
    "execution": {
     "iopub.execute_input": "2023-05-06T16:24:11.269097Z",
     "iopub.status.busy": "2023-05-06T16:24:11.268431Z",
     "iopub.status.idle": "2023-05-06T16:24:12.011712Z",
     "shell.execute_reply": "2023-05-06T16:24:12.010702Z"
    },
    "papermill": {
     "duration": 0.773297,
     "end_time": "2023-05-06T16:24:12.014747",
     "exception": false,
     "start_time": "2023-05-06T16:24:11.241450",
     "status": "completed"
    },
    "tags": []
   },
   "outputs": [
    {
     "data": {
      "image/png": "[encoded data removed]",
      "text/plain": [
       "<Figure size 2000x1000 with 1 Axes>"
      ]
     },
     "metadata": {},
     "output_type": "display_data"
    }
   ],
   "source": [
    "def plot_lr_schedule(lr_schedule, epochs):\n",
    "    fig = plt.figure(figsize=(20, 10))\n",
    "    plt.plot([None] + lr_schedule + [None])\n",
    "    # X Labels\n",
    "    x = np.arange(1, epochs + 1)\n",
    "    x_axis_labels = [i if epochs <= 40 or i % 5 == 0 or i == 1 else None for i in range(1, epochs + 1)]\n",
    "    plt.xlim([1, epochs])\n",
    "    plt.xticks(x, x_axis_labels) # set tick step to 1 and let x axis start at 1\n",
    "    \n",
    "    # Increase y-limit for better readability\n",
    "    plt.ylim([0, max(lr_schedule) * 1.1])\n",
    "    \n",
    "    # Title\n",
    "    schedule_info = f'start: {lr_schedule[0]:.1E}, max: {max(lr_schedule):.1E}, final: {lr_schedule[-1]:.1E}'\n",
    "    plt.title(f'Step Learning Rate Schedule, {schedule_info}', size=18, pad=12)\n",
    "    \n",
    "    # Plot Learning Rates\n",
    "    for x, val in enumerate(lr_schedule):\n",
    "        if epochs <= 40 or x % 5 == 0 or x is epochs - 1:\n",
    "            if x < len(lr_schedule) - 1:\n",
    "                if lr_schedule[x - 1] < val:\n",
    "                    ha = 'right'\n",
    "                else:\n",
    "                    ha = 'left'\n",
    "            elif x == 0:\n",
    "                ha = 'right'\n",
    "            else:\n",
    "                ha = 'left'\n",
    "            plt.plot(x + 1, val, 'o', color='black');\n",
    "            offset_y = (max(lr_schedule) - min(lr_schedule)) * 0.02\n",
    "            plt.annotate(f'{val:.1E}', xy=(x + 1, val + offset_y), size=12, ha=ha)\n",
    "    \n",
    "    plt.xlabel('Epoch', size=16, labelpad=5)\n",
    "    plt.ylabel('Learning Rate', size=16, labelpad=5)\n",
    "    plt.grid()\n",
    "    plt.show()\n",
    "\n",
    "# Learning rate for encoder\n",
    "LR_SCHEDULE = [lrfn(step, num_warmup_steps=cfg.N_WARMUP_EPOCHS, lr_max=cfg.LR_MAX, num_cycles=0.50) for step in range(cfg.N_EPOCHS)]\n",
    "# Plot Learning Rate Schedule\n",
    "plot_lr_schedule(LR_SCHEDULE, epochs=cfg.N_EPOCHS)\n",
    "# Learning Rate Callback\n",
    "lr_callback = tf.keras.callbacks.LearningRateScheduler(lambda step: LR_SCHEDULE[step], verbose=1)"
   ]
  },
  {
   "cell_type": "markdown",
   "id": "fff24c91",
   "metadata": {
    "papermill": {
     "duration": 0.026851,
     "end_time": "2023-05-06T16:24:12.069224",
     "exception": false,
     "start_time": "2023-05-06T16:24:12.042373",
     "status": "completed"
    },
    "tags": []
   },
   "source": [
    "#### Weight decay callback"
   ]
  },
  {
   "cell_type": "code",
   "execution_count": 49,
   "id": "632680ef",
   "metadata": {
    "execution": {
     "iopub.execute_input": "2023-05-06T16:24:12.123849Z",
     "iopub.status.busy": "2023-05-06T16:24:12.123490Z",
     "iopub.status.idle": "2023-05-06T16:24:12.129583Z",
     "shell.execute_reply": "2023-05-06T16:24:12.128483Z"
    },
    "papermill": {
     "duration": 0.036088,
     "end_time": "2023-05-06T16:24:12.131688",
     "exception": false,
     "start_time": "2023-05-06T16:24:12.095600",
     "status": "completed"
    },
    "tags": []
   },
   "outputs": [],
   "source": [
    "# Custom callback to update weight decay with learning rate\n",
    "class WeightDecayCallback(tf.keras.callbacks.Callback):\n",
    "    def __init__(self, wd_ratio=cfg.WD_RATIO):\n",
    "        self.step_counter = 0\n",
    "        self.wd_ratio = wd_ratio\n",
    "    \n",
    "    def on_epoch_begin(self, epoch, logs=None):\n",
    "        model_one.optimizer.weight_decay = model_one.optimizer.learning_rate * self.wd_ratio\n",
    "        print(f'learning rate: {model_one.optimizer.learning_rate.numpy():.2e}, weight decay: {model_one.optimizer.weight_decay.numpy():.2e}')"
   ]
  },
  {
   "cell_type": "code",
   "execution_count": 50,
   "id": "1e69b63c",
   "metadata": {
    "execution": {
     "iopub.execute_input": "2023-05-06T16:24:12.186638Z",
     "iopub.status.busy": "2023-05-06T16:24:12.185821Z",
     "iopub.status.idle": "2023-05-06T16:24:12.193117Z",
     "shell.execute_reply": "2023-05-06T16:24:12.191950Z"
    },
    "papermill": {
     "duration": 0.036606,
     "end_time": "2023-05-06T16:24:12.195049",
     "exception": false,
     "start_time": "2023-05-06T16:24:12.158443",
     "status": "completed"
    },
    "tags": []
   },
   "outputs": [
    {
     "name": "stdout",
     "output_type": "stream",
     "text": [
      "54 ns ± 5.42 ns per loop (mean ± std. dev. of 7 runs, 100 loops each)\n"
     ]
    }
   ],
   "source": [
    "%%timeit -n 100\n",
    "if cfg.TRAIN_MODEL:\n",
    "    # Verify model_one prediction is <<<100ms\n",
    "    model_one.predict_on_batch({ 'frames': X[:1], 'non_empty_frame_idxs': NON_EMPTY_FRAME_IDXS[:1] })"
   ]
  },
  {
   "cell_type": "markdown",
   "id": "182c2b6b",
   "metadata": {
    "papermill": {
     "duration": 0.028301,
     "end_time": "2023-05-06T16:24:12.250186",
     "exception": false,
     "start_time": "2023-05-06T16:24:12.221885",
     "status": "completed"
    },
    "tags": []
   },
   "source": [
    "#### Training"
   ]
  },
  {
   "cell_type": "code",
   "execution_count": 51,
   "id": "ab078d3e",
   "metadata": {
    "execution": {
     "iopub.execute_input": "2023-05-06T16:24:12.305063Z",
     "iopub.status.busy": "2023-05-06T16:24:12.304758Z",
     "iopub.status.idle": "2023-05-06T16:24:14.197003Z",
     "shell.execute_reply": "2023-05-06T16:24:14.195868Z"
    },
    "papermill": {
     "duration": 1.922599,
     "end_time": "2023-05-06T16:24:14.199738",
     "exception": false,
     "start_time": "2023-05-06T16:24:12.277139",
     "status": "completed"
    },
    "tags": []
   },
   "outputs": [],
   "source": [
    "X_train = X[train_idxs]\n",
    "X_val = X[val_idxs]\n",
    "NON_EMPTY_FRAME_IDXS_TRAIN = NON_EMPTY_FRAME_IDXS[train_idxs]\n",
    "NON_EMPTY_FRAME_IDXS_VAL = NON_EMPTY_FRAME_IDXS[val_idxs]\n",
    "y_train = y[train_idxs]\n",
    "y_val = y[val_idxs]"
   ]
  },
  {
   "cell_type": "code",
   "execution_count": 52,
   "id": "79d96ff7",
   "metadata": {
    "execution": {
     "iopub.execute_input": "2023-05-06T16:24:14.257346Z",
     "iopub.status.busy": "2023-05-06T16:24:14.256547Z",
     "iopub.status.idle": "2023-05-06T16:24:14.269500Z",
     "shell.execute_reply": "2023-05-06T16:24:14.268488Z"
    },
    "papermill": {
     "duration": 0.0438,
     "end_time": "2023-05-06T16:24:14.271680",
     "exception": false,
     "start_time": "2023-05-06T16:24:14.227880",
     "status": "completed"
    },
    "tags": []
   },
   "outputs": [],
   "source": [
    "# delete variables as we go to free up RAM\n",
    "del X_train; del y_train"
   ]
  },
  {
   "cell_type": "markdown",
   "id": "65493c83",
   "metadata": {
    "papermill": {
     "duration": 0.026467,
     "end_time": "2023-05-06T16:24:14.325008",
     "exception": false,
     "start_time": "2023-05-06T16:24:14.298541",
     "status": "completed"
    },
    "tags": []
   },
   "source": [
    "## Training"
   ]
  },
  {
   "cell_type": "code",
   "execution_count": 53,
   "id": "3d4719a0",
   "metadata": {
    "execution": {
     "iopub.execute_input": "2023-05-06T16:24:14.380063Z",
     "iopub.status.busy": "2023-05-06T16:24:14.379707Z",
     "iopub.status.idle": "2023-05-06T16:24:14.386021Z",
     "shell.execute_reply": "2023-05-06T16:24:14.384808Z"
    },
    "papermill": {
     "duration": 0.036883,
     "end_time": "2023-05-06T16:24:14.388423",
     "exception": false,
     "start_time": "2023-05-06T16:24:14.351540",
     "status": "completed"
    },
    "tags": []
   },
   "outputs": [],
   "source": [
    "if cfg.TRAIN_MODEL:\n",
    "    tf.keras.backend.clear_session()\n",
    "    callbacks=[\n",
    "            lr_callback,\n",
    "            WeightDecayCallback(),\n",
    "           # wandb.keras.WandbCallback()\n",
    "    ]\n",
    "    model_one.fit(\n",
    "        x=get_train_batch_all_signs(X, y, NON_EMPTY_FRAME_IDXS),\n",
    "        steps_per_epoch=len(X) // (cfg.NUM_CLASSES * cfg.BATCH_ALL_SIGNS_N),\n",
    "        epochs=cfg.N_EPOCHS,\n",
    "        batch_size=cfg.BATCH_SIZE,\n",
    "        callbacks=callbacks,\n",
    "        verbose = 2,) "
   ]
  },
  {
   "cell_type": "code",
   "execution_count": 54,
   "id": "cece9aac",
   "metadata": {
    "execution": {
     "iopub.execute_input": "2023-05-06T16:24:14.451410Z",
     "iopub.status.busy": "2023-05-06T16:24:14.451071Z",
     "iopub.status.idle": "2023-05-06T16:24:14.456233Z",
     "shell.execute_reply": "2023-05-06T16:24:14.455099Z"
    },
    "papermill": {
     "duration": 0.039685,
     "end_time": "2023-05-06T16:24:14.458587",
     "exception": false,
     "start_time": "2023-05-06T16:24:14.418902",
     "status": "completed"
    },
    "tags": []
   },
   "outputs": [],
   "source": [
    "# save model artifacts\n",
    "if cfg.TRAIN_MODEL:# serialize weights to HDF5\n",
    "    model_one.save(\"model_v1.1.h5\")"
   ]
  },
  {
   "cell_type": "code",
   "execution_count": 55,
   "id": "cd9374c8",
   "metadata": {
    "execution": {
     "iopub.execute_input": "2023-05-06T16:24:14.520913Z",
     "iopub.status.busy": "2023-05-06T16:24:14.520550Z",
     "iopub.status.idle": "2023-05-06T16:24:14.525361Z",
     "shell.execute_reply": "2023-05-06T16:24:14.524238Z"
    },
    "papermill": {
     "duration": 0.038934,
     "end_time": "2023-05-06T16:24:14.527670",
     "exception": false,
     "start_time": "2023-05-06T16:24:14.488736",
     "status": "completed"
    },
    "tags": []
   },
   "outputs": [],
   "source": [
    "# # Landmark Weights\n",
    "# weights = scipy.special.softmax(model_one.get_layer('custom_embedding').weights[15])\n",
    "# landmarks = ['lips_embedding', 'left_hand_embedding', 'right_hand_embedding', 'pose_embedding']\n",
    "\n",
    "# # Learned attention weights, initialized at uniform 25%\n",
    "# for w, lm in zip(weights, landmarks):\n",
    "#     print(f'{lm} weight: {(w*100):.1f}%')"
   ]
  },
  {
   "cell_type": "markdown",
   "id": "f5cfd821",
   "metadata": {
    "papermill": {
     "duration": 0.0309,
     "end_time": "2023-05-06T16:24:14.589454",
     "exception": false,
     "start_time": "2023-05-06T16:24:14.558554",
     "status": "completed"
    },
    "tags": []
   },
   "source": [
    "# Feed-Forward Neural Networks"
   ]
  },
  {
   "cell_type": "markdown",
   "id": "c9a77086",
   "metadata": {
    "papermill": {
     "duration": 0.030089,
     "end_time": "2023-05-06T16:24:14.648985",
     "exception": false,
     "start_time": "2023-05-06T16:24:14.618896",
     "status": "completed"
    },
    "tags": []
   },
   "source": [
    "## Configuration"
   ]
  },
  {
   "cell_type": "code",
   "execution_count": 56,
   "id": "328f15d1",
   "metadata": {
    "execution": {
     "iopub.execute_input": "2023-05-06T16:24:14.712590Z",
     "iopub.status.busy": "2023-05-06T16:24:14.711419Z",
     "iopub.status.idle": "2023-05-06T16:24:14.723498Z",
     "shell.execute_reply": "2023-05-06T16:24:14.721953Z"
    },
    "papermill": {
     "duration": 0.046149,
     "end_time": "2023-05-06T16:24:14.725872",
     "exception": false,
     "start_time": "2023-05-06T16:24:14.679723",
     "status": "completed"
    },
    "tags": []
   },
   "outputs": [
    {
     "name": "stdout",
     "output_type": "stream",
     "text": [
      "40\n",
      "84\n",
      "5796\n"
     ]
    }
   ],
   "source": [
    "\n",
    "NUM_FRAMES = 15\n",
    "SEGMENTS = 3\n",
    "\n",
    "LEFT_HAND_OFFSET = 468\n",
    "POSE_OFFSET = LEFT_HAND_OFFSET+21\n",
    "RIGHT_HAND_OFFSET = POSE_OFFSET+33\n",
    "\n",
    "## average over the entire face, and the entire 'pose'\n",
    "averaging_sets = [[0, 468], [POSE_OFFSET, 33]]\n",
    "\n",
    "lip_landmarks = [61, 185, 40, 39, 37,  0, 267, 269, 270, 409,\n",
    "                 291,146, 91,181, 84, 17, 314, 405, 321, 375, \n",
    "                 78, 191, 80, 81, 82, 13, 312, 311, 310, 415, \n",
    "                 95, 88, 178, 87, 14,317, 402, 318, 324, 308]\n",
    "left_hand_landmarks = list(range(LEFT_HAND_OFFSET, LEFT_HAND_OFFSET+21))\n",
    "right_hand_landmarks = list(range(RIGHT_HAND_OFFSET, RIGHT_HAND_OFFSET+21))\n",
    "print(len(lip_landmarks))\n",
    "point_landmarks = [item for sublist in [lip_landmarks, left_hand_landmarks, right_hand_landmarks] for item in sublist]\n",
    "LANDMARKS = len(point_landmarks) + len(averaging_sets)\n",
    "print(LANDMARKS)\n",
    "if CFG.DROP_Z:\n",
    "    INPUT_SHAPE = (NUM_FRAMES,LANDMARKS*2)\n",
    "else:\n",
    "    INPUT_SHAPE = (NUM_FRAMES,LANDMARKS*3)\n",
    "\n",
    "FLAT_INPUT_SHAPE = (INPUT_SHAPE[0] + 2 * (SEGMENTS + 1)) * INPUT_SHAPE[1]\n",
    "print(FLAT_INPUT_SHAPE)"
   ]
  },
  {
   "cell_type": "code",
   "execution_count": 57,
   "id": "fdf24432",
   "metadata": {
    "execution": {
     "iopub.execute_input": "2023-05-06T16:24:14.788838Z",
     "iopub.status.busy": "2023-05-06T16:24:14.788150Z",
     "iopub.status.idle": "2023-05-06T16:24:14.798668Z",
     "shell.execute_reply": "2023-05-06T16:24:14.797507Z"
    },
    "papermill": {
     "duration": 0.045025,
     "end_time": "2023-05-06T16:24:14.801329",
     "exception": false,
     "start_time": "2023-05-06T16:24:14.756304",
     "status": "completed"
    },
    "tags": []
   },
   "outputs": [
    {
     "name": "stdout",
     "output_type": "stream",
     "text": [
      "84\n",
      "3864\n"
     ]
    }
   ],
   "source": [
    "DROP_Z = True\n",
    "\n",
    "NUM_FRAMES = 15\n",
    "SEGMENTS = 3\n",
    "\n",
    "LEFT_HAND_OFFSET = 468\n",
    "POSE_OFFSET = LEFT_HAND_OFFSET+21\n",
    "RIGHT_HAND_OFFSET = POSE_OFFSET+33\n",
    "\n",
    "## average over the entire face, and the entire 'pose'\n",
    "averaging_sets = [[0, 468], [POSE_OFFSET, 33]]\n",
    "\n",
    "lip_landmarks = [61, 185, 40, 39, 37,  0, 267, 269, 270, 409,\n",
    "                 291,146, 91,181, 84, 17, 314, 405, 321, 375, \n",
    "                 78, 191, 80, 81, 82, 13, 312, 311, 310, 415, \n",
    "                 95, 88, 178, 87, 14,317, 402, 318, 324, 308]\n",
    "left_hand_landmarks = list(range(LEFT_HAND_OFFSET, LEFT_HAND_OFFSET+21))\n",
    "right_hand_landmarks = list(range(RIGHT_HAND_OFFSET, RIGHT_HAND_OFFSET+21))\n",
    "\n",
    "point_landmarks = [item for sublist in [lip_landmarks, left_hand_landmarks, right_hand_landmarks] for item in sublist]\n",
    "\n",
    "LANDMARKS = len(point_landmarks) + len(averaging_sets)\n",
    "print(LANDMARKS)\n",
    "if DROP_Z:\n",
    "    INPUT_SHAPE1 = (NUM_FRAMES,LANDMARKS*2)\n",
    "else:\n",
    "    INPUT_SHAPE1 = (NUM_FRAMES,LANDMARKS*3)\n",
    "\n",
    "FLAT_INPUT_SHAPE = (INPUT_SHAPE1[0] + 2 * (SEGMENTS + 1)) * INPUT_SHAPE1[1]\n",
    "print(FLAT_INPUT_SHAPE)"
   ]
  },
  {
   "cell_type": "markdown",
   "id": "aad5195f",
   "metadata": {
    "papermill": {
     "duration": 0.030536,
     "end_time": "2023-05-06T16:24:14.862562",
     "exception": false,
     "start_time": "2023-05-06T16:24:14.832026",
     "status": "completed"
    },
    "tags": []
   },
   "source": [
    "## Utilites"
   ]
  },
  {
   "cell_type": "code",
   "execution_count": 58,
   "id": "7b8bbd9b",
   "metadata": {
    "execution": {
     "iopub.execute_input": "2023-05-06T16:24:14.926338Z",
     "iopub.status.busy": "2023-05-06T16:24:14.925248Z",
     "iopub.status.idle": "2023-05-06T16:24:14.935287Z",
     "shell.execute_reply": "2023-05-06T16:24:14.934191Z"
    },
    "papermill": {
     "duration": 0.044466,
     "end_time": "2023-05-06T16:24:14.937738",
     "exception": false,
     "start_time": "2023-05-06T16:24:14.893272",
     "status": "completed"
    },
    "tags": []
   },
   "outputs": [],
   "source": [
    "def tf_nan_mean(x, axis=0):\n",
    "    return tf.reduce_sum(tf.where(tf.math.is_nan(x), tf.zeros_like(x), x), axis=axis) / tf.reduce_sum(tf.where(tf.math.is_nan(x), tf.zeros_like(x), tf.ones_like(x)), axis=axis)\n",
    "\n",
    "def tf_nan_std(x, axis=0):\n",
    "    d = x - tf_nan_mean(x, axis=axis)\n",
    "    return tf.math.sqrt(tf_nan_mean(d * d, axis=axis))\n",
    "\n",
    "def flatten_means_and_stds(x, axis=0):\n",
    "    # Get means and stds\n",
    "    x_mean = tf_nan_mean(x, axis=0)\n",
    "    x_std  = tf_nan_std(x,  axis=0)\n",
    "\n",
    "    x_out = tf.concat([x_mean, x_std], axis=0)\n",
    "    x_out = tf.reshape(x_out, (1, INPUT_SHAPE[1]*2))\n",
    "    x_out = tf.where(tf.math.is_finite(x_out), x_out, tf.zeros_like(x_out))\n",
    "    return x_out"
   ]
  },
  {
   "cell_type": "code",
   "execution_count": 59,
   "id": "8207a24e",
   "metadata": {
    "execution": {
     "iopub.execute_input": "2023-05-06T16:24:15.001195Z",
     "iopub.status.busy": "2023-05-06T16:24:15.000192Z",
     "iopub.status.idle": "2023-05-06T16:24:15.289189Z",
     "shell.execute_reply": "2023-05-06T16:24:15.288042Z"
    },
    "papermill": {
     "duration": 0.323519,
     "end_time": "2023-05-06T16:24:15.291922",
     "exception": false,
     "start_time": "2023-05-06T16:24:14.968403",
     "status": "completed"
    },
    "tags": []
   },
   "outputs": [],
   "source": [
    "def flatten_means_and_stds1(x, axis=0):\n",
    "    # Get means and stds\n",
    "    x_mean = tf_nan_mean(x, axis=0)\n",
    "    x_std  = tf_nan_std(x,  axis=0)\n",
    "\n",
    "    x_out = tf.concat([x_mean, x_std], axis=0)\n",
    "    x_out = tf.reshape(x_out, (1, INPUT_SHAPE1[1]*2))\n",
    "    x_out = tf.where(tf.math.is_finite(x_out), x_out, tf.zeros_like(x_out))\n",
    "    return x_out\n",
    "\n",
    "class FeatureGen_2(tf.keras.layers.Layer):\n",
    "    def __init__(self):\n",
    "        super(FeatureGen_2, self).__init__()\n",
    "    \n",
    "    def call(self, x_in):\n",
    "        if DROP_Z:\n",
    "            x_in = x_in[:, :, 0:2]\n",
    "        x_list = [tf.expand_dims(tf_nan_mean(x_in[:, av_set[0]:av_set[0]+av_set[1], :], axis=1), axis=1) for av_set in averaging_sets]\n",
    "        x_list.append(tf.gather(x_in, point_landmarks, axis=1))\n",
    "        x = tf.concat(x_list, 1)\n",
    "\n",
    "        x_padded = x\n",
    "        for i in range(SEGMENTS):\n",
    "            p0 = tf.where( ((tf.shape(x_padded)[0] % SEGMENTS) > 0) & ((i % 2) != 0) , 1, 0)\n",
    "            p1 = tf.where( ((tf.shape(x_padded)[0] % SEGMENTS) > 0) & ((i % 2) == 0) , 1, 0)\n",
    "            paddings = [[p0, p1], [0, 0], [0, 0]]\n",
    "            x_padded = tf.pad(x_padded, paddings, mode=\"SYMMETRIC\")\n",
    "        x_list = tf.split(x_padded, SEGMENTS)\n",
    "        x_list = [flatten_means_and_stds1(_x, axis=0) for _x in x_list]\n",
    "\n",
    "        x_list.append(flatten_means_and_stds1(x, axis=0))\n",
    "        \n",
    "        ## Resize only dimension 0. Resize can't handle nan, so replace nan with that dimension's avg value to reduce impact.\n",
    "        x = tf.image.resize(tf.where(tf.math.is_finite(x), x, tf_nan_mean(x, axis=0)), [NUM_FRAMES, LANDMARKS])\n",
    "        x = tf.reshape(x, (1, INPUT_SHAPE1[0]*INPUT_SHAPE1[1]))\n",
    "        x = tf.where(tf.math.is_nan(x), tf.zeros_like(x), x)\n",
    "        x_list.append(x)\n",
    "        x = tf.concat(x_list, axis=1)\n",
    "        return x"
   ]
  },
  {
   "cell_type": "code",
   "execution_count": 60,
   "id": "900e1003",
   "metadata": {
    "execution": {
     "iopub.execute_input": "2023-05-06T16:24:15.357049Z",
     "iopub.status.busy": "2023-05-06T16:24:15.356290Z",
     "iopub.status.idle": "2023-05-06T16:24:15.370192Z",
     "shell.execute_reply": "2023-05-06T16:24:15.369063Z"
    },
    "papermill": {
     "duration": 0.048793,
     "end_time": "2023-05-06T16:24:15.372593",
     "exception": false,
     "start_time": "2023-05-06T16:24:15.323800",
     "status": "completed"
    },
    "tags": []
   },
   "outputs": [],
   "source": [
    "class FeatureGen(tf.keras.layers.Layer):\n",
    "    def __init__(self):\n",
    "        super(FeatureGen, self).__init__()\n",
    "    \n",
    "    def call(self, x_in):\n",
    "        #x_in = load_relevant_data_subset(x_in)\n",
    "        if CFG.DROP_Z:\n",
    "            x_in = x_in[:, :, 0:2]\n",
    "        x_list = [tf.expand_dims(tf_nan_mean(x_in[:, av_set[0]:av_set[0]+av_set[1], :], axis=1), axis=1) \n",
    "                  for av_set in averaging_sets]\n",
    "        x_list.append(tf.gather(x_in, point_landmarks, axis=1))\n",
    "        x = tf.concat(x_list, 1)\n",
    "        #avg pose+face, 82 landmarks - (23,84,3)\n",
    "        x_padded = x\n",
    "        for i in range(SEGMENTS):\n",
    "            p0 = tf.where( ((tf.shape(x_padded)[0] % SEGMENTS) > 0) & ((i % 2) != 0) , 1, 0)\n",
    "            p1 = tf.where( ((tf.shape(x_padded)[0] % SEGMENTS) > 0) & ((i % 2) == 0) , 1, 0)\n",
    "            paddings = [[p0, p1], [0, 0], [0, 0]]\n",
    "            x_padded = tf.pad(x_padded, paddings, mode=\"SYMMETRIC\")\n",
    "        x_list = tf.split(x_padded, SEGMENTS)\n",
    "        #padding upto /3 and splitting - (24,84,3)\n",
    "\n",
    "        #flatten (8,84,3),(8,84,3),(8,84,3) with means and std - so, we would get 3 sets\n",
    "        x_list = [flatten_means_and_stds(_x, axis=0) for _x in x_list]\n",
    "\n",
    "        #flatten (23,84,3) with means and std\n",
    "        x_list.append(flatten_means_and_stds(x, axis=0))\n",
    "        print(x_list)\n",
    "        ## Resize only dimension 0. Resize can't handle nan, so replace nan with that dimension's avg value to reduce impact.\n",
    "        #resize (23,84,3) to (15,84,3)\n",
    "        x = tf.image.resize(tf.where(tf.math.is_finite(x), x, tf_nan_mean(x, axis=0)), [NUM_FRAMES, LANDMARKS])\n",
    "        #flatten it\n",
    "        x = tf.reshape(x, (1, INPUT_SHAPE[0]*INPUT_SHAPE[1]))\n",
    "        x = tf.where(tf.math.is_nan(x), tf.zeros_like(x), x)\n",
    "        x_list.append(x)\n",
    "        x = tf.concat(x_list, axis=1)\n",
    "        return x"
   ]
  },
  {
   "cell_type": "code",
   "execution_count": 61,
   "id": "38760186",
   "metadata": {
    "execution": {
     "iopub.execute_input": "2023-05-06T16:24:15.435884Z",
     "iopub.status.busy": "2023-05-06T16:24:15.434897Z",
     "iopub.status.idle": "2023-05-06T16:24:15.441085Z",
     "shell.execute_reply": "2023-05-06T16:24:15.440066Z"
    },
    "papermill": {
     "duration": 0.040241,
     "end_time": "2023-05-06T16:24:15.443523",
     "exception": false,
     "start_time": "2023-05-06T16:24:15.403282",
     "status": "completed"
    },
    "tags": []
   },
   "outputs": [],
   "source": [
    "#added in version 20\n",
    "def normalize_data(x, axis=0):\n",
    "    # Get means and stds\n",
    "    x_mean = tf_nan_mean(x, axis=0)\n",
    "    x_std  = tf_nan_std(x,  axis=0)\n",
    "    return  (x - x_mean) / x_std"
   ]
  },
  {
   "cell_type": "markdown",
   "id": "ad75870e",
   "metadata": {
    "papermill": {
     "duration": 0.030192,
     "end_time": "2023-05-06T16:24:15.560117",
     "exception": false,
     "start_time": "2023-05-06T16:24:15.529925",
     "status": "completed"
    },
    "tags": []
   },
   "source": [
    "## Create dataset"
   ]
  },
  {
   "cell_type": "code",
   "execution_count": 62,
   "id": "a981d203",
   "metadata": {
    "execution": {
     "iopub.execute_input": "2023-05-06T16:24:15.622398Z",
     "iopub.status.busy": "2023-05-06T16:24:15.622004Z",
     "iopub.status.idle": "2023-05-06T16:24:32.244396Z",
     "shell.execute_reply": "2023-05-06T16:24:32.243319Z"
    },
    "papermill": {
     "duration": 16.656924,
     "end_time": "2023-05-06T16:24:32.247043",
     "exception": false,
     "start_time": "2023-05-06T16:24:15.590119",
     "status": "completed"
    },
    "tags": []
   },
   "outputs": [],
   "source": [
    "if CFG.make_featuregen:    \n",
    "    xs=[]\n",
    "    ys=[]\n",
    "    for i in tqdm(range(len(train))):\n",
    "        path = f\"{CFG.data_path}{train.iloc[i].path}\"\n",
    "        xs.append(FeatureGen()(load_relevant_data_subset(path)))\n",
    "        ys.append(train.iloc[i].label)\n",
    "    X = np.array(xs)\n",
    "    y = np.array(ys)\n",
    "    np.save(\"X_featuregen.npy\", X)\n",
    "    np.save(\"y_featuregen.npy\", y)\n",
    "else:\n",
    "    if CFG.DROP_Z:\n",
    "        X = np.load(\"/kaggle/input/asl-features/feature-set-one/feature_data.npy\")\n",
    "        y = np.load(\"/kaggle/input/asl-features/feature-set-one/feature_labels.npy\")        \n",
    "    else:\n",
    "        X = np.load(\"/kaggle/input/islr-feature-gen-dataset/X_featuregen.npy\")\n",
    "        y = np.load(\"/kaggle/input/islr-feature-gen-dataset/y_featuregen.npy\")"
   ]
  },
  {
   "cell_type": "code",
   "execution_count": 63,
   "id": "874de1a8",
   "metadata": {
    "execution": {
     "iopub.execute_input": "2023-05-06T16:24:32.304871Z",
     "iopub.status.busy": "2023-05-06T16:24:32.304525Z",
     "iopub.status.idle": "2023-05-06T16:24:32.309221Z",
     "shell.execute_reply": "2023-05-06T16:24:32.308045Z"
    },
    "papermill": {
     "duration": 0.035711,
     "end_time": "2023-05-06T16:24:32.311436",
     "exception": false,
     "start_time": "2023-05-06T16:24:32.275725",
     "status": "completed"
    },
    "tags": []
   },
   "outputs": [],
   "source": [
    "# X_norm_mean = tf_nan_mean(X, axis=0)\n",
    "# X_norm_std = tf_nan_std(X,  axis=0)\n",
    "\n",
    "# #data_leakage, split and then normalize\n",
    "# X=np.array(normalize_data(X))\n",
    "# X"
   ]
  },
  {
   "cell_type": "code",
   "execution_count": 64,
   "id": "ff5e047f",
   "metadata": {
    "execution": {
     "iopub.execute_input": "2023-05-06T16:24:32.366994Z",
     "iopub.status.busy": "2023-05-06T16:24:32.366253Z",
     "iopub.status.idle": "2023-05-06T16:24:32.372859Z",
     "shell.execute_reply": "2023-05-06T16:24:32.371940Z"
    },
    "papermill": {
     "duration": 0.03671,
     "end_time": "2023-05-06T16:24:32.374918",
     "exception": false,
     "start_time": "2023-05-06T16:24:32.338208",
     "status": "completed"
    },
    "tags": []
   },
   "outputs": [],
   "source": [
    "# #don't use, could lead to data leakage\n",
    "# class FeatureGenInf(tf.keras.layers.Layer):\n",
    "#     def __init__(self, dist_mean = X_norm_mean, dist_std = X_norm_std ):\n",
    "#         super(FeatureGenInf, self).__init__()\n",
    "#         self.dist_mean = tf.constant(dist_mean,dtype=tf.float32)\n",
    "#         self.dist_std = tf.constant(dist_std, dtype=tf.float32)\n",
    "    \n",
    "#     def call(self, x_in):\n",
    "#         if CFG.DROP_Z:\n",
    "#             x_in = x_in[:, :, 0:2]\n",
    "#         x_list = [tf.expand_dims(tf_nan_mean(x_in[:, av_set[0]:av_set[0]+av_set[1], :], axis=1), axis=1) \n",
    "#                   for av_set in averaging_sets]\n",
    "#         x_list.append(tf.gather(x_in, point_landmarks, axis=1))\n",
    "#         x = tf.concat(x_list, 1)\n",
    "#         #avg pose+face, 82 landmarks - (23,84,3)\n",
    "#         x_padded = x\n",
    "#         for i in range(SEGMENTS):\n",
    "#             p0 = tf.where( ((tf.shape(x_padded)[0] % SEGMENTS) > 0) & ((i % 2) != 0) , 1, 0)\n",
    "#             p1 = tf.where( ((tf.shape(x_padded)[0] % SEGMENTS) > 0) & ((i % 2) == 0) , 1, 0)\n",
    "#             paddings = [[p0, p1], [0, 0], [0, 0]]\n",
    "#             x_padded = tf.pad(x_padded, paddings, mode=\"SYMMETRIC\")\n",
    "#         x_list = tf.split(x_padded, SEGMENTS)\n",
    "#         #padding upto /3 and splitting - (24,84,3)\n",
    "\n",
    "#         #flatten (8,84,3),(8,84,3),(8,84,3) with means and std - so, we would get n/3 sets\n",
    "#         x_list = [flatten_means_and_stds(_x, axis=0) for _x in x_list]\n",
    "\n",
    "#         #flatten (23,84,3) with means and std\n",
    "#         x_list.append(flatten_means_and_stds(x, axis=0))\n",
    "\n",
    "#         ## Resize only dimension 0. Resize can't handle nan, so replace nan with that dimension's avg value to reduce impact.\n",
    "#         #resize (23,84,3) to (15,84,3)\n",
    "#         x = tf.image.resize(tf.where(tf.math.is_finite(x), x, tf_nan_mean(x, axis=0)), [NUM_FRAMES, LANDMARKS])\n",
    "#         #flatten it\n",
    "#         x = tf.reshape(x, (1, INPUT_SHAPE[0]*INPUT_SHAPE[1]))\n",
    "#         x = tf.where(tf.math.is_nan(x), tf.zeros_like(x), x)\n",
    "#         x_list.append(x)\n",
    "#         x = tf.concat(x_list, axis=1)\n",
    "#         x = (x - self.dist_mean) / self.dist_std\n",
    "#         return x"
   ]
  },
  {
   "cell_type": "code",
   "execution_count": 65,
   "id": "5088f45b",
   "metadata": {
    "execution": {
     "iopub.execute_input": "2023-05-06T16:24:32.430333Z",
     "iopub.status.busy": "2023-05-06T16:24:32.429482Z",
     "iopub.status.idle": "2023-05-06T16:24:32.435932Z",
     "shell.execute_reply": "2023-05-06T16:24:32.434944Z"
    },
    "papermill": {
     "duration": 0.036293,
     "end_time": "2023-05-06T16:24:32.438089",
     "exception": false,
     "start_time": "2023-05-06T16:24:32.401796",
     "status": "completed"
    },
    "tags": []
   },
   "outputs": [],
   "source": [
    "# def load_xy():\n",
    "#     all_x = np.load(\"/kaggle/input/isolated-sign-language-aggregation-preparation/feature_data.npy\").astype(np.float32)\n",
    "#     all_y = np.load(\"/kaggle/input/isolated-sign-language-aggregation-preparation/feature_labels.npy\").astype(np.uint8)\n",
    "\n",
    "#     # add nan back in not to screw up means/std\n",
    "#     all_x = np.where(all_x==0.0, np.nan, all_x)\n",
    "\n",
    "#     # Get mean and std ignoring nans\n",
    "#     all_mean = np.nanmean(all_x, keepdims=True, axis=0)\n",
    "#     all_std = np.nanstd(all_x, keepdims=True, axis=0)\n",
    "\n",
    "#     all_x = (all_x-all_mean)/all_std\n",
    "#     # Technically I don't need to do the were because np.nan \n",
    "#     # subtracting or dividing anything still results in np.nan\n",
    "#     #    - all_x = np.where(np.isnan(all_x), all_x, all_x-all_mean)\n",
    "#     #    - all_x = np.where(np.isnan(all_x), all_x, all_x/all_std)\n",
    "\n",
    "#     # Back to 0s\n",
    "#     all_x = np.nan_to_num(all_x)\n",
    "#     return all_x, all_y"
   ]
  },
  {
   "cell_type": "code",
   "execution_count": 66,
   "id": "e2317bc3",
   "metadata": {
    "execution": {
     "iopub.execute_input": "2023-05-06T16:24:32.492978Z",
     "iopub.status.busy": "2023-05-06T16:24:32.492213Z",
     "iopub.status.idle": "2023-05-06T16:24:32.497423Z",
     "shell.execute_reply": "2023-05-06T16:24:32.496512Z"
    },
    "papermill": {
     "duration": 0.035006,
     "end_time": "2023-05-06T16:24:32.499545",
     "exception": false,
     "start_time": "2023-05-06T16:24:32.464539",
     "status": "completed"
    },
    "tags": []
   },
   "outputs": [],
   "source": [
    "# all_x = np.load(\"/kaggle/input/isolated-sign-language-aggregation-preparation/feature_data.npy\").astype(np.float32)\n",
    "# all_y = np.load(\"/kaggle/input/isolated-sign-language-aggregation-preparation/feature_labels.npy\").astype(np.uint8)\n",
    "\n",
    "# # add nan back in not to screw up means/std\n",
    "# all_x = np.where(all_x==0.0, np.nan, all_x)\n",
    "\n",
    "# # Get mean and std ignoring nans\n",
    "# all_mean = np.nanmean(all_x, keepdims=True, axis=0)\n",
    "# all_std = np.nanstd(all_x, keepdims=True, axis=0)\n",
    "\n",
    "# all_x = (all_x-all_mean)/all_std\n",
    "# # Technically I don't need to do the were because np.nan \n",
    "# # subtracting or dividing anything still results in np.nan\n",
    "# #    - all_x = np.where(np.isnan(all_x), all_x, all_x-all_mean)\n",
    "# #    - all_x = np.where(np.isnan(all_x), all_x, all_x/all_std)\n",
    "\n",
    "# # Back to 0s\n",
    "# all_x = np.nan_to_num(all_x)"
   ]
  },
  {
   "cell_type": "code",
   "execution_count": 67,
   "id": "1b27c45d",
   "metadata": {
    "execution": {
     "iopub.execute_input": "2023-05-06T16:24:32.554603Z",
     "iopub.status.busy": "2023-05-06T16:24:32.554314Z",
     "iopub.status.idle": "2023-05-06T16:24:32.559851Z",
     "shell.execute_reply": "2023-05-06T16:24:32.558806Z"
    },
    "papermill": {
     "duration": 0.035491,
     "end_time": "2023-05-06T16:24:32.562236",
     "exception": false,
     "start_time": "2023-05-06T16:24:32.526745",
     "status": "completed"
    },
    "tags": []
   },
   "outputs": [],
   "source": [
    "# def dumb_tf_mean(x, axis=None):\n",
    "#     return tf.math.reduce_mean(x, axis=axis)\n",
    "\n",
    "# def dumb_tf_std(x, axis=None):\n",
    "#     x = tf.experimental.numpy.var(x, axis=axis, dtype=tf.float32, ddof=1)\n",
    "#     return tf.experimental.numpy.sqrt(x)\n",
    "\n",
    "# class PrepInputs(tf.keras.layers.Layer):\n",
    "#     def __init__(self, lh_idx_range=(468, 489), pose_idx_range=(489, 522), rh_idx_range=(522, 543), distribution_mean=all_mean, distribution_std=all_std):\n",
    "#         super(PrepInputs, self).__init__()\n",
    "#         self.lips = tf.constant([61, 185, 40, 39, 37, 0, 267, 269, 270, 409, 291, 146, 91, 181, 84, 17, 314, 405, 321, 375, 291, 78, 191, 80, 81, 82, 13, 312, 311, 310, 415, 308, 78, 95, 88, 178, 87, 14, 317, 402, 318, 324, 308])\n",
    "#         self.idx_ranges = [lh_idx_range, pose_idx_range, rh_idx_range]\n",
    "#         self.flat_feat_lens = [2*self.lips.shape[0],]+[2*(_range[1]-_range[0]) for _range in self.idx_ranges]\n",
    "#         self.distribution_mean = tf.constant(distribution_mean, dtype=tf.float32)\n",
    "#         self.distribution_std  = tf.constant(distribution_std, dtype=tf.float32)\n",
    "    \n",
    "#     def call(self, x_in):\n",
    "        \n",
    "#         # Split the single vector into 4\n",
    "#         xs = [tf.gather(x_in[..., :2], self.lips, axis=1),]+[x_in[:, _range[0]:_range[1], :2] for _range in self.idx_ranges]\n",
    "        \n",
    "#         # Reshape based on specific number of keypoints\n",
    "#         xs = [tf.reshape(_x, (-1, flat_feat_len)) for _x, flat_feat_len in zip(xs, self.flat_feat_lens)]\n",
    "        \n",
    "#         # Drop empty rows - Empty rows are present in \n",
    "#         #   --> face, lh, rh\n",
    "#         #   --> so we don't have to for face\n",
    "#         xs = [tf.boolean_mask(_x, tf.reduce_all(tf.logical_not(tf.math.is_nan(_x)), axis=1), axis=0) for _x in xs]\n",
    "        \n",
    "#         # Get means and stds\n",
    "#         x_means = [dumb_tf_mean(_x, axis=0) for _x in xs]\n",
    "#         x_stds  = [dumb_tf_std(_x,  axis=0) for _x in xs]\n",
    "        \n",
    "#         x_out = tf.concat([*x_means, *x_stds], axis=0)\n",
    "#         x_out = tf.expand_dims(tf.where(tf.math.is_nan(x_out), tf.zeros_like(x_out), x_out), axis=0)\n",
    "#         x_out = self.standardize_tensor(x_out)\n",
    "#         return x_out\n",
    "    \n",
    "#     def standardize_tensor(self, tensor):\n",
    "#         return tf.where(tensor!=0, (tensor-self.distribution_mean)/self.distribution_std, tf.zeros_like(tensor))\n",
    "    \n",
    "# p_demo = PrepInputs()(load_relevant_data_subset(CFG.data_path+train.path[0]))\n",
    "# print(p_demo.shape)"
   ]
  },
  {
   "cell_type": "markdown",
   "id": "2b87b725",
   "metadata": {
    "papermill": {
     "duration": 0.026503,
     "end_time": "2023-05-06T16:24:32.615749",
     "exception": false,
     "start_time": "2023-05-06T16:24:32.589246",
     "status": "completed"
    },
    "tags": []
   },
   "source": [
    "## Models"
   ]
  },
  {
   "cell_type": "code",
   "execution_count": 68,
   "id": "dabd0c9e",
   "metadata": {
    "execution": {
     "iopub.execute_input": "2023-05-06T16:24:32.671104Z",
     "iopub.status.busy": "2023-05-06T16:24:32.670826Z",
     "iopub.status.idle": "2023-05-06T16:24:32.679146Z",
     "shell.execute_reply": "2023-05-06T16:24:32.678069Z"
    },
    "papermill": {
     "duration": 0.038753,
     "end_time": "2023-05-06T16:24:32.681713",
     "exception": false,
     "start_time": "2023-05-06T16:24:32.642960",
     "status": "completed"
    },
    "tags": []
   },
   "outputs": [],
   "source": [
    "def get_model_2():\n",
    "    inputs = tf.keras.Input(shape=(472,), dtype=tf.float32)\n",
    "    vector = tf.keras.layers.Dense(1024, activation=\"gelu\")(inputs)\n",
    "    vector = tf.keras.layers.BatchNormalization()(vector) # Batch normalization layer\n",
    "    #vector = tf.keras.layers.Dropout(0.4)(vector) # Dropout layer\n",
    "    vector = tf.keras.layers.Reshape((1, 1024))(vector)\n",
    "    #vector - tf.keras.layers.LSTM(1024)(vector)\n",
    "    vector = tf.keras.layers.Dense(512, activation=\"gelu\")(vector)\n",
    "    vector = tf.keras.layers.BatchNormalization()(vector) # Batch normalization layer\n",
    "    #vector = tf.keras.layers.Dropout(0.4)(vector) # Dropout layer\n",
    "    vector = tf.keras.layers.Flatten()(vector)\n",
    "    output = tf.keras.layers.Dense(250, activation=\"softmax\")(vector)\n",
    "\n",
    "    model = tf.keras.Model(inputs=inputs, outputs=output)\n",
    "    model.compile(\n",
    "        optimizer = tf.keras.optimizers.Adam(learning_rate=1e-3),\n",
    "        loss=tf.keras.losses.SparseCategoricalCrossentropy(), \n",
    "        metrics=[\n",
    "            \"accuracy\", \n",
    "            tf.keras.metrics.SparseTopKCategoricalAccuracy(k=5, name=\"top-5-accuracy\"),\n",
    "            tf.keras.metrics.SparseTopKCategoricalAccuracy(k=10, name=\"top-10-accuracy\")\n",
    "        ]\n",
    "    )\n",
    "    return model"
   ]
  },
  {
   "cell_type": "code",
   "execution_count": 69,
   "id": "d6e2ef9c",
   "metadata": {
    "execution": {
     "iopub.execute_input": "2023-05-06T16:24:32.736301Z",
     "iopub.status.busy": "2023-05-06T16:24:32.736027Z",
     "iopub.status.idle": "2023-05-06T16:24:32.744827Z",
     "shell.execute_reply": "2023-05-06T16:24:32.743912Z"
    },
    "papermill": {
     "duration": 0.038772,
     "end_time": "2023-05-06T16:24:32.747035",
     "exception": false,
     "start_time": "2023-05-06T16:24:32.708263",
     "status": "completed"
    },
    "tags": []
   },
   "outputs": [],
   "source": [
    "def get_model_1():\n",
    "    inputs = tf.keras.Input(shape=(1,5796), dtype=tf.float32)\n",
    "    vector = tf.keras.layers.Dense(1024, activation=\"gelu\")(inputs)\n",
    "    vector = tf.keras.layers.BatchNormalization()(vector) # Batch normalization layer\n",
    "    #vector = tf.keras.layers.Dropout(0.2)(vector) # Dropout layer\n",
    "    vector = tf.keras.layers.Dense(512, activation=\"gelu\")(vector)\n",
    "    vector = tf.keras.layers.BatchNormalization()(vector) # Batch normalization layer\n",
    "    #vector = tf.keras.layers.Dropout(0.2)(vector) # Dropout layer\n",
    "    vector = tf.keras.layers.Flatten()(vector)\n",
    "    output = tf.keras.layers.Dense(250, activation=\"softmax\")(vector)\n",
    "\n",
    "    model = tf.keras.Model(inputs=inputs, outputs=output)\n",
    "    model.compile(\n",
    "        optimizer = tf.keras.optimizers.Adam(learning_rate=1e-3),\n",
    "        loss=tf.keras.losses.SparseCategoricalCrossentropy(), \n",
    "        metrics=[\n",
    "            \"accuracy\", \n",
    "            tf.keras.metrics.SparseTopKCategoricalAccuracy(k=5, name=\"top-5-accuracy\"),\n",
    "            tf.keras.metrics.SparseTopKCategoricalAccuracy(k=10, name=\"top-10-accuracy\")\n",
    "        ]\n",
    "    )\n",
    "    return model"
   ]
  },
  {
   "cell_type": "code",
   "execution_count": 70,
   "id": "b1c9bb29",
   "metadata": {
    "execution": {
     "iopub.execute_input": "2023-05-06T16:24:32.802100Z",
     "iopub.status.busy": "2023-05-06T16:24:32.801383Z",
     "iopub.status.idle": "2023-05-06T16:24:32.810499Z",
     "shell.execute_reply": "2023-05-06T16:24:32.809524Z"
    },
    "papermill": {
     "duration": 0.039113,
     "end_time": "2023-05-06T16:24:32.812556",
     "exception": false,
     "start_time": "2023-05-06T16:24:32.773443",
     "status": "completed"
    },
    "tags": []
   },
   "outputs": [],
   "source": [
    "def get_model_4():\n",
    "    inputs = tf.keras.Input(shape=(3864,), dtype=tf.float32)\n",
    "    vector = tf.keras.layers.Dense(2048)(inputs)\n",
    "    vector = tf.keras.layers.BatchNormalization()(vector)\n",
    "    vector = tf.keras.layers.Activation('gelu')(vector)\n",
    "    #vector = tf.keras.layers.Dropout(0.3)(vector)\n",
    "\n",
    "    vector = tf.keras.layers.Dense(1024)(vector)\n",
    "    vector = tf.keras.layers.BatchNormalization()(vector)\n",
    "    vector = tf.keras.layers.Activation('gelu')(vector)\n",
    "    #vector = tf.keras.layers.Dropout(0.1)(vector)\n",
    "\n",
    "    vector = tf.keras.layers.Dense(512)(vector)\n",
    "    vector = tf.keras.layers.BatchNormalization()(vector)\n",
    "    vector = tf.keras.layers.Activation('gelu')(vector)\n",
    "    #vector = tf.keras.layers.Dropout(0.1)(vector)\n",
    "    vector = tf.keras.layers.Flatten()(vector)\n",
    "    outputs = tf.keras.layers.Dense(250, activation=\"softmax\")(vector)\n",
    "\n",
    "    model = tf.keras.Model(inputs=inputs, outputs=outputs)\n",
    "    model.compile(\n",
    "        optimizer = tf.keras.optimizers.Adam(learning_rate=1e-3),\n",
    "        loss=tf.keras.losses.SparseCategoricalCrossentropy(), \n",
    "        metrics=[\n",
    "            \"accuracy\", \n",
    "            tf.keras.metrics.SparseTopKCategoricalAccuracy(k=5, name=\"top-5-accuracy\"),\n",
    "            tf.keras.metrics.SparseTopKCategoricalAccuracy(k=10, name=\"top-10-accuracy\")\n",
    "        ]\n",
    "    )\n",
    "    return model\n"
   ]
  },
  {
   "cell_type": "code",
   "execution_count": 71,
   "id": "13437dc7",
   "metadata": {
    "execution": {
     "iopub.execute_input": "2023-05-06T16:24:32.868657Z",
     "iopub.status.busy": "2023-05-06T16:24:32.867951Z",
     "iopub.status.idle": "2023-05-06T16:24:32.874100Z",
     "shell.execute_reply": "2023-05-06T16:24:32.873235Z"
    },
    "papermill": {
     "duration": 0.037103,
     "end_time": "2023-05-06T16:24:32.876170",
     "exception": false,
     "start_time": "2023-05-06T16:24:32.839067",
     "status": "completed"
    },
    "tags": []
   },
   "outputs": [],
   "source": [
    "# # define the K-fold cross-validation\n",
    "# k = 4\n",
    "# gkf = GroupKFold(n_splits=k)\n",
    "# groups=train['participant_id'].values\n",
    "\n",
    "# X_fold = np.array(X).reshape(X.shape[0],X.shape[2])\n",
    "# # initialize empty lists to store the validation accuracy and best model checkpoints for each fold\n",
    "# val_acc_per_fold = []\n",
    "# best_model_per_fold = []\n",
    "\n",
    "# gc.collect()\n",
    "# # loop over the folds\n",
    "# if CFG.kfold_training:\n",
    "#     for fold, (train_idx, val_idx) in enumerate(gkf.split(all_x, all_y, groups)):\n",
    "#         print(f\"Fold {fold+1}...\")\n",
    "#         X_train, y_train = all_x[train_idx], all_y[train_idx]\n",
    "#         X_val, y_val = all_x[val_idx], all_y[val_idx]\n",
    "\n",
    "#         # define the callbacks for this fold\n",
    "#         callbacks = [\n",
    "#             tf.keras.callbacks.ReduceLROnPlateau(monitor='val_accuracy', factor=0.97,\n",
    "#                                                  patience=2, verbose=0),\n",
    "#             tf.keras.callbacks.ModelCheckpoint(f\"modelv0.8.1_fold_{fold}.h5\", save_best_only=True, \n",
    "#                                                restore_best_weights=True, monitor=\"val_accuracy\", \n",
    "#                                                mode=\"max\")\n",
    "#         ]\n",
    "\n",
    "#         # create and train the model\n",
    "#         model = get_model_2()\n",
    "#         history = model.fit(X_train, y_train, epochs=60, validation_data=(X_val, y_val), \n",
    "#                             batch_size=1024, callbacks=callbacks)\n",
    "        \n",
    "#         del X_train, X_val\n",
    "#         gc.collect()\n",
    "#         # evaluate the model on the validation data and save the best model checkpoint\n",
    "#         val_acc = np.max(history.history[\"val_accuracy\"])\n",
    "#         print(f\"Val_acc_fold{fold}:{val_acc}\")\n",
    "#         val_acc_per_fold.append(val_acc)\n",
    "#         best_model_per_fold.append(tf.keras.models.load_model(f\"modelv0.8.1_fold_{fold}.h5\"))\n",
    "# # else:\n",
    "# #     for fold in range(k):\n",
    "# #         best_model_per_fold.append(tf.keras.models.load_model(f\"/kaggle/input/islr-submission-models/modelv0.8_fold_{fold}.h5\"))\n",
    "\n",
    "# del all_x,all_y,X_fold\n",
    "# gc.collect()\n",
    "\n",
    "# def get_model_3():\n",
    "#     inputs = tf.keras.Input(shape=(472,), dtype=tf.float32)\n",
    "#     outputs = [model(inputs) for model in best_model_per_fold]\n",
    "#     output = tf.keras.layers.Average()(outputs)\n",
    "    \n",
    "#     model = tf.keras.Model(inputs=inputs, outputs=output)\n",
    "#     model.compile(\n",
    "#         optimizer = tf.keras.optimizers.Adam(learning_rate=0.00033),\n",
    "#         loss=tf.keras.losses.SparseCategoricalCrossentropy(), \n",
    "#         metrics=[\n",
    "#             \"accuracy\", \n",
    "#             tf.keras.metrics.SparseTopKCategoricalAccuracy(k=5, name=\"top-5-accuracy\"),\n",
    "#             tf.keras.metrics.SparseTopKCategoricalAccuracy(k=10, name=\"top-10-accuracy\")\n",
    "#         ]\n",
    "#     )\n",
    "\n",
    "#     return model\n",
    "\n",
    "# #get_model_3().save(\"model_v0.8.1.h5\")"
   ]
  },
  {
   "cell_type": "markdown",
   "id": "116d2e44",
   "metadata": {
    "papermill": {
     "duration": 0.026909,
     "end_time": "2023-05-06T16:24:32.930006",
     "exception": false,
     "start_time": "2023-05-06T16:24:32.903097",
     "status": "completed"
    },
    "tags": []
   },
   "source": [
    "## Training"
   ]
  },
  {
   "cell_type": "code",
   "execution_count": 72,
   "id": "899f8f63",
   "metadata": {
    "execution": {
     "iopub.execute_input": "2023-05-06T16:24:32.990328Z",
     "iopub.status.busy": "2023-05-06T16:24:32.989345Z",
     "iopub.status.idle": "2023-05-06T16:24:39.499665Z",
     "shell.execute_reply": "2023-05-06T16:24:39.498584Z"
    },
    "papermill": {
     "duration": 6.543303,
     "end_time": "2023-05-06T16:24:39.502326",
     "exception": false,
     "start_time": "2023-05-06T16:24:32.959023",
     "status": "completed"
    },
    "tags": []
   },
   "outputs": [],
   "source": [
    "if CFG.is_training:\n",
    "    #X_train, X_val, y_train, y_val = train_test_split(X, y, test_size=0.2, random_state=33, stratify=y)\n",
    "    #print(X_train.shape, y_train.shape, X_val.shape, y_val.shape)\n",
    "    #del X,y\n",
    "    gc.collect()\n",
    "    model = get_model_4()\n",
    "#     callbacks = [\n",
    "#         tf.keras.callbacks.ReduceLROnPlateau(monitor='val_accuracy', factor=0.97,\n",
    "#                                               patience=2, verbose=0),\n",
    "#         tf.keras.callbacks.ModelCheckpoint(\"model_linear57.h5\", save_best_only=True, \n",
    "#                                            restore_best_weights=True, monitor=\"val_accuracy\", \n",
    "#                                            mode=\"max\")\n",
    "#     ]\n",
    "    callbacks = [\n",
    "        tf.keras.callbacks.ReduceLROnPlateau(monitor='accuracy', factor=0.97,\n",
    "                                              patience=2, verbose=0),\n",
    "        tf.keras.callbacks.ModelCheckpoint(\"model_linear38.h5\", save_best_only=True, \n",
    "                                           restore_best_weights=True, monitor=\"accuracy\", \n",
    "                                           mode=\"max\")\n",
    "    ]\n",
    "#     model.fit(X_train, y_train, epochs=100, validation_data=(X_val, y_val), \n",
    "#               batch_size=256, callbacks=callbacks)\n",
    "    model.fit(X, y, epochs=120, batch_size=64, callbacks=callbacks)\n",
    "#     model.fit(X, y, epochs=100, validation_data=(X_val, y_val), \n",
    "#               batch_size=256, callbacks=callbacks)\n",
    "    \n",
    "    # Plot the validation accuracy over each epoch\n",
    "#     plt.plot(model.history.history[\"val_accuracy\"])\n",
    "#     plt.title(\"Validation Accuracy Over Epochs\")\n",
    "#     plt.xlabel(\"Epoch\")\n",
    "#     plt.ylabel(\"Validation Accuracy\")\n",
    "#     plt.show()\n",
    "    \n",
    "else:\n",
    "    #model_0 = tf.keras.models.load_model(\"/kaggle/input/islr-submission-models/model_v0.2.h5\")\n",
    "    model_1 = tf.keras.models.load_model(\"/kaggle/input/islr-submission-models/model_linear57.h5\")\n",
    "    #model_2 = tf.keras.models.load_model(\"/kaggle/input/islr-submission-models/model_v0.4.2.h5\")\n",
    "    #model_3 = tf.keras.models.load_model(\"/kaggle/input/islr-submission-models/model_v0.8.1.h5\")\n",
    "    model_4 = tf.keras.models.load_model(\"/kaggle/input/islr-submission-models/model_linear38.h5\")\n",
    "    \n",
    "    model_5 = tf.keras.models.load_model(\"/kaggle/input/islr-submission-models/model_v1.1.h5\", \n",
    "                                         custom_objects = {'CustomEmbedding': CustomEmbedding, \n",
    "                                                           'Transformer': lambda: Transformer(num_blocks=2),\n",
    "                                                           'lr': get_lr_metric})\n",
    "\n",
    "#model_1.summary()\n",
    "# model_2.summary()\n",
    "#model_3.summary()\n",
    "# model_4.summary()\n",
    "# model_5.summary()\n"
   ]
  },
  {
   "cell_type": "markdown",
   "id": "a89a8d51",
   "metadata": {
    "papermill": {
     "duration": 0.028242,
     "end_time": "2023-05-06T16:24:39.560836",
     "exception": false,
     "start_time": "2023-05-06T16:24:39.532594",
     "status": "completed"
    },
    "tags": []
   },
   "source": [
    "# Create an Inference Model\n",
    "This inference Model wraps the previous trained DNN model and do following preprocessing:\n",
    "* Replace nan value with 0\n",
    "* calcuate mean frame of the input tensor with (None, 543, 3) shape and convert to (1, 543, 3) shape."
   ]
  },
  {
   "cell_type": "code",
   "execution_count": 73,
   "id": "2eb34027",
   "metadata": {
    "execution": {
     "iopub.execute_input": "2023-05-06T16:24:39.618365Z",
     "iopub.status.busy": "2023-05-06T16:24:39.618017Z",
     "iopub.status.idle": "2023-05-06T16:24:39.627356Z",
     "shell.execute_reply": "2023-05-06T16:24:39.626221Z"
    },
    "papermill": {
     "duration": 0.040887,
     "end_time": "2023-05-06T16:24:39.629557",
     "exception": false,
     "start_time": "2023-05-06T16:24:39.588670",
     "status": "completed"
    },
    "tags": []
   },
   "outputs": [],
   "source": [
    "def get_inference_model(model_1, model_4, model_5):\n",
    "    inputs = tf.keras.Input((543, 3), dtype=tf.float32, name=\"inputs\")\n",
    "    #x0 = tf.gather(inputs, LANDMARK_IDX, axis=1)\n",
    "    #x0 = tf.where(tf.math.is_nan(x0), tf.zeros_like(x0), x0)\n",
    "    #x0 = tf.reduce_mean(x0, axis=0, keepdims=True)\n",
    "    x1 = FeatureGen()(inputs)\n",
    "    #x2 = PrepInputs()(inputs)\n",
    "    #x3 = PrepInputs()(inputs)\n",
    "    x4 = FeatureGen_2()(inputs)\n",
    "    x5, non_empty_frame_idxs  = PreprocessLayer()(inputs)\n",
    "    \n",
    "    x1 = tf.reshape(x1, (-1, 1, 5796))\n",
    "    #x2 = tf.reshape(x2, (-1,472))\n",
    "    #x3 = tf.reshape(x3, (-1,472))\n",
    "    #x4 = tf.reshape(x4, (-1, 1, 3864))\n",
    "    x5 = tf.expand_dims(x5, axis=0)\n",
    "    non_empty_frame_idxs = tf.expand_dims(non_empty_frame_idxs, axis=0)\n",
    "    \n",
    "    x1_out = model_1(x1)[0, :]\n",
    "    #x2 = model_2(x2)\n",
    "    #x3 = model_3(x3)\n",
    "    #x0 = model_0(x0)\n",
    "    x4_out = model_4(x4)[0, :]\n",
    "    x5_out = model_5({ 'frames': x5, 'non_empty_frame_idxs': non_empty_frame_idxs })\n",
    "    x5_out = tf.squeeze(x5_out, axis=0)\n",
    "    \n",
    "    output = (0.1 * x1_out) + (0.2* x4_out) + (0.7* x5_out)\n",
    "    #x = tf.keras.layers.Average()([x1,x2])\n",
    "    output = tf.keras.layers.Activation(activation=\"linear\", name=\"outputs\")(output)\n",
    "    inference_model = tf.keras.Model(inputs=inputs, outputs=output) \n",
    "    inference_model.compile(loss=tf.keras.losses.SparseCategoricalCrossentropy(), metrics=[\"accuracy\"])\n",
    "    return inference_model"
   ]
  },
  {
   "cell_type": "code",
   "execution_count": 74,
   "id": "2757f6e4",
   "metadata": {
    "execution": {
     "iopub.execute_input": "2023-05-06T16:24:39.686048Z",
     "iopub.status.busy": "2023-05-06T16:24:39.685405Z",
     "iopub.status.idle": "2023-05-06T16:24:41.889410Z",
     "shell.execute_reply": "2023-05-06T16:24:41.888383Z"
    },
    "papermill": {
     "duration": 2.23529,
     "end_time": "2023-05-06T16:24:41.891923",
     "exception": false,
     "start_time": "2023-05-06T16:24:39.656633",
     "status": "completed"
    },
    "tags": []
   },
   "outputs": [
    {
     "name": "stdout",
     "output_type": "stream",
     "text": [
      "[<tf.Tensor 'feature_gen/SelectV2_16:0' shape=(1, 504) dtype=float32>, <tf.Tensor 'feature_gen/SelectV2_23:0' shape=(1, 504) dtype=float32>, <tf.Tensor 'feature_gen/SelectV2_30:0' shape=(1, 504) dtype=float32>, <tf.Tensor 'feature_gen/SelectV2_37:0' shape=(1, 504) dtype=float32>]\n"
     ]
    }
   ],
   "source": [
    "inference_model = get_inference_model(model_1, model_4, model_5)\n",
    "#inference_model.summary()"
   ]
  },
  {
   "cell_type": "code",
   "execution_count": 75,
   "id": "045245c3",
   "metadata": {
    "execution": {
     "iopub.execute_input": "2023-05-06T16:24:41.948050Z",
     "iopub.status.busy": "2023-05-06T16:24:41.947730Z",
     "iopub.status.idle": "2023-05-06T16:24:42.270681Z",
     "shell.execute_reply": "2023-05-06T16:24:42.269602Z"
    },
    "papermill": {
     "duration": 0.353569,
     "end_time": "2023-05-06T16:24:42.273254",
     "exception": false,
     "start_time": "2023-05-06T16:24:41.919685",
     "status": "completed"
    },
    "tags": []
   },
   "outputs": [],
   "source": [
    "inference_model.save(\"ensemble_model_5796linear+3864Linear+Transformer.h5\")"
   ]
  },
  {
   "cell_type": "markdown",
   "id": "d5d4cb2d",
   "metadata": {
    "papermill": {
     "duration": 0.029599,
     "end_time": "2023-05-06T16:24:42.332672",
     "exception": false,
     "start_time": "2023-05-06T16:24:42.303073",
     "status": "completed"
    },
    "tags": []
   },
   "source": [
    "# Create submission file\n",
    "Unlike a csv file in our previous competitions, the submission file has to be a compressed tflite file with name submissiom.zip."
   ]
  },
  {
   "cell_type": "code",
   "execution_count": 76,
   "id": "e2c2ebde",
   "metadata": {
    "execution": {
     "iopub.execute_input": "2023-05-06T16:24:42.392371Z",
     "iopub.status.busy": "2023-05-06T16:24:42.392011Z",
     "iopub.status.idle": "2023-05-06T16:26:02.876512Z",
     "shell.execute_reply": "2023-05-06T16:26:02.875450Z"
    },
    "papermill": {
     "duration": 80.540794,
     "end_time": "2023-05-06T16:26:02.904050",
     "exception": false,
     "start_time": "2023-05-06T16:24:42.363256",
     "status": "completed"
    },
    "tags": []
   },
   "outputs": [
    {
     "name": "stdout",
     "output_type": "stream",
     "text": [
      "[<tf.Tensor 'model_1/feature_gen/SelectV2_16:0' shape=(1, 504) dtype=float32>, <tf.Tensor 'model_1/feature_gen/SelectV2_23:0' shape=(1, 504) dtype=float32>, <tf.Tensor 'model_1/feature_gen/SelectV2_30:0' shape=(1, 504) dtype=float32>, <tf.Tensor 'model_1/feature_gen/SelectV2_37:0' shape=(1, 504) dtype=float32>]\n",
      "[<tf.Tensor 'SelectV2_16:0' shape=(1, 504) dtype=float32>, <tf.Tensor 'SelectV2_23:0' shape=(1, 504) dtype=float32>, <tf.Tensor 'SelectV2_30:0' shape=(1, 504) dtype=float32>, <tf.Tensor 'SelectV2_37:0' shape=(1, 504) dtype=float32>]\n",
      "[<tf.Tensor 'SelectV2_16:0' shape=(1, 504) dtype=float32>, <tf.Tensor 'SelectV2_23:0' shape=(1, 504) dtype=float32>, <tf.Tensor 'SelectV2_30:0' shape=(1, 504) dtype=float32>, <tf.Tensor 'SelectV2_37:0' shape=(1, 504) dtype=float32>]\n"
     ]
    },
    {
     "data": {
      "text/plain": [
       "20996888"
      ]
     },
     "execution_count": 76,
     "metadata": {},
     "output_type": "execute_result"
    }
   ],
   "source": [
    "converter = tf.lite.TFLiteConverter.from_keras_model(inference_model)\n",
    "converter.optimizations = [tf.lite.Optimize.DEFAULT] #great line\n",
    "tflite_model = converter.convert()\n",
    "model_path = \"ensemble_model_5796linear+3864Linear+Transformer.tflite\"\n",
    "# Save the model.\n",
    "with open(model_path, 'wb') as f:\n",
    "    f.write(tflite_model)\n",
    "os.path.getsize(\"ensemble_model_5796linear+3864Linear+Transformer.tflite\")"
   ]
  },
  {
   "cell_type": "code",
   "execution_count": 77,
   "id": "fe9a1446",
   "metadata": {
    "execution": {
     "iopub.execute_input": "2023-05-06T16:26:02.961324Z",
     "iopub.status.busy": "2023-05-06T16:26:02.959774Z",
     "iopub.status.idle": "2023-05-06T16:26:05.154753Z",
     "shell.execute_reply": "2023-05-06T16:26:05.153530Z"
    },
    "papermill": {
     "duration": 2.225932,
     "end_time": "2023-05-06T16:26:05.157417",
     "exception": false,
     "start_time": "2023-05-06T16:26:02.931485",
     "status": "completed"
    },
    "tags": []
   },
   "outputs": [
    {
     "name": "stdout",
     "output_type": "stream",
     "text": [
      "  adding: ensemble_model_5796linear+3864Linear+Transformer.tflite (deflated 61%)\r\n"
     ]
    }
   ],
   "source": [
    "!zip submission.zip $model_path"
   ]
  },
  {
   "cell_type": "markdown",
   "id": "f81789bb",
   "metadata": {
    "papermill": {
     "duration": 0.027428,
     "end_time": "2023-05-06T16:26:05.213127",
     "exception": false,
     "start_time": "2023-05-06T16:26:05.185699",
     "status": "completed"
    },
    "tags": []
   },
   "source": [
    "# Making inferences\n",
    "Let's make inferences using TFLite interpreter, our submission file will be used to make inference like following ways. To test inference speed, I will make inferences with 10000 samples."
   ]
  },
  {
   "cell_type": "code",
   "execution_count": 78,
   "id": "989272f8",
   "metadata": {
    "execution": {
     "iopub.execute_input": "2023-05-06T16:26:05.270593Z",
     "iopub.status.busy": "2023-05-06T16:26:05.270213Z",
     "iopub.status.idle": "2023-05-06T16:26:15.538738Z",
     "shell.execute_reply": "2023-05-06T16:26:15.537464Z"
    },
    "papermill": {
     "duration": 10.300719,
     "end_time": "2023-05-06T16:26:15.541499",
     "exception": false,
     "start_time": "2023-05-06T16:26:05.240780",
     "status": "completed"
    },
    "tags": []
   },
   "outputs": [
    {
     "name": "stdout",
     "output_type": "stream",
     "text": [
      "Collecting tflite-runtime\r\n",
      "  Downloading tflite_runtime-2.11.0-cp37-cp37m-manylinux2014_x86_64.whl (2.5 MB)\r\n",
      "\u001b[2K     \u001b[90m━━━━━━━━━━━━━━━━━━━━━━━━━━━━━━━━━━━━━━━━\u001b[0m \u001b[32m2.5/2.5 MB\u001b[0m \u001b[31m36.7 MB/s\u001b[0m eta \u001b[36m0:00:00\u001b[0m\r\n",
      "\u001b[?25hRequirement already satisfied: numpy>=1.19.2 in /opt/conda/lib/python3.7/site-packages (from tflite-runtime) (1.21.6)\r\n",
      "Installing collected packages: tflite-runtime\r\n",
      "Successfully installed tflite-runtime-2.11.0\r\n",
      "\u001b[33mWARNING: Running pip as the 'root' user can result in broken permissions and conflicting behaviour with the system package manager. It is recommended to use a virtual environment instead: https://pip.pypa.io/warnings/venv\u001b[0m\u001b[33m\r\n",
      "\u001b[0m"
     ]
    }
   ],
   "source": [
    "!pip install tflite-runtime"
   ]
  },
  {
   "cell_type": "code",
   "execution_count": 79,
   "id": "847ea4f3",
   "metadata": {
    "execution": {
     "iopub.execute_input": "2023-05-06T16:26:15.600065Z",
     "iopub.status.busy": "2023-05-06T16:26:15.599706Z",
     "iopub.status.idle": "2023-05-06T16:27:16.722342Z",
     "shell.execute_reply": "2023-05-06T16:27:16.721226Z"
    },
    "papermill": {
     "duration": 61.154101,
     "end_time": "2023-05-06T16:27:16.724550",
     "exception": false,
     "start_time": "2023-05-06T16:26:15.570449",
     "status": "completed"
    },
    "tags": []
   },
   "outputs": [
    {
     "data": {
      "application/vnd.jupyter.widget-view+json": {
       "model_id": "cc7a65860f944621992ce541b0aa7468",
       "version_major": 2,
       "version_minor": 0
      },
      "text/plain": [
       "  0%|          | 0/1000 [00:00<?, ?it/s]"
      ]
     },
     "metadata": {},
     "output_type": "display_data"
    },
    {
     "name": "stdout",
     "output_type": "stream",
     "text": [
      "Predicted label: blow, Actual Label: blow\n",
      "Predicted label: dryer, Actual Label: dryer\n",
      "Predicted label: down, Actual Label: down\n",
      "Predicted label: underwear, Actual Label: underwear\n",
      "Predicted label: apple, Actual Label: apple\n",
      "Predicted label: cow, Actual Label: cow\n",
      "Predicted label: lips, Actual Label: lips\n",
      "Predicted label: no, Actual Label: no\n",
      "Predicted label: all, Actual Label: all\n",
      "Predicted label: wait, Actual Label: wait\n"
     ]
    }
   ],
   "source": [
    "import tflite_runtime.interpreter as tflite\n",
    "interpreter = tflite.Interpreter(model_path)\n",
    "found_signatures = list(interpreter.get_signature_list().keys())\n",
    "prediction_fn = interpreter.get_signature_runner(\"serving_default\")\n",
    "for i in tqdm(range(1000)):\n",
    "    frames = load_relevant_data_subset(f'/kaggle/input/asl-signs/{train.iloc[i].path}')\n",
    "    output = prediction_fn(inputs=frames)\n",
    "    sign = np.argmax(output[\"outputs\"])\n",
    "    if i % 100 == 0:\n",
    "        print(f\"Predicted label: {index_label[sign]}, Actual Label: {train.iloc[i].sign}\")"
   ]
  }
 ],
 "metadata": {
  "kernelspec": {
   "display_name": "Python 3",
   "language": "python",
   "name": "python3"
  },
  "language_info": {
   "codemirror_mode": {
    "name": "ipython",
    "version": 3
   },
   "file_extension": ".py",
   "mimetype": "text/x-python",
   "name": "python",
   "nbconvert_exporter": "python",
   "pygments_lexer": "ipython3",
   "version": "3.7.12"
  },
  "papermill": {
   "default_parameters": {},
   "duration": 257.896976,
   "end_time": "2023-05-06T16:27:20.368159",
   "environment_variables": {},
   "exception": null,
   "input_path": "__notebook__.ipynb",
   "output_path": "__notebook__.ipynb",
   "parameters": {},
   "start_time": "2023-05-06T16:23:02.471183",
   "version": "2.4.0"
  },
  "widgets": {
   "application/vnd.jupyter.widget-state+json": {
    "state": {
     "031186cbe4ea48dd93b5e48de66138b0": {
      "model_module": "@jupyter-widgets/base",
      "model_module_version": "1.2.0",
      "model_name": "LayoutModel",
      "state": {
       "_model_module": "@jupyter-widgets/base",
       "_model_module_version": "1.2.0",
       "_model_name": "LayoutModel",
       "_view_count": null,
       "_view_module": "@jupyter-widgets/base",
       "_view_module_version": "1.2.0",
       "_view_name": "LayoutView",
       "align_content": null,
       "align_items": null,
       "align_self": null,
       "border": null,
       "bottom": null,
       "display": null,
       "flex": null,
       "flex_flow": null,
       "grid_area": null,
       "grid_auto_columns": null,
       "grid_auto_flow": null,
       "grid_auto_rows": null,
       "grid_column": null,
       "grid_gap": null,
       "grid_row": null,
       "grid_template_areas": null,
       "grid_template_columns": null,
       "grid_template_rows": null,
       "height": null,
       "justify_content": null,
       "justify_items": null,
       "left": null,
       "margin": null,
       "max_height": null,
       "max_width": null,
       "min_height": null,
       "min_width": null,
       "object_fit": null,
       "object_position": null,
       "order": null,
       "overflow": null,
       "overflow_x": null,
       "overflow_y": null,
       "padding": null,
       "right": null,
       "top": null,
       "visibility": null,
       "width": null
      }
     },
     "06871c0c299946c4b3167b29471d067b": {
      "model_module": "@jupyter-widgets/controls",
      "model_module_version": "1.5.0",
      "model_name": "ProgressStyleModel",
      "state": {
       "_model_module": "@jupyter-widgets/controls",
       "_model_module_version": "1.5.0",
       "_model_name": "ProgressStyleModel",
       "_view_count": null,
       "_view_module": "@jupyter-widgets/base",
       "_view_module_version": "1.2.0",
       "_view_name": "StyleView",
       "bar_color": null,
       "description_width": ""
      }
     },
     "09ace6286abd43dd9a49be40214c2b0d": {
      "model_module": "@jupyter-widgets/base",
      "model_module_version": "1.2.0",
      "model_name": "LayoutModel",
      "state": {
       "_model_module": "@jupyter-widgets/base",
       "_model_module_version": "1.2.0",
       "_model_name": "LayoutModel",
       "_view_count": null,
       "_view_module": "@jupyter-widgets/base",
       "_view_module_version": "1.2.0",
       "_view_name": "LayoutView",
       "align_content": null,
       "align_items": null,
       "align_self": null,
       "border": null,
       "bottom": null,
       "display": null,
       "flex": null,
       "flex_flow": null,
       "grid_area": null,
       "grid_auto_columns": null,
       "grid_auto_flow": null,
       "grid_auto_rows": null,
       "grid_column": null,
       "grid_gap": null,
       "grid_row": null,
       "grid_template_areas": null,
       "grid_template_columns": null,
       "grid_template_rows": null,
       "height": null,
       "justify_content": null,
       "justify_items": null,
       "left": null,
       "margin": null,
       "max_height": null,
       "max_width": null,
       "min_height": null,
       "min_width": null,
       "object_fit": null,
       "object_position": null,
       "order": null,
       "overflow": null,
       "overflow_x": null,
       "overflow_y": null,
       "padding": null,
       "right": null,
       "top": null,
       "visibility": null,
       "width": null
      }
     },
     "0d9707c4230c426794d6fa647ccb1e5d": {
      "model_module": "@jupyter-widgets/base",
      "model_module_version": "1.2.0",
      "model_name": "LayoutModel",
      "state": {
       "_model_module": "@jupyter-widgets/base",
       "_model_module_version": "1.2.0",
       "_model_name": "LayoutModel",
       "_view_count": null,
       "_view_module": "@jupyter-widgets/base",
       "_view_module_version": "1.2.0",
       "_view_name": "LayoutView",
       "align_content": null,
       "align_items": null,
       "align_self": null,
       "border": null,
       "bottom": null,
       "display": null,
       "flex": null,
       "flex_flow": null,
       "grid_area": null,
       "grid_auto_columns": null,
       "grid_auto_flow": null,
       "grid_auto_rows": null,
       "grid_column": null,
       "grid_gap": null,
       "grid_row": null,
       "grid_template_areas": null,
       "grid_template_columns": null,
       "grid_template_rows": null,
       "height": null,
       "justify_content": null,
       "justify_items": null,
       "left": null,
       "margin": null,
       "max_height": null,
       "max_width": null,
       "min_height": null,
       "min_width": null,
       "object_fit": null,
       "object_position": null,
       "order": null,
       "overflow": null,
       "overflow_x": null,
       "overflow_y": null,
       "padding": null,
       "right": null,
       "top": null,
       "visibility": null,
       "width": null
      }
     },
     "0ffa9dff6634454692897c71783732ee": {
      "model_module": "@jupyter-widgets/base",
      "model_module_version": "1.2.0",
      "model_name": "LayoutModel",
      "state": {
       "_model_module": "@jupyter-widgets/base",
       "_model_module_version": "1.2.0",
       "_model_name": "LayoutModel",
       "_view_count": null,
       "_view_module": "@jupyter-widgets/base",
       "_view_module_version": "1.2.0",
       "_view_name": "LayoutView",
       "align_content": null,
       "align_items": null,
       "align_self": null,
       "border": null,
       "bottom": null,
       "display": null,
       "flex": null,
       "flex_flow": null,
       "grid_area": null,
       "grid_auto_columns": null,
       "grid_auto_flow": null,
       "grid_auto_rows": null,
       "grid_column": null,
       "grid_gap": null,
       "grid_row": null,
       "grid_template_areas": null,
       "grid_template_columns": null,
       "grid_template_rows": null,
       "height": null,
       "justify_content": null,
       "justify_items": null,
       "left": null,
       "margin": null,
       "max_height": null,
       "max_width": null,
       "min_height": null,
       "min_width": null,
       "object_fit": null,
       "object_position": null,
       "order": null,
       "overflow": null,
       "overflow_x": null,
       "overflow_y": null,
       "padding": null,
       "right": null,
       "top": null,
       "visibility": null,
       "width": null
      }
     },
     "11a785d654ea40b6918a3a4a17b01716": {
      "model_module": "@jupyter-widgets/base",
      "model_module_version": "1.2.0",
      "model_name": "LayoutModel",
      "state": {
       "_model_module": "@jupyter-widgets/base",
       "_model_module_version": "1.2.0",
       "_model_name": "LayoutModel",
       "_view_count": null,
       "_view_module": "@jupyter-widgets/base",
       "_view_module_version": "1.2.0",
       "_view_name": "LayoutView",
       "align_content": null,
       "align_items": null,
       "align_self": null,
       "border": null,
       "bottom": null,
       "display": null,
       "flex": null,
       "flex_flow": null,
       "grid_area": null,
       "grid_auto_columns": null,
       "grid_auto_flow": null,
       "grid_auto_rows": null,
       "grid_column": null,
       "grid_gap": null,
       "grid_row": null,
       "grid_template_areas": null,
       "grid_template_columns": null,
       "grid_template_rows": null,
       "height": null,
       "justify_content": null,
       "justify_items": null,
       "left": null,
       "margin": null,
       "max_height": null,
       "max_width": null,
       "min_height": null,
       "min_width": null,
       "object_fit": null,
       "object_position": null,
       "order": null,
       "overflow": null,
       "overflow_x": null,
       "overflow_y": null,
       "padding": null,
       "right": null,
       "top": null,
       "visibility": null,
       "width": null
      }
     },
     "1379392a1ae649f1b32fb1bc2fed3113": {
      "model_module": "@jupyter-widgets/base",
      "model_module_version": "1.2.0",
      "model_name": "LayoutModel",
      "state": {
       "_model_module": "@jupyter-widgets/base",
       "_model_module_version": "1.2.0",
       "_model_name": "LayoutModel",
       "_view_count": null,
       "_view_module": "@jupyter-widgets/base",
       "_view_module_version": "1.2.0",
       "_view_name": "LayoutView",
       "align_content": null,
       "align_items": null,
       "align_self": null,
       "border": null,
       "bottom": null,
       "display": null,
       "flex": null,
       "flex_flow": null,
       "grid_area": null,
       "grid_auto_columns": null,
       "grid_auto_flow": null,
       "grid_auto_rows": null,
       "grid_column": null,
       "grid_gap": null,
       "grid_row": null,
       "grid_template_areas": null,
       "grid_template_columns": null,
       "grid_template_rows": null,
       "height": null,
       "justify_content": null,
       "justify_items": null,
       "left": null,
       "margin": null,
       "max_height": null,
       "max_width": null,
       "min_height": null,
       "min_width": null,
       "object_fit": null,
       "object_position": null,
       "order": null,
       "overflow": null,
       "overflow_x": null,
       "overflow_y": null,
       "padding": null,
       "right": null,
       "top": null,
       "visibility": null,
       "width": null
      }
     },
     "13a855cd61bb408081f1e8514df068d9": {
      "model_module": "@jupyter-widgets/controls",
      "model_module_version": "1.5.0",
      "model_name": "ProgressStyleModel",
      "state": {
       "_model_module": "@jupyter-widgets/controls",
       "_model_module_version": "1.5.0",
       "_model_name": "ProgressStyleModel",
       "_view_count": null,
       "_view_module": "@jupyter-widgets/base",
       "_view_module_version": "1.2.0",
       "_view_name": "StyleView",
       "bar_color": null,
       "description_width": ""
      }
     },
     "13aebc62b850425b822143facddb397f": {
      "model_module": "@jupyter-widgets/base",
      "model_module_version": "1.2.0",
      "model_name": "LayoutModel",
      "state": {
       "_model_module": "@jupyter-widgets/base",
       "_model_module_version": "1.2.0",
       "_model_name": "LayoutModel",
       "_view_count": null,
       "_view_module": "@jupyter-widgets/base",
       "_view_module_version": "1.2.0",
       "_view_name": "LayoutView",
       "align_content": null,
       "align_items": null,
       "align_self": null,
       "border": null,
       "bottom": null,
       "display": null,
       "flex": null,
       "flex_flow": null,
       "grid_area": null,
       "grid_auto_columns": null,
       "grid_auto_flow": null,
       "grid_auto_rows": null,
       "grid_column": null,
       "grid_gap": null,
       "grid_row": null,
       "grid_template_areas": null,
       "grid_template_columns": null,
       "grid_template_rows": null,
       "height": null,
       "justify_content": null,
       "justify_items": null,
       "left": null,
       "margin": null,
       "max_height": null,
       "max_width": null,
       "min_height": null,
       "min_width": null,
       "object_fit": null,
       "object_position": null,
       "order": null,
       "overflow": null,
       "overflow_x": null,
       "overflow_y": null,
       "padding": null,
       "right": null,
       "top": null,
       "visibility": null,
       "width": null
      }
     },
     "18103e2afc8c415e94d36e3cd0274b52": {
      "model_module": "@jupyter-widgets/base",
      "model_module_version": "1.2.0",
      "model_name": "LayoutModel",
      "state": {
       "_model_module": "@jupyter-widgets/base",
       "_model_module_version": "1.2.0",
       "_model_name": "LayoutModel",
       "_view_count": null,
       "_view_module": "@jupyter-widgets/base",
       "_view_module_version": "1.2.0",
       "_view_name": "LayoutView",
       "align_content": null,
       "align_items": null,
       "align_self": null,
       "border": null,
       "bottom": null,
       "display": null,
       "flex": null,
       "flex_flow": null,
       "grid_area": null,
       "grid_auto_columns": null,
       "grid_auto_flow": null,
       "grid_auto_rows": null,
       "grid_column": null,
       "grid_gap": null,
       "grid_row": null,
       "grid_template_areas": null,
       "grid_template_columns": null,
       "grid_template_rows": null,
       "height": null,
       "justify_content": null,
       "justify_items": null,
       "left": null,
       "margin": null,
       "max_height": null,
       "max_width": null,
       "min_height": null,
       "min_width": null,
       "object_fit": null,
       "object_position": null,
       "order": null,
       "overflow": null,
       "overflow_x": null,
       "overflow_y": null,
       "padding": null,
       "right": null,
       "top": null,
       "visibility": null,
       "width": null
      }
     },
     "1b0e6965b3094c35a310cc691ca55bb0": {
      "model_module": "@jupyter-widgets/controls",
      "model_module_version": "1.5.0",
      "model_name": "HBoxModel",
      "state": {
       "_dom_classes": [],
       "_model_module": "@jupyter-widgets/controls",
       "_model_module_version": "1.5.0",
       "_model_name": "HBoxModel",
       "_view_count": null,
       "_view_module": "@jupyter-widgets/controls",
       "_view_module_version": "1.5.0",
       "_view_name": "HBoxView",
       "box_style": "",
       "children": [
        "IPY_MODEL_529e0118e4bf49bb84788d908036f038",
        "IPY_MODEL_35e1dd2f0b6741a684ae24323259a684",
        "IPY_MODEL_c64b2be974bb41b4baaebd31a128abba"
       ],
       "layout": "IPY_MODEL_09ace6286abd43dd9a49be40214c2b0d"
      }
     },
     "22c9530188634e1c8199a2d790203ba2": {
      "model_module": "@jupyter-widgets/controls",
      "model_module_version": "1.5.0",
      "model_name": "HTMLModel",
      "state": {
       "_dom_classes": [],
       "_model_module": "@jupyter-widgets/controls",
       "_model_module_version": "1.5.0",
       "_model_name": "HTMLModel",
       "_view_count": null,
       "_view_module": "@jupyter-widgets/controls",
       "_view_module_version": "1.5.0",
       "_view_name": "HTMLView",
       "description": "",
       "description_tooltip": null,
       "layout": "IPY_MODEL_13aebc62b850425b822143facddb397f",
       "placeholder": "​",
       "style": "IPY_MODEL_88e5c8d85c8a4de596ec1756302bf1b4",
       "value": "100%"
      }
     },
     "2894248c4f0c484c99907072cddec883": {
      "model_module": "@jupyter-widgets/controls",
      "model_module_version": "1.5.0",
      "model_name": "HTMLModel",
      "state": {
       "_dom_classes": [],
       "_model_module": "@jupyter-widgets/controls",
       "_model_module_version": "1.5.0",
       "_model_name": "HTMLModel",
       "_view_count": null,
       "_view_module": "@jupyter-widgets/controls",
       "_view_module_version": "1.5.0",
       "_view_name": "HTMLView",
       "description": "",
       "description_tooltip": null,
       "layout": "IPY_MODEL_031186cbe4ea48dd93b5e48de66138b0",
       "placeholder": "​",
       "style": "IPY_MODEL_35ce698d701444259c9b8188bd551d5a",
       "value": " 1000/1000 [01:01&lt;00:00, 17.81it/s]"
      }
     },
     "293b2170fc8e415282aebb94bba84564": {
      "model_module": "@jupyter-widgets/controls",
      "model_module_version": "1.5.0",
      "model_name": "FloatProgressModel",
      "state": {
       "_dom_classes": [],
       "_model_module": "@jupyter-widgets/controls",
       "_model_module_version": "1.5.0",
       "_model_name": "FloatProgressModel",
       "_view_count": null,
       "_view_module": "@jupyter-widgets/controls",
       "_view_module_version": "1.5.0",
       "_view_name": "ProgressView",
       "bar_style": "success",
       "description": "",
       "description_tooltip": null,
       "layout": "IPY_MODEL_0d9707c4230c426794d6fa647ccb1e5d",
       "max": 1000.0,
       "min": 0.0,
       "orientation": "horizontal",
       "style": "IPY_MODEL_7d9fd48bf4b849209b0ca05d7f73a398",
       "value": 1000.0
      }
     },
     "2e36789010fd40dbbf04d3f48fc23d72": {
      "model_module": "@jupyter-widgets/controls",
      "model_module_version": "1.5.0",
      "model_name": "HBoxModel",
      "state": {
       "_dom_classes": [],
       "_model_module": "@jupyter-widgets/controls",
       "_model_module_version": "1.5.0",
       "_model_name": "HBoxModel",
       "_view_count": null,
       "_view_module": "@jupyter-widgets/controls",
       "_view_module_version": "1.5.0",
       "_view_name": "HBoxView",
       "box_style": "",
       "children": [
        "IPY_MODEL_cc0129e53d244833ab8d167d61397df7",
        "IPY_MODEL_5d024b82d2c94f7ab501163345024d57",
        "IPY_MODEL_f9c8cede9e464efbad1ed5b42a6f9003"
       ],
       "layout": "IPY_MODEL_87355c1c914347538969f8f9de4c50e3"
      }
     },
     "35ce698d701444259c9b8188bd551d5a": {
      "model_module": "@jupyter-widgets/controls",
      "model_module_version": "1.5.0",
      "model_name": "DescriptionStyleModel",
      "state": {
       "_model_module": "@jupyter-widgets/controls",
       "_model_module_version": "1.5.0",
       "_model_name": "DescriptionStyleModel",
       "_view_count": null,
       "_view_module": "@jupyter-widgets/base",
       "_view_module_version": "1.2.0",
       "_view_name": "StyleView",
       "description_width": ""
      }
     },
     "35e1dd2f0b6741a684ae24323259a684": {
      "model_module": "@jupyter-widgets/controls",
      "model_module_version": "1.5.0",
      "model_name": "FloatProgressModel",
      "state": {
       "_dom_classes": [],
       "_model_module": "@jupyter-widgets/controls",
       "_model_module_version": "1.5.0",
       "_model_name": "FloatProgressModel",
       "_view_count": null,
       "_view_module": "@jupyter-widgets/controls",
       "_view_module_version": "1.5.0",
       "_view_name": "ProgressView",
       "bar_style": "success",
       "description": "",
       "description_tooltip": null,
       "layout": "IPY_MODEL_11a785d654ea40b6918a3a4a17b01716",
       "max": 10.0,
       "min": 0.0,
       "orientation": "horizontal",
       "style": "IPY_MODEL_06871c0c299946c4b3167b29471d067b",
       "value": 10.0
      }
     },
     "44a9e52f6ce54cda8f374a53d6773bce": {
      "model_module": "@jupyter-widgets/base",
      "model_module_version": "1.2.0",
      "model_name": "LayoutModel",
      "state": {
       "_model_module": "@jupyter-widgets/base",
       "_model_module_version": "1.2.0",
       "_model_name": "LayoutModel",
       "_view_count": null,
       "_view_module": "@jupyter-widgets/base",
       "_view_module_version": "1.2.0",
       "_view_name": "LayoutView",
       "align_content": null,
       "align_items": null,
       "align_self": null,
       "border": null,
       "bottom": null,
       "display": null,
       "flex": null,
       "flex_flow": null,
       "grid_area": null,
       "grid_auto_columns": null,
       "grid_auto_flow": null,
       "grid_auto_rows": null,
       "grid_column": null,
       "grid_gap": null,
       "grid_row": null,
       "grid_template_areas": null,
       "grid_template_columns": null,
       "grid_template_rows": null,
       "height": null,
       "justify_content": null,
       "justify_items": null,
       "left": null,
       "margin": null,
       "max_height": null,
       "max_width": null,
       "min_height": null,
       "min_width": null,
       "object_fit": null,
       "object_position": null,
       "order": null,
       "overflow": null,
       "overflow_x": null,
       "overflow_y": null,
       "padding": null,
       "right": null,
       "top": null,
       "visibility": null,
       "width": null
      }
     },
     "4b7d90c39fed4198b6c6a2b851b3ee57": {
      "model_module": "@jupyter-widgets/controls",
      "model_module_version": "1.5.0",
      "model_name": "DescriptionStyleModel",
      "state": {
       "_model_module": "@jupyter-widgets/controls",
       "_model_module_version": "1.5.0",
       "_model_name": "DescriptionStyleModel",
       "_view_count": null,
       "_view_module": "@jupyter-widgets/base",
       "_view_module_version": "1.2.0",
       "_view_name": "StyleView",
       "description_width": ""
      }
     },
     "521e02eb1039436fb9eadbb1f9c3b1c9": {
      "model_module": "@jupyter-widgets/controls",
      "model_module_version": "1.5.0",
      "model_name": "DescriptionStyleModel",
      "state": {
       "_model_module": "@jupyter-widgets/controls",
       "_model_module_version": "1.5.0",
       "_model_name": "DescriptionStyleModel",
       "_view_count": null,
       "_view_module": "@jupyter-widgets/base",
       "_view_module_version": "1.2.0",
       "_view_name": "StyleView",
       "description_width": ""
      }
     },
     "529e0118e4bf49bb84788d908036f038": {
      "model_module": "@jupyter-widgets/controls",
      "model_module_version": "1.5.0",
      "model_name": "HTMLModel",
      "state": {
       "_dom_classes": [],
       "_model_module": "@jupyter-widgets/controls",
       "_model_module_version": "1.5.0",
       "_model_name": "HTMLModel",
       "_view_count": null,
       "_view_module": "@jupyter-widgets/controls",
       "_view_module_version": "1.5.0",
       "_view_name": "HTMLView",
       "description": "",
       "description_tooltip": null,
       "layout": "IPY_MODEL_18103e2afc8c415e94d36e3cd0274b52",
       "placeholder": "​",
       "style": "IPY_MODEL_521e02eb1039436fb9eadbb1f9c3b1c9",
       "value": "100%"
      }
     },
     "5d024b82d2c94f7ab501163345024d57": {
      "model_module": "@jupyter-widgets/controls",
      "model_module_version": "1.5.0",
      "model_name": "FloatProgressModel",
      "state": {
       "_dom_classes": [],
       "_model_module": "@jupyter-widgets/controls",
       "_model_module_version": "1.5.0",
       "_model_name": "FloatProgressModel",
       "_view_count": null,
       "_view_module": "@jupyter-widgets/controls",
       "_view_module_version": "1.5.0",
       "_view_name": "ProgressView",
       "bar_style": "success",
       "description": "",
       "description_tooltip": null,
       "layout": "IPY_MODEL_0ffa9dff6634454692897c71783732ee",
       "max": 40.0,
       "min": 0.0,
       "orientation": "horizontal",
       "style": "IPY_MODEL_9bad6a8f0b2f48f3915782017f61c13b",
       "value": 40.0
      }
     },
     "736d23fe2b8e4fba8a0efe061ff68463": {
      "model_module": "@jupyter-widgets/base",
      "model_module_version": "1.2.0",
      "model_name": "LayoutModel",
      "state": {
       "_model_module": "@jupyter-widgets/base",
       "_model_module_version": "1.2.0",
       "_model_name": "LayoutModel",
       "_view_count": null,
       "_view_module": "@jupyter-widgets/base",
       "_view_module_version": "1.2.0",
       "_view_name": "LayoutView",
       "align_content": null,
       "align_items": null,
       "align_self": null,
       "border": null,
       "bottom": null,
       "display": null,
       "flex": null,
       "flex_flow": null,
       "grid_area": null,
       "grid_auto_columns": null,
       "grid_auto_flow": null,
       "grid_auto_rows": null,
       "grid_column": null,
       "grid_gap": null,
       "grid_row": null,
       "grid_template_areas": null,
       "grid_template_columns": null,
       "grid_template_rows": null,
       "height": null,
       "justify_content": null,
       "justify_items": null,
       "left": null,
       "margin": null,
       "max_height": null,
       "max_width": null,
       "min_height": null,
       "min_width": null,
       "object_fit": null,
       "object_position": null,
       "order": null,
       "overflow": null,
       "overflow_x": null,
       "overflow_y": null,
       "padding": null,
       "right": null,
       "top": null,
       "visibility": null,
       "width": null
      }
     },
     "7d9fd48bf4b849209b0ca05d7f73a398": {
      "model_module": "@jupyter-widgets/controls",
      "model_module_version": "1.5.0",
      "model_name": "ProgressStyleModel",
      "state": {
       "_model_module": "@jupyter-widgets/controls",
       "_model_module_version": "1.5.0",
       "_model_name": "ProgressStyleModel",
       "_view_count": null,
       "_view_module": "@jupyter-widgets/base",
       "_view_module_version": "1.2.0",
       "_view_name": "StyleView",
       "bar_color": null,
       "description_width": ""
      }
     },
     "8512a26cf1574f29afb511b27dbfaf3d": {
      "model_module": "@jupyter-widgets/controls",
      "model_module_version": "1.5.0",
      "model_name": "HTMLModel",
      "state": {
       "_dom_classes": [],
       "_model_module": "@jupyter-widgets/controls",
       "_model_module_version": "1.5.0",
       "_model_name": "HTMLModel",
       "_view_count": null,
       "_view_module": "@jupyter-widgets/controls",
       "_view_module_version": "1.5.0",
       "_view_name": "HTMLView",
       "description": "",
       "description_tooltip": null,
       "layout": "IPY_MODEL_ce072b6bb259435a80dfef62dd038b4c",
       "placeholder": "​",
       "style": "IPY_MODEL_dd29bd33db1a49898b77f372e460d9b2",
       "value": "100%"
      }
     },
     "85134b51eb8b498bac858e6cf2b8abf9": {
      "model_module": "@jupyter-widgets/controls",
      "model_module_version": "1.5.0",
      "model_name": "FloatProgressModel",
      "state": {
       "_dom_classes": [],
       "_model_module": "@jupyter-widgets/controls",
       "_model_module_version": "1.5.0",
       "_model_name": "FloatProgressModel",
       "_view_count": null,
       "_view_module": "@jupyter-widgets/controls",
       "_view_module_version": "1.5.0",
       "_view_name": "ProgressView",
       "bar_style": "success",
       "description": "",
       "description_tooltip": null,
       "layout": "IPY_MODEL_8653e48836674e1a82ccb20a1bfdcca3",
       "max": 42.0,
       "min": 0.0,
       "orientation": "horizontal",
       "style": "IPY_MODEL_13a855cd61bb408081f1e8514df068d9",
       "value": 42.0
      }
     },
     "8653e48836674e1a82ccb20a1bfdcca3": {
      "model_module": "@jupyter-widgets/base",
      "model_module_version": "1.2.0",
      "model_name": "LayoutModel",
      "state": {
       "_model_module": "@jupyter-widgets/base",
       "_model_module_version": "1.2.0",
       "_model_name": "LayoutModel",
       "_view_count": null,
       "_view_module": "@jupyter-widgets/base",
       "_view_module_version": "1.2.0",
       "_view_name": "LayoutView",
       "align_content": null,
       "align_items": null,
       "align_self": null,
       "border": null,
       "bottom": null,
       "display": null,
       "flex": null,
       "flex_flow": null,
       "grid_area": null,
       "grid_auto_columns": null,
       "grid_auto_flow": null,
       "grid_auto_rows": null,
       "grid_column": null,
       "grid_gap": null,
       "grid_row": null,
       "grid_template_areas": null,
       "grid_template_columns": null,
       "grid_template_rows": null,
       "height": null,
       "justify_content": null,
       "justify_items": null,
       "left": null,
       "margin": null,
       "max_height": null,
       "max_width": null,
       "min_height": null,
       "min_width": null,
       "object_fit": null,
       "object_position": null,
       "order": null,
       "overflow": null,
       "overflow_x": null,
       "overflow_y": null,
       "padding": null,
       "right": null,
       "top": null,
       "visibility": null,
       "width": null
      }
     },
     "87355c1c914347538969f8f9de4c50e3": {
      "model_module": "@jupyter-widgets/base",
      "model_module_version": "1.2.0",
      "model_name": "LayoutModel",
      "state": {
       "_model_module": "@jupyter-widgets/base",
       "_model_module_version": "1.2.0",
       "_model_name": "LayoutModel",
       "_view_count": null,
       "_view_module": "@jupyter-widgets/base",
       "_view_module_version": "1.2.0",
       "_view_name": "LayoutView",
       "align_content": null,
       "align_items": null,
       "align_self": null,
       "border": null,
       "bottom": null,
       "display": null,
       "flex": null,
       "flex_flow": null,
       "grid_area": null,
       "grid_auto_columns": null,
       "grid_auto_flow": null,
       "grid_auto_rows": null,
       "grid_column": null,
       "grid_gap": null,
       "grid_row": null,
       "grid_template_areas": null,
       "grid_template_columns": null,
       "grid_template_rows": null,
       "height": null,
       "justify_content": null,
       "justify_items": null,
       "left": null,
       "margin": null,
       "max_height": null,
       "max_width": null,
       "min_height": null,
       "min_width": null,
       "object_fit": null,
       "object_position": null,
       "order": null,
       "overflow": null,
       "overflow_x": null,
       "overflow_y": null,
       "padding": null,
       "right": null,
       "top": null,
       "visibility": null,
       "width": null
      }
     },
     "88e5c8d85c8a4de596ec1756302bf1b4": {
      "model_module": "@jupyter-widgets/controls",
      "model_module_version": "1.5.0",
      "model_name": "DescriptionStyleModel",
      "state": {
       "_model_module": "@jupyter-widgets/controls",
       "_model_module_version": "1.5.0",
       "_model_name": "DescriptionStyleModel",
       "_view_count": null,
       "_view_module": "@jupyter-widgets/base",
       "_view_module_version": "1.2.0",
       "_view_name": "StyleView",
       "description_width": ""
      }
     },
     "93516bae9da942f98dd2825865f1c4bd": {
      "model_module": "@jupyter-widgets/controls",
      "model_module_version": "1.5.0",
      "model_name": "DescriptionStyleModel",
      "state": {
       "_model_module": "@jupyter-widgets/controls",
       "_model_module_version": "1.5.0",
       "_model_name": "DescriptionStyleModel",
       "_view_count": null,
       "_view_module": "@jupyter-widgets/base",
       "_view_module_version": "1.2.0",
       "_view_name": "StyleView",
       "description_width": ""
      }
     },
     "9712eb2bf23b48e3aaf98a5668c676dd": {
      "model_module": "@jupyter-widgets/base",
      "model_module_version": "1.2.0",
      "model_name": "LayoutModel",
      "state": {
       "_model_module": "@jupyter-widgets/base",
       "_model_module_version": "1.2.0",
       "_model_name": "LayoutModel",
       "_view_count": null,
       "_view_module": "@jupyter-widgets/base",
       "_view_module_version": "1.2.0",
       "_view_name": "LayoutView",
       "align_content": null,
       "align_items": null,
       "align_self": null,
       "border": null,
       "bottom": null,
       "display": null,
       "flex": null,
       "flex_flow": null,
       "grid_area": null,
       "grid_auto_columns": null,
       "grid_auto_flow": null,
       "grid_auto_rows": null,
       "grid_column": null,
       "grid_gap": null,
       "grid_row": null,
       "grid_template_areas": null,
       "grid_template_columns": null,
       "grid_template_rows": null,
       "height": null,
       "justify_content": null,
       "justify_items": null,
       "left": null,
       "margin": null,
       "max_height": null,
       "max_width": null,
       "min_height": null,
       "min_width": null,
       "object_fit": null,
       "object_position": null,
       "order": null,
       "overflow": null,
       "overflow_x": null,
       "overflow_y": null,
       "padding": null,
       "right": null,
       "top": null,
       "visibility": null,
       "width": null
      }
     },
     "9bad6a8f0b2f48f3915782017f61c13b": {
      "model_module": "@jupyter-widgets/controls",
      "model_module_version": "1.5.0",
      "model_name": "ProgressStyleModel",
      "state": {
       "_model_module": "@jupyter-widgets/controls",
       "_model_module_version": "1.5.0",
       "_model_name": "ProgressStyleModel",
       "_view_count": null,
       "_view_module": "@jupyter-widgets/base",
       "_view_module_version": "1.2.0",
       "_view_name": "StyleView",
       "bar_color": null,
       "description_width": ""
      }
     },
     "c1d697be9ff44472a46548bf2d5a1d63": {
      "model_module": "@jupyter-widgets/base",
      "model_module_version": "1.2.0",
      "model_name": "LayoutModel",
      "state": {
       "_model_module": "@jupyter-widgets/base",
       "_model_module_version": "1.2.0",
       "_model_name": "LayoutModel",
       "_view_count": null,
       "_view_module": "@jupyter-widgets/base",
       "_view_module_version": "1.2.0",
       "_view_name": "LayoutView",
       "align_content": null,
       "align_items": null,
       "align_self": null,
       "border": null,
       "bottom": null,
       "display": null,
       "flex": null,
       "flex_flow": null,
       "grid_area": null,
       "grid_auto_columns": null,
       "grid_auto_flow": null,
       "grid_auto_rows": null,
       "grid_column": null,
       "grid_gap": null,
       "grid_row": null,
       "grid_template_areas": null,
       "grid_template_columns": null,
       "grid_template_rows": null,
       "height": null,
       "justify_content": null,
       "justify_items": null,
       "left": null,
       "margin": null,
       "max_height": null,
       "max_width": null,
       "min_height": null,
       "min_width": null,
       "object_fit": null,
       "object_position": null,
       "order": null,
       "overflow": null,
       "overflow_x": null,
       "overflow_y": null,
       "padding": null,
       "right": null,
       "top": null,
       "visibility": null,
       "width": null
      }
     },
     "c64b2be974bb41b4baaebd31a128abba": {
      "model_module": "@jupyter-widgets/controls",
      "model_module_version": "1.5.0",
      "model_name": "HTMLModel",
      "state": {
       "_dom_classes": [],
       "_model_module": "@jupyter-widgets/controls",
       "_model_module_version": "1.5.0",
       "_model_name": "HTMLModel",
       "_view_count": null,
       "_view_module": "@jupyter-widgets/controls",
       "_view_module_version": "1.5.0",
       "_view_name": "HTMLView",
       "description": "",
       "description_tooltip": null,
       "layout": "IPY_MODEL_c1d697be9ff44472a46548bf2d5a1d63",
       "placeholder": "​",
       "style": "IPY_MODEL_d778aa3fe6b94dc6a4b29377dfe30b34",
       "value": " 10/10 [00:00&lt;00:00, 12.97it/s]"
      }
     },
     "cc0129e53d244833ab8d167d61397df7": {
      "model_module": "@jupyter-widgets/controls",
      "model_module_version": "1.5.0",
      "model_name": "HTMLModel",
      "state": {
       "_dom_classes": [],
       "_model_module": "@jupyter-widgets/controls",
       "_model_module_version": "1.5.0",
       "_model_name": "HTMLModel",
       "_view_count": null,
       "_view_module": "@jupyter-widgets/controls",
       "_view_module_version": "1.5.0",
       "_view_name": "HTMLView",
       "description": "",
       "description_tooltip": null,
       "layout": "IPY_MODEL_1379392a1ae649f1b32fb1bc2fed3113",
       "placeholder": "​",
       "style": "IPY_MODEL_d0efefae77bd4001bf8b4966ebd12ecd",
       "value": "100%"
      }
     },
     "cc7a65860f944621992ce541b0aa7468": {
      "model_module": "@jupyter-widgets/controls",
      "model_module_version": "1.5.0",
      "model_name": "HBoxModel",
      "state": {
       "_dom_classes": [],
       "_model_module": "@jupyter-widgets/controls",
       "_model_module_version": "1.5.0",
       "_model_name": "HBoxModel",
       "_view_count": null,
       "_view_module": "@jupyter-widgets/controls",
       "_view_module_version": "1.5.0",
       "_view_name": "HBoxView",
       "box_style": "",
       "children": [
        "IPY_MODEL_22c9530188634e1c8199a2d790203ba2",
        "IPY_MODEL_293b2170fc8e415282aebb94bba84564",
        "IPY_MODEL_2894248c4f0c484c99907072cddec883"
       ],
       "layout": "IPY_MODEL_9712eb2bf23b48e3aaf98a5668c676dd"
      }
     },
     "cce6673fcf704f4193ac30778d4fbd0b": {
      "model_module": "@jupyter-widgets/base",
      "model_module_version": "1.2.0",
      "model_name": "LayoutModel",
      "state": {
       "_model_module": "@jupyter-widgets/base",
       "_model_module_version": "1.2.0",
       "_model_name": "LayoutModel",
       "_view_count": null,
       "_view_module": "@jupyter-widgets/base",
       "_view_module_version": "1.2.0",
       "_view_name": "LayoutView",
       "align_content": null,
       "align_items": null,
       "align_self": null,
       "border": null,
       "bottom": null,
       "display": null,
       "flex": null,
       "flex_flow": null,
       "grid_area": null,
       "grid_auto_columns": null,
       "grid_auto_flow": null,
       "grid_auto_rows": null,
       "grid_column": null,
       "grid_gap": null,
       "grid_row": null,
       "grid_template_areas": null,
       "grid_template_columns": null,
       "grid_template_rows": null,
       "height": null,
       "justify_content": null,
       "justify_items": null,
       "left": null,
       "margin": null,
       "max_height": null,
       "max_width": null,
       "min_height": null,
       "min_width": null,
       "object_fit": null,
       "object_position": null,
       "order": null,
       "overflow": null,
       "overflow_x": null,
       "overflow_y": null,
       "padding": null,
       "right": null,
       "top": null,
       "visibility": null,
       "width": null
      }
     },
     "ce072b6bb259435a80dfef62dd038b4c": {
      "model_module": "@jupyter-widgets/base",
      "model_module_version": "1.2.0",
      "model_name": "LayoutModel",
      "state": {
       "_model_module": "@jupyter-widgets/base",
       "_model_module_version": "1.2.0",
       "_model_name": "LayoutModel",
       "_view_count": null,
       "_view_module": "@jupyter-widgets/base",
       "_view_module_version": "1.2.0",
       "_view_name": "LayoutView",
       "align_content": null,
       "align_items": null,
       "align_self": null,
       "border": null,
       "bottom": null,
       "display": null,
       "flex": null,
       "flex_flow": null,
       "grid_area": null,
       "grid_auto_columns": null,
       "grid_auto_flow": null,
       "grid_auto_rows": null,
       "grid_column": null,
       "grid_gap": null,
       "grid_row": null,
       "grid_template_areas": null,
       "grid_template_columns": null,
       "grid_template_rows": null,
       "height": null,
       "justify_content": null,
       "justify_items": null,
       "left": null,
       "margin": null,
       "max_height": null,
       "max_width": null,
       "min_height": null,
       "min_width": null,
       "object_fit": null,
       "object_position": null,
       "order": null,
       "overflow": null,
       "overflow_x": null,
       "overflow_y": null,
       "padding": null,
       "right": null,
       "top": null,
       "visibility": null,
       "width": null
      }
     },
     "cf1fe4a6a66e45dc844fa95573dd764d": {
      "model_module": "@jupyter-widgets/controls",
      "model_module_version": "1.5.0",
      "model_name": "HBoxModel",
      "state": {
       "_dom_classes": [],
       "_model_module": "@jupyter-widgets/controls",
       "_model_module_version": "1.5.0",
       "_model_name": "HBoxModel",
       "_view_count": null,
       "_view_module": "@jupyter-widgets/controls",
       "_view_module_version": "1.5.0",
       "_view_name": "HBoxView",
       "box_style": "",
       "children": [
        "IPY_MODEL_8512a26cf1574f29afb511b27dbfaf3d",
        "IPY_MODEL_85134b51eb8b498bac858e6cf2b8abf9",
        "IPY_MODEL_eb78dba8ddc9440389945fc35f4912e1"
       ],
       "layout": "IPY_MODEL_cce6673fcf704f4193ac30778d4fbd0b"
      }
     },
     "d0efefae77bd4001bf8b4966ebd12ecd": {
      "model_module": "@jupyter-widgets/controls",
      "model_module_version": "1.5.0",
      "model_name": "DescriptionStyleModel",
      "state": {
       "_model_module": "@jupyter-widgets/controls",
       "_model_module_version": "1.5.0",
       "_model_name": "DescriptionStyleModel",
       "_view_count": null,
       "_view_module": "@jupyter-widgets/base",
       "_view_module_version": "1.2.0",
       "_view_name": "StyleView",
       "description_width": ""
      }
     },
     "d778aa3fe6b94dc6a4b29377dfe30b34": {
      "model_module": "@jupyter-widgets/controls",
      "model_module_version": "1.5.0",
      "model_name": "DescriptionStyleModel",
      "state": {
       "_model_module": "@jupyter-widgets/controls",
       "_model_module_version": "1.5.0",
       "_model_name": "DescriptionStyleModel",
       "_view_count": null,
       "_view_module": "@jupyter-widgets/base",
       "_view_module_version": "1.2.0",
       "_view_name": "StyleView",
       "description_width": ""
      }
     },
     "dd29bd33db1a49898b77f372e460d9b2": {
      "model_module": "@jupyter-widgets/controls",
      "model_module_version": "1.5.0",
      "model_name": "DescriptionStyleModel",
      "state": {
       "_model_module": "@jupyter-widgets/controls",
       "_model_module_version": "1.5.0",
       "_model_name": "DescriptionStyleModel",
       "_view_count": null,
       "_view_module": "@jupyter-widgets/base",
       "_view_module_version": "1.2.0",
       "_view_name": "StyleView",
       "description_width": ""
      }
     },
     "eb78dba8ddc9440389945fc35f4912e1": {
      "model_module": "@jupyter-widgets/controls",
      "model_module_version": "1.5.0",
      "model_name": "HTMLModel",
      "state": {
       "_dom_classes": [],
       "_model_module": "@jupyter-widgets/controls",
       "_model_module_version": "1.5.0",
       "_model_name": "HTMLModel",
       "_view_count": null,
       "_view_module": "@jupyter-widgets/controls",
       "_view_module_version": "1.5.0",
       "_view_name": "HTMLView",
       "description": "",
       "description_tooltip": null,
       "layout": "IPY_MODEL_736d23fe2b8e4fba8a0efe061ff68463",
       "placeholder": "​",
       "style": "IPY_MODEL_93516bae9da942f98dd2825865f1c4bd",
       "value": " 42/42 [00:02&lt;00:00, 14.31it/s]"
      }
     },
     "f9c8cede9e464efbad1ed5b42a6f9003": {
      "model_module": "@jupyter-widgets/controls",
      "model_module_version": "1.5.0",
      "model_name": "HTMLModel",
      "state": {
       "_dom_classes": [],
       "_model_module": "@jupyter-widgets/controls",
       "_model_module_version": "1.5.0",
       "_model_name": "HTMLModel",
       "_view_count": null,
       "_view_module": "@jupyter-widgets/controls",
       "_view_module_version": "1.5.0",
       "_view_name": "HTMLView",
       "description": "",
       "description_tooltip": null,
       "layout": "IPY_MODEL_44a9e52f6ce54cda8f374a53d6773bce",
       "placeholder": "​",
       "style": "IPY_MODEL_4b7d90c39fed4198b6c6a2b851b3ee57",
       "value": " 40/40 [00:03&lt;00:00, 13.00it/s]"
      }
     }
    },
    "version_major": 2,
    "version_minor": 0
   }
  }
 },
 "nbformat": 4,
 "nbformat_minor": 5
}
